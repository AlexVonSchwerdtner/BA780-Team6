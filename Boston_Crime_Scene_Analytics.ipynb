{
  "nbformat": 4,
  "nbformat_minor": 0,
  "metadata": {
    "colab": {
      "name": "Boston_Crime_Scene_Analytics.ipynb",
      "provenance": [],
      "collapsed_sections": [],
      "include_colab_link": true
    },
    "kernelspec": {
      "name": "python3",
      "display_name": "Python 3"
    },
    "language_info": {
      "name": "python"
    }
  },
  "cells": [
    {
      "cell_type": "markdown",
      "metadata": {
        "id": "view-in-github",
        "colab_type": "text"
      },
      "source": [
        "<a href=\"https://colab.research.google.com/github/AlexVonSchwerdtner/BA780-Team6/blob/main/Boston_Crime_Scene_Analytics.ipynb\" target=\"_parent\"><img src=\"https://colab.research.google.com/assets/colab-badge.svg\" alt=\"Open In Colab\"/></a>"
      ]
    },
    {
      "cell_type": "markdown",
      "metadata": {
        "id": "tP_ws-rpdNk8"
      },
      "source": [
        "#*BA780 - Team 6*\n",
        "##Team Project - Exploritory Data Analysis\n",
        "\n",
        "#**Boston Crime Scene Analytics**\n",
        "\n",
        "###*Problem definition:*\n",
        "\n",
        "As current students living in the Boston Area we are interested in analyzing the Boston Crime Scene. We would like to analyze and discover what types of crimes are most common, where the different types of crimes are most likely to occur, and if the frequency of crimes change over specific time spans (e.g. day, week & year). Our mission is to answer questions like “where a tourist is most likely to be a victim of a crime at a certain time of day, specific months or seasons of a given year?”\n",
        "\n",
        "## **Data**\n",
        "*Crime Incident Reports (August 2015 - To Date)*\n",
        "\n",
        "The Data was downloaded from Analyze Boston: \n",
        "\n",
        "https://data.boston.gov/dataset/crime-incident-reports-august-2015-to-date-source-new-system\n",
        "\n",
        "*Crime incident reports are provided by Boston Police Department (BPD) to document the initial details surrounding an incident to which BPD officers respond. This is a dataset containing records from the new crime incident report system, which includes a reduced set of fields focused on capturing the type of incident as well as when and where it occurred. Records in the new system begin in June of 2015.*\n",
        "\n",
        "Each row represents a specific crime incident, each column contains crime incident attributes described as below:\n",
        "\n",
        "* **INCIDENT_NUMBER**: Customer ID\n",
        "\n",
        "The data set includes information about:\n",
        "\n",
        "* ......`xxx`....\n",
        "\n",
        "\n",
        "We will be using Python and Seaborn library to plot and analyze the data.\n",
        "\n",
        "**Basic information**:\n",
        "* Only 494,251 rows\n",
        "* There are 20 columns with X features\n",
        "* Only ... missing values."
      ]
    },
    {
      "cell_type": "code",
      "metadata": {
        "colab": {
          "base_uri": "https://localhost:8080/"
        },
        "id": "3DwspDkAfH3x",
        "outputId": "25f63b0f-23dc-45c1-ce6b-bc3237e09546"
      },
      "source": [
        "Crimes_all_years.info()"
      ],
      "execution_count": null,
      "outputs": [
        {
          "output_type": "stream",
          "name": "stdout",
          "text": [
            "<class 'pandas.core.frame.DataFrame'>\n",
            "RangeIndex: 452208 entries, 0 to 452207\n",
            "Data columns (total 17 columns):\n",
            " #   Column               Non-Null Count   Dtype  \n",
            "---  ------               --------------   -----  \n",
            " 0   INCIDENT_NUMBER      452208 non-null  object \n",
            " 1   OFFENSE_CODE         452208 non-null  int64  \n",
            " 2   OFFENSE_CODE_GROUP   452208 non-null  object \n",
            " 3   OFFENSE_DESCRIPTION  452208 non-null  object \n",
            " 4   DISTRICT             449293 non-null  object \n",
            " 5   REPORTING_AREA       452208 non-null  object \n",
            " 6   SHOOTING             141721 non-null  object \n",
            " 7   OCCURRED_ON_DATE     452208 non-null  object \n",
            " 8   YEAR                 452208 non-null  int64  \n",
            " 9   MONTH                452208 non-null  int64  \n",
            " 10  DAY_OF_WEEK          452208 non-null  object \n",
            " 11  HOUR                 452208 non-null  int64  \n",
            " 12  UCR_PART             311110 non-null  object \n",
            " 13  STREET               442052 non-null  object \n",
            " 14  Lat                  432925 non-null  float64\n",
            " 15  Long                 432925 non-null  float64\n",
            " 16  Location             452208 non-null  object \n",
            "dtypes: float64(2), int64(4), object(11)\n",
            "memory usage: 58.7+ MB\n"
          ]
        }
      ]
    },
    {
      "cell_type": "code",
      "metadata": {
        "colab": {
          "base_uri": "https://localhost:8080/",
          "height": 318
        },
        "id": "HyDos6gEdBFJ",
        "outputId": "6ce7440a-9f44-4e43-b550-e745255b6692"
      },
      "source": [
        "Crimes_all_years.head()"
      ],
      "execution_count": null,
      "outputs": [
        {
          "output_type": "execute_result",
          "data": {
            "text/html": [
              "<div>\n",
              "<style scoped>\n",
              "    .dataframe tbody tr th:only-of-type {\n",
              "        vertical-align: middle;\n",
              "    }\n",
              "\n",
              "    .dataframe tbody tr th {\n",
              "        vertical-align: top;\n",
              "    }\n",
              "\n",
              "    .dataframe thead th {\n",
              "        text-align: right;\n",
              "    }\n",
              "</style>\n",
              "<table border=\"1\" class=\"dataframe\">\n",
              "  <thead>\n",
              "    <tr style=\"text-align: right;\">\n",
              "      <th></th>\n",
              "      <th>INCIDENT_NUMBER</th>\n",
              "      <th>OFFENSE_CODE</th>\n",
              "      <th>OFFENSE_CODE_GROUP</th>\n",
              "      <th>OFFENSE_DESCRIPTION</th>\n",
              "      <th>DISTRICT</th>\n",
              "      <th>...</th>\n",
              "      <th>UCR_PART</th>\n",
              "      <th>STREET</th>\n",
              "      <th>Lat</th>\n",
              "      <th>Long</th>\n",
              "      <th>Location</th>\n",
              "    </tr>\n",
              "  </thead>\n",
              "  <tbody>\n",
              "    <tr>\n",
              "      <th>0</th>\n",
              "      <td>I192068249</td>\n",
              "      <td>2647</td>\n",
              "      <td>Other</td>\n",
              "      <td>THREATS TO DO BODILY HARM</td>\n",
              "      <td>B2</td>\n",
              "      <td>...</td>\n",
              "      <td>Part Two</td>\n",
              "      <td>WASHINGTON ST</td>\n",
              "      <td>42.330119</td>\n",
              "      <td>-71.084251</td>\n",
              "      <td>(42.33011862, -71.08425106)</td>\n",
              "    </tr>\n",
              "    <tr>\n",
              "      <th>1</th>\n",
              "      <td>I192061894</td>\n",
              "      <td>1106</td>\n",
              "      <td>Confidence Games</td>\n",
              "      <td>FRAUD - CREDIT CARD / ATM FRAUD</td>\n",
              "      <td>C11</td>\n",
              "      <td>...</td>\n",
              "      <td>Part Two</td>\n",
              "      <td>CHARLES ST</td>\n",
              "      <td>42.300605</td>\n",
              "      <td>-71.061268</td>\n",
              "      <td>(42.30060543, -71.06126785)</td>\n",
              "    </tr>\n",
              "    <tr>\n",
              "      <th>2</th>\n",
              "      <td>I192038828</td>\n",
              "      <td>1107</td>\n",
              "      <td>Fraud</td>\n",
              "      <td>FRAUD - IMPERSONATION</td>\n",
              "      <td>A1</td>\n",
              "      <td>...</td>\n",
              "      <td>Part Two</td>\n",
              "      <td>ALBANY ST</td>\n",
              "      <td>42.334288</td>\n",
              "      <td>-71.072395</td>\n",
              "      <td>(42.33428841, -71.07239518)</td>\n",
              "    </tr>\n",
              "    <tr>\n",
              "      <th>3</th>\n",
              "      <td>I192008877</td>\n",
              "      <td>1107</td>\n",
              "      <td>Fraud</td>\n",
              "      <td>FRAUD - IMPERSONATION</td>\n",
              "      <td>E18</td>\n",
              "      <td>...</td>\n",
              "      <td>Part Two</td>\n",
              "      <td>WINGATE RD</td>\n",
              "      <td>42.237009</td>\n",
              "      <td>-71.129566</td>\n",
              "      <td>(42.23700950, -71.12956606)</td>\n",
              "    </tr>\n",
              "    <tr>\n",
              "      <th>4</th>\n",
              "      <td>I182090828</td>\n",
              "      <td>1102</td>\n",
              "      <td>Fraud</td>\n",
              "      <td>FRAUD - FALSE PRETENSE / SCHEME</td>\n",
              "      <td>D4</td>\n",
              "      <td>...</td>\n",
              "      <td>Part Two</td>\n",
              "      <td>UPTON ST</td>\n",
              "      <td>42.342432</td>\n",
              "      <td>-71.072258</td>\n",
              "      <td>(42.34243222, -71.07225766)</td>\n",
              "    </tr>\n",
              "  </tbody>\n",
              "</table>\n",
              "<p>5 rows × 17 columns</p>\n",
              "</div>"
            ],
            "text/plain": [
              "  INCIDENT_NUMBER  OFFENSE_CODE OFFENSE_CODE_GROUP  \\\n",
              "0      I192068249          2647              Other   \n",
              "1      I192061894          1106   Confidence Games   \n",
              "2      I192038828          1107              Fraud   \n",
              "3      I192008877          1107              Fraud   \n",
              "4      I182090828          1102              Fraud   \n",
              "\n",
              "               OFFENSE_DESCRIPTION DISTRICT  ...  UCR_PART         STREET  \\\n",
              "0        THREATS TO DO BODILY HARM       B2  ...  Part Two  WASHINGTON ST   \n",
              "1  FRAUD - CREDIT CARD / ATM FRAUD      C11  ...  Part Two     CHARLES ST   \n",
              "2            FRAUD - IMPERSONATION       A1  ...  Part Two      ALBANY ST   \n",
              "3            FRAUD - IMPERSONATION      E18  ...  Part Two     WINGATE RD   \n",
              "4  FRAUD - FALSE PRETENSE / SCHEME       D4  ...  Part Two       UPTON ST   \n",
              "\n",
              "         Lat       Long                     Location  \n",
              "0  42.330119 -71.084251  (42.33011862, -71.08425106)  \n",
              "1  42.300605 -71.061268  (42.30060543, -71.06126785)  \n",
              "2  42.334288 -71.072395  (42.33428841, -71.07239518)  \n",
              "3  42.237009 -71.129566  (42.23700950, -71.12956606)  \n",
              "4  42.342432 -71.072258  (42.34243222, -71.07225766)  \n",
              "\n",
              "[5 rows x 17 columns]"
            ]
          },
          "metadata": {},
          "execution_count": 36
        }
      ]
    },
    {
      "cell_type": "code",
      "metadata": {
        "colab": {
          "base_uri": "https://localhost:8080/"
        },
        "id": "AxYZtATZfJnE",
        "outputId": "f07041c8-1449-4b3f-f4fb-c6d72b39269d"
      },
      "source": [
        "offense_codes.info()"
      ],
      "execution_count": null,
      "outputs": [
        {
          "output_type": "stream",
          "name": "stdout",
          "text": [
            "<class 'pandas.core.frame.DataFrame'>\n",
            "RangeIndex: 425 entries, 0 to 424\n",
            "Data columns (total 2 columns):\n",
            " #   Column  Non-Null Count  Dtype \n",
            "---  ------  --------------  ----- \n",
            " 0   CODE    425 non-null    int64 \n",
            " 1   NAME    425 non-null    object\n",
            "dtypes: int64(1), object(1)\n",
            "memory usage: 6.8+ KB\n"
          ]
        }
      ]
    },
    {
      "cell_type": "code",
      "metadata": {
        "colab": {
          "base_uri": "https://localhost:8080/",
          "height": 204
        },
        "id": "hOURqKtUdAKT",
        "outputId": "d0a52eb3-f42d-4f60-d087-0a0efbed0792"
      },
      "source": [
        "offense_codes.head()"
      ],
      "execution_count": null,
      "outputs": [
        {
          "output_type": "execute_result",
          "data": {
            "text/html": [
              "<div>\n",
              "<style scoped>\n",
              "    .dataframe tbody tr th:only-of-type {\n",
              "        vertical-align: middle;\n",
              "    }\n",
              "\n",
              "    .dataframe tbody tr th {\n",
              "        vertical-align: top;\n",
              "    }\n",
              "\n",
              "    .dataframe thead th {\n",
              "        text-align: right;\n",
              "    }\n",
              "</style>\n",
              "<table border=\"1\" class=\"dataframe\">\n",
              "  <thead>\n",
              "    <tr style=\"text-align: right;\">\n",
              "      <th></th>\n",
              "      <th>CODE</th>\n",
              "      <th>NAME</th>\n",
              "    </tr>\n",
              "  </thead>\n",
              "  <tbody>\n",
              "    <tr>\n",
              "      <th>0</th>\n",
              "      <td>612</td>\n",
              "      <td>LARCENY PURSE SNATCH - NO FORCE</td>\n",
              "    </tr>\n",
              "    <tr>\n",
              "      <th>1</th>\n",
              "      <td>613</td>\n",
              "      <td>LARCENY SHOPLIFTING</td>\n",
              "    </tr>\n",
              "    <tr>\n",
              "      <th>2</th>\n",
              "      <td>615</td>\n",
              "      <td>LARCENY THEFT OF MV PARTS &amp; ACCESSORIES</td>\n",
              "    </tr>\n",
              "    <tr>\n",
              "      <th>3</th>\n",
              "      <td>1731</td>\n",
              "      <td>INCEST</td>\n",
              "    </tr>\n",
              "    <tr>\n",
              "      <th>4</th>\n",
              "      <td>3111</td>\n",
              "      <td>LICENSE PREMISE VIOLATION</td>\n",
              "    </tr>\n",
              "  </tbody>\n",
              "</table>\n",
              "</div>"
            ],
            "text/plain": [
              "   CODE                                     NAME\n",
              "0   612         LARCENY PURSE SNATCH - NO FORCE \n",
              "1   613                      LARCENY SHOPLIFTING\n",
              "2   615  LARCENY THEFT OF MV PARTS & ACCESSORIES\n",
              "3  1731                                   INCEST\n",
              "4  3111                LICENSE PREMISE VIOLATION"
            ]
          },
          "metadata": {},
          "execution_count": 38
        }
      ]
    },
    {
      "cell_type": "markdown",
      "metadata": {
        "id": "w0O9cw_YfV6p"
      },
      "source": [
        "# **Setup**"
      ]
    },
    {
      "cell_type": "markdown",
      "metadata": {
        "id": "A5KL8Gzcx025"
      },
      "source": [
        "## *Importing Required Packages*"
      ]
    },
    {
      "cell_type": "code",
      "metadata": {
        "id": "oCpzTuZRiHMv"
      },
      "source": [
        "import numpy as np\n",
        "import pandas as pd\n",
        "import matplotlib.pyplot as plt\n",
        "import seaborn as sns\n",
        "import folium\n",
        "from folium import Choropleth, Circle, Marker\n",
        "from folium.plugins import HeatMap, MarkerCluster\n",
        "%matplotlib inline\n",
        "pd.set_option('display.max_rows',10)\n",
        "pd.set_option('display.max_columns',10)"
      ],
      "execution_count": 1,
      "outputs": []
    },
    {
      "cell_type": "markdown",
      "metadata": {
        "id": "XZIzJF5tmHO6"
      },
      "source": [
        "## *Reading all files to the environment from GoogleCloudStorage Bucket*"
      ]
    },
    {
      "cell_type": "code",
      "metadata": {
        "id": "sun1XOGQ8aCa"
      },
      "source": [
        "from google.cloud import storage\n",
        "from google.colab import auth\n",
        "auth.authenticate_user()"
      ],
      "execution_count": null,
      "outputs": []
    },
    {
      "cell_type": "code",
      "metadata": {
        "id": "YEU5WkHn2Ou8"
      },
      "source": [
        "def download_blob(project_id, bucket_name, source_blob_name, destination_file_name):\n",
        "    \"\"\"Downloads a blob from the bucket.\"\"\"\n",
        "    # project_id = \"your-project-id\"\n",
        "    # bucket_name = \"your-bucket-name\"\n",
        "    # source_blob_name = \"storage-object-name\"\n",
        "    # destination_file_name = \"local/path/to/file\"\n",
        "\n",
        "    storage_client = storage.Client(project_id)\n",
        "\n",
        "    bucket = storage_client.bucket(bucket_name)\n",
        "    blob = bucket.blob(source_blob_name)\n",
        "    blob.download_to_filename(destination_file_name)\n",
        "\n",
        "    print(\n",
        "        \"Blob {} downloaded to {}.\".format(\n",
        "            source_blob_name, destination_file_name\n",
        "        )\n",
        "    )"
      ],
      "execution_count": null,
      "outputs": []
    },
    {
      "cell_type": "code",
      "metadata": {
        "colab": {
          "base_uri": "https://localhost:8080/"
        },
        "id": "b0ohWZjTYoOr",
        "outputId": "f4a8877f-0c3b-4b63-ebcb-54c13d40980f"
      },
      "source": [
        "download_blob(project_id='ba-780-team6-a1', bucket_name='ba780-team6-a1', \n",
        "              source_blob_name='rmsoffensecodes.xlsx', \n",
        "              destination_file_name='rmsoffensecodes.xlsx')"
      ],
      "execution_count": null,
      "outputs": [
        {
          "output_type": "stream",
          "name": "stdout",
          "text": [
            "Blob rmsoffensecodes.xlsx downloaded to rmsoffensecodes.xlsx.\n"
          ]
        }
      ]
    },
    {
      "cell_type": "code",
      "metadata": {
        "colab": {
          "base_uri": "https://localhost:8080/"
        },
        "id": "mRu0OGHR3rR8",
        "outputId": "cd56866a-90c7-4702-9b8b-6de71da90140"
      },
      "source": [
        "download_blob(project_id='ba-780-team6-a1', bucket_name='ba780-team6-a1', \n",
        "              source_blob_name='crime-incident-reports-2015.csv', \n",
        "              destination_file_name='crime-incident-reports-2015.csv')"
      ],
      "execution_count": null,
      "outputs": [
        {
          "output_type": "stream",
          "name": "stdout",
          "text": [
            "Blob crime-incident-reports-2015.csv downloaded to crime-incident-reports-2015.csv.\n"
          ]
        }
      ]
    },
    {
      "cell_type": "code",
      "metadata": {
        "colab": {
          "base_uri": "https://localhost:8080/"
        },
        "id": "bsaroaxaYz1y",
        "outputId": "29bafa34-8a2d-40bd-a559-54d9b2a0d13d"
      },
      "source": [
        "download_blob(project_id='ba-780-team6-a1', bucket_name='ba780-team6-a1', \n",
        "              source_blob_name='crime-incident-reports-2016.csv', \n",
        "              destination_file_name='crime-incident-reports-2016.csv')"
      ],
      "execution_count": null,
      "outputs": [
        {
          "output_type": "stream",
          "name": "stdout",
          "text": [
            "Blob crime-incident-reports-2016.csv downloaded to crime-incident-reports-2016.csv.\n"
          ]
        }
      ]
    },
    {
      "cell_type": "code",
      "metadata": {
        "colab": {
          "base_uri": "https://localhost:8080/"
        },
        "id": "0mi94qo-Y1Zk",
        "outputId": "02c65f02-e50c-4ead-bbf1-4ff34fcd230b"
      },
      "source": [
        "download_blob(project_id='ba-780-team6-a1', bucket_name='ba780-team6-a1', \n",
        "              source_blob_name='crime-incident-reports-2017.csv', \n",
        "              destination_file_name='crime-incident-reports-2017.csv')"
      ],
      "execution_count": null,
      "outputs": [
        {
          "output_type": "stream",
          "name": "stdout",
          "text": [
            "Blob crime-incident-reports-2017.csv downloaded to crime-incident-reports-2017.csv.\n"
          ]
        }
      ]
    },
    {
      "cell_type": "code",
      "metadata": {
        "colab": {
          "base_uri": "https://localhost:8080/"
        },
        "id": "G2kC-orLY2s0",
        "outputId": "a8d72cff-d13c-41f0-ce7c-720502bb8235"
      },
      "source": [
        "download_blob(project_id='ba-780-team6-a1', bucket_name='ba780-team6-a1', \n",
        "              source_blob_name='crime-incident-reports-2018.csv', \n",
        "              destination_file_name='crime-incident-reports-2018.csv')"
      ],
      "execution_count": null,
      "outputs": [
        {
          "output_type": "stream",
          "name": "stdout",
          "text": [
            "Blob crime-incident-reports-2018.csv downloaded to crime-incident-reports-2018.csv.\n"
          ]
        }
      ]
    },
    {
      "cell_type": "code",
      "metadata": {
        "colab": {
          "base_uri": "https://localhost:8080/"
        },
        "id": "h7nzPno6Y27R",
        "outputId": "793ff315-f69c-49b1-e4bb-bb2a4f5710e3"
      },
      "source": [
        "download_blob(project_id='ba-780-team6-a1', bucket_name='ba780-team6-a1', \n",
        "              source_blob_name='crime-incident-reports-2019.csv', \n",
        "              destination_file_name='crime-incident-reports-2019.csv')"
      ],
      "execution_count": null,
      "outputs": [
        {
          "output_type": "stream",
          "name": "stdout",
          "text": [
            "Blob crime-incident-reports-2019.csv downloaded to crime-incident-reports-2019.csv.\n"
          ]
        }
      ]
    },
    {
      "cell_type": "code",
      "metadata": {
        "colab": {
          "base_uri": "https://localhost:8080/"
        },
        "id": "4GWANCe3Y3Ic",
        "outputId": "5b6fecf9-12a9-4430-b066-015be20b9902"
      },
      "source": [
        "download_blob(project_id='ba-780-team6-a1', bucket_name='ba780-team6-a1', \n",
        "              source_blob_name='crime-incident-reports-2020.csv', \n",
        "              destination_file_name='crime-incident-reports-2020.csv')"
      ],
      "execution_count": null,
      "outputs": [
        {
          "output_type": "stream",
          "name": "stdout",
          "text": [
            "Blob crime-incident-reports-2020.csv downloaded to crime-incident-reports-2020.csv.\n"
          ]
        }
      ]
    },
    {
      "cell_type": "code",
      "metadata": {
        "colab": {
          "base_uri": "https://localhost:8080/"
        },
        "id": "na9m7gHOY3UT",
        "outputId": "8280371c-b047-4728-cc66-9c6165d6c0f0"
      },
      "source": [
        "download_blob(project_id='ba-780-team6-a1', bucket_name='ba780-team6-a1', \n",
        "              source_blob_name='crime-incident-reports-2021.csv', \n",
        "              destination_file_name='crime-incident-reports-2021.csv')"
      ],
      "execution_count": null,
      "outputs": [
        {
          "output_type": "stream",
          "name": "stdout",
          "text": [
            "Blob crime-incident-reports-2021.csv downloaded to crime-incident-reports-2021.csv.\n"
          ]
        }
      ]
    },
    {
      "cell_type": "markdown",
      "metadata": {
        "id": "pR0FIUwRZMsP"
      },
      "source": [
        "## *Loading Data to variables*"
      ]
    },
    {
      "cell_type": "code",
      "metadata": {
        "colab": {
          "base_uri": "https://localhost:8080/"
        },
        "id": "QgcHk2ZnX_NH",
        "outputId": "a9f3be70-64ae-4e2f-eef7-6a57694c71bf"
      },
      "source": [
        "# reading the crime data sets to the environement\n",
        "crimes2015 = pd.read_csv('crime-incident-reports-2015.csv')\n",
        "crimes2016 = pd.read_csv('crime-incident-reports-2016.csv')\n",
        "crimes2017 = pd.read_csv('crime-incident-reports-2017.csv')\n",
        "crimes2018 = pd.read_csv('crime-incident-reports-2018.csv')\n",
        "crimes2019 = pd.read_csv('crime-incident-reports-2019.csv')\n",
        "crimes2020 = pd.read_csv('crime-incident-reports-2020.csv')\n",
        "crimes2021 = pd.read_csv('crime-incident-reports-2021.csv')"
      ],
      "execution_count": null,
      "outputs": [
        {
          "output_type": "stream",
          "name": "stderr",
          "text": [
            "/usr/local/lib/python3.7/dist-packages/IPython/core/interactiveshell.py:2718: DtypeWarning: Columns (0) have mixed types.Specify dtype option on import or set low_memory=False.\n",
            "  interactivity=interactivity, compiler=compiler, result=result)\n"
          ]
        }
      ]
    },
    {
      "cell_type": "code",
      "metadata": {
        "id": "E_nkmOXCOfIS"
      },
      "source": [
        "# reading the offense codes to the environment\n",
        "offense_codes = pd.read_excel('rmsoffensecodes.xlsx')"
      ],
      "execution_count": null,
      "outputs": []
    },
    {
      "cell_type": "markdown",
      "metadata": {
        "id": "cCreplBzYc2p"
      },
      "source": [
        "## *Concatenating all crime datasets (Years 2015 - 2021)*"
      ]
    },
    {
      "cell_type": "code",
      "metadata": {
        "id": "2M5wnN-iYarP"
      },
      "source": [
        "# concatenating all crime datasets\n",
        "frames = [crimes2015,crimes2016,crimes2017,crimes2018,crimes2019,crimes2020,crimes2021]\n",
        "Crimes_all_years = pd.concat(frames)"
      ],
      "execution_count": null,
      "outputs": []
    },
    {
      "cell_type": "code",
      "metadata": {
        "colab": {
          "base_uri": "https://localhost:8080/"
        },
        "id": "CdhmtYiWhEhw",
        "outputId": "f96ac359-9c6f-4482-c6f3-18f8a5535109"
      },
      "source": [
        "# Checking for the most recent month\n",
        "Crimes_all_years.loc[(Crimes_all_years['YEAR']==Crimes_all_years['YEAR'].max())&(Crimes_all_years['MONTH']==Crimes_all_years['MONTH'].max()) &(Crimes_all_years['DAY_OF_WEEK']==Crimes_all_years['DAY_OF_WEEK'].max())]"
      ],
      "execution_count": null,
      "outputs": [
        {
          "output_type": "execute_result",
          "data": {
            "text/html": [
              "<div>\n",
              "<style scoped>\n",
              "    .dataframe tbody tr th:only-of-type {\n",
              "        vertical-align: middle;\n",
              "    }\n",
              "\n",
              "    .dataframe tbody tr th {\n",
              "        vertical-align: top;\n",
              "    }\n",
              "\n",
              "    .dataframe thead th {\n",
              "        text-align: right;\n",
              "    }\n",
              "</style>\n",
              "<table border=\"1\" class=\"dataframe\">\n",
              "  <thead>\n",
              "    <tr style=\"text-align: right;\">\n",
              "      <th></th>\n",
              "      <th>INCIDENT_NUMBER</th>\n",
              "      <th>OFFENSE_CODE</th>\n",
              "      <th>OFFENSE_CODE_GROUP</th>\n",
              "      <th>OFFENSE_DESCRIPTION</th>\n",
              "      <th>DISTRICT</th>\n",
              "      <th>...</th>\n",
              "      <th>UCR_PART</th>\n",
              "      <th>STREET</th>\n",
              "      <th>Lat</th>\n",
              "      <th>Long</th>\n",
              "      <th>Location</th>\n",
              "    </tr>\n",
              "  </thead>\n",
              "  <tbody>\n",
              "  </tbody>\n",
              "</table>\n",
              "<p>0 rows × 17 columns</p>\n",
              "</div>"
            ],
            "text/plain": [
              "Empty DataFrame\n",
              "Columns: [INCIDENT_NUMBER, OFFENSE_CODE, OFFENSE_CODE_GROUP, OFFENSE_DESCRIPTION, DISTRICT, REPORTING_AREA, SHOOTING, OCCURRED_ON_DATE, YEAR, MONTH, DAY_OF_WEEK, HOUR, UCR_PART, STREET, Lat, Long, Location]\n",
              "Index: []\n",
              "\n",
              "[0 rows x 17 columns]"
            ]
          },
          "metadata": {},
          "execution_count": 21
        }
      ]
    },
    {
      "cell_type": "markdown",
      "metadata": {
        "id": "8p0PeHvpeJQI"
      },
      "source": [
        "# **Data Cleaning**"
      ]
    },
    {
      "cell_type": "markdown",
      "metadata": {
        "id": "0ttbUq2id2vo"
      },
      "source": [
        "### Data Cleaning in Offense Code Dataset"
      ]
    },
    {
      "cell_type": "code",
      "metadata": {
        "colab": {
          "base_uri": "https://localhost:8080/"
        },
        "id": "z85UI5_-XZLU",
        "outputId": "f2d9896f-60e9-40aa-d68e-56581849877d"
      },
      "source": [
        "# Number of unique offense codes\n",
        "len(offense_codes['CODE'].unique())"
      ],
      "execution_count": null,
      "outputs": [
        {
          "output_type": "execute_result",
          "data": {
            "text/plain": [
              "425"
            ]
          },
          "metadata": {},
          "execution_count": 22
        }
      ]
    },
    {
      "cell_type": "code",
      "metadata": {
        "colab": {
          "base_uri": "https://localhost:8080/"
        },
        "id": "Rv6VUy7mUU2u",
        "outputId": "e737e8cf-c4fc-4152-8c6c-53d494d9ee3f"
      },
      "source": [
        "# checking for duplicates\n",
        "print(len(offense_codes))\n",
        "print(len(offense_codes.drop_duplicates(subset='CODE', keep='first')))"
      ],
      "execution_count": null,
      "outputs": [
        {
          "output_type": "stream",
          "name": "stdout",
          "text": [
            "576\n",
            "425\n"
          ]
        }
      ]
    },
    {
      "cell_type": "code",
      "metadata": {
        "colab": {
          "base_uri": "https://localhost:8080/"
        },
        "id": "KIM2T52_XtIB",
        "outputId": "79cfdeca-746b-4230-d821-c10fde990ed4"
      },
      "source": [
        "offense_codes.duplicated"
      ],
      "execution_count": null,
      "outputs": [
        {
          "output_type": "execute_result",
          "data": {
            "text/plain": [
              "<bound method DataFrame.duplicated of      CODE                                       NAME\n",
              "0     612           LARCENY PURSE SNATCH - NO FORCE \n",
              "1     613                        LARCENY SHOPLIFTING\n",
              "2     615    LARCENY THEFT OF MV PARTS & ACCESSORIES\n",
              "3    1731                                     INCEST\n",
              "4    3111                  LICENSE PREMISE VIOLATION\n",
              "..    ...                                        ...\n",
              "571  1806  DRUGS - CLASS B TRAFFICKING OVER 18 GRAMS\n",
              "572  1807  DRUGS - CLASS D TRAFFICKING OVER 50 GRAMS\n",
              "573  1610    HUMAN TRAFFICKING - COMMERCIAL SEX ACTS\n",
              "574  2010                              HOME INVASION\n",
              "575  1620  HUMAN TRAFFICKING - INVOLUNTARY SERVITUDE\n",
              "\n",
              "[576 rows x 2 columns]>"
            ]
          },
          "metadata": {},
          "execution_count": 24
        }
      ]
    },
    {
      "cell_type": "code",
      "metadata": {
        "colab": {
          "base_uri": "https://localhost:8080/"
        },
        "id": "eC2fiw-CJ40_",
        "outputId": "2b382d08-9830-45d2-ca78-0bb3d75a7896"
      },
      "source": [
        "duplicated_codes = offense_codes[offense_codes.duplicated()]\n",
        "duplicated_codes"
      ],
      "execution_count": null,
      "outputs": [
        {
          "output_type": "execute_result",
          "data": {
            "text/html": [
              "<div>\n",
              "<style scoped>\n",
              "    .dataframe tbody tr th:only-of-type {\n",
              "        vertical-align: middle;\n",
              "    }\n",
              "\n",
              "    .dataframe tbody tr th {\n",
              "        vertical-align: top;\n",
              "    }\n",
              "\n",
              "    .dataframe thead th {\n",
              "        text-align: right;\n",
              "    }\n",
              "</style>\n",
              "<table border=\"1\" class=\"dataframe\">\n",
              "  <thead>\n",
              "    <tr style=\"text-align: right;\">\n",
              "      <th></th>\n",
              "      <th>CODE</th>\n",
              "      <th>NAME</th>\n",
              "    </tr>\n",
              "  </thead>\n",
              "  <tbody>\n",
              "    <tr>\n",
              "      <th>184</th>\n",
              "      <td>112</td>\n",
              "      <td>KILLING OF FELON BY POLICE</td>\n",
              "    </tr>\n",
              "    <tr>\n",
              "      <th>185</th>\n",
              "      <td>114</td>\n",
              "      <td>KILLING OF POLICE BY FELON</td>\n",
              "    </tr>\n",
              "    <tr>\n",
              "      <th>186</th>\n",
              "      <td>121</td>\n",
              "      <td>MANSLAUGHTER - VEHICLE - NEGLIGENCE</td>\n",
              "    </tr>\n",
              "    <tr>\n",
              "      <th>188</th>\n",
              "      <td>123</td>\n",
              "      <td>MANSLAUGHTER - NON-VEHICLE - NEGLIGENCE</td>\n",
              "    </tr>\n",
              "    <tr>\n",
              "      <th>329</th>\n",
              "      <td>724</td>\n",
              "      <td>AUTO THEFT</td>\n",
              "    </tr>\n",
              "    <tr>\n",
              "      <th>...</th>\n",
              "      <td>...</td>\n",
              "      <td>...</td>\n",
              "    </tr>\n",
              "    <tr>\n",
              "      <th>562</th>\n",
              "      <td>1849</td>\n",
              "      <td>DRUGS - POSS CLASS B - COCAINE, ETC.</td>\n",
              "    </tr>\n",
              "    <tr>\n",
              "      <th>563</th>\n",
              "      <td>3119</td>\n",
              "      <td>FIREARM/WEAPON - FOUND OR CONFISCATED</td>\n",
              "    </tr>\n",
              "    <tr>\n",
              "      <th>564</th>\n",
              "      <td>1103</td>\n",
              "      <td>CONFIDENCE GAMES</td>\n",
              "    </tr>\n",
              "    <tr>\n",
              "      <th>565</th>\n",
              "      <td>2608</td>\n",
              "      <td>CHINS</td>\n",
              "    </tr>\n",
              "    <tr>\n",
              "      <th>569</th>\n",
              "      <td>2631</td>\n",
              "      <td>PROPERTY - CONCEALING LEASED</td>\n",
              "    </tr>\n",
              "  </tbody>\n",
              "</table>\n",
              "<p>83 rows × 2 columns</p>\n",
              "</div>"
            ],
            "text/plain": [
              "     CODE                                     NAME\n",
              "184   112               KILLING OF FELON BY POLICE\n",
              "185   114               KILLING OF POLICE BY FELON\n",
              "186   121      MANSLAUGHTER - VEHICLE - NEGLIGENCE\n",
              "188   123  MANSLAUGHTER - NON-VEHICLE - NEGLIGENCE\n",
              "329   724                               AUTO THEFT\n",
              "..    ...                                      ...\n",
              "562  1849     DRUGS - POSS CLASS B - COCAINE, ETC.\n",
              "563  3119    FIREARM/WEAPON - FOUND OR CONFISCATED\n",
              "564  1103                         CONFIDENCE GAMES\n",
              "565  2608                                    CHINS\n",
              "569  2631             PROPERTY - CONCEALING LEASED\n",
              "\n",
              "[83 rows x 2 columns]"
            ]
          },
          "metadata": {},
          "execution_count": 25
        }
      ]
    },
    {
      "cell_type": "code",
      "metadata": {
        "id": "rFxfUWu2Uhuk"
      },
      "source": [
        "# dropping duplicates\n",
        "offense_codes = offense_codes.drop_duplicates(subset='CODE', keep='first').reset_index(drop=True)"
      ],
      "execution_count": null,
      "outputs": []
    },
    {
      "cell_type": "markdown",
      "metadata": {
        "id": "kEvi4ZEadwO-"
      },
      "source": [
        "### Data Cleaning in Crime Dataset"
      ]
    },
    {
      "cell_type": "code",
      "metadata": {
        "colab": {
          "base_uri": "https://localhost:8080/"
        },
        "id": "TxcvfKHrdfRQ",
        "outputId": "f0d6520f-323b-49de-dbf8-de8a82e792b3"
      },
      "source": [
        "# Number of unique crime incidents\n",
        "len(Crimes_all_years['INCIDENT_NUMBER'].unique())"
      ],
      "execution_count": null,
      "outputs": [
        {
          "output_type": "execute_result",
          "data": {
            "text/plain": [
              "452208"
            ]
          },
          "metadata": {},
          "execution_count": 27
        }
      ]
    },
    {
      "cell_type": "code",
      "metadata": {
        "colab": {
          "base_uri": "https://localhost:8080/"
        },
        "id": "kr22ftHsC5mE",
        "outputId": "efd3e95a-90bd-4c07-81f7-6eaf1c93005d"
      },
      "source": [
        "# checking for duplicates\n",
        "print(len(Crimes_all_years))\n",
        "print(len(Crimes_all_years.drop_duplicates(subset='INCIDENT_NUMBER', keep='first')))"
      ],
      "execution_count": null,
      "outputs": [
        {
          "output_type": "stream",
          "name": "stdout",
          "text": [
            "494281\n",
            "452208\n"
          ]
        }
      ]
    },
    {
      "cell_type": "code",
      "metadata": {
        "id": "mQhIjPtZDZnw"
      },
      "source": [
        "# dropping duplicates\n",
        "Crimes_all_years = Crimes_all_years.drop_duplicates(subset='INCIDENT_NUMBER', keep='first').reset_index(drop=True)"
      ],
      "execution_count": null,
      "outputs": []
    },
    {
      "cell_type": "code",
      "metadata": {
        "id": "G3knYgbLzua_"
      },
      "source": [
        "# filling the NA's in the 'OFFENSE_CODE_GROUP' to \"Other\"\n",
        "Crimes_all_years['OFFENSE_CODE_GROUP']= Crimes_all_years['OFFENSE_CODE_GROUP'].fillna(\"Other\")"
      ],
      "execution_count": null,
      "outputs": []
    },
    {
      "cell_type": "code",
      "metadata": {
        "colab": {
          "base_uri": "https://localhost:8080/"
        },
        "id": "vMlncK6jzxJ_",
        "outputId": "deeb46ec-0c99-4f95-d936-62e9be9f197a"
      },
      "source": [
        "Crimes_all_years.isna().sum()"
      ],
      "execution_count": null,
      "outputs": [
        {
          "output_type": "execute_result",
          "data": {
            "text/plain": [
              "INCIDENT_NUMBER             0\n",
              "OFFENSE_CODE                0\n",
              "OFFENSE_CODE_GROUP          0\n",
              "OFFENSE_DESCRIPTION         0\n",
              "DISTRICT                 2915\n",
              "                        ...  \n",
              "UCR_PART               141098\n",
              "STREET                  10156\n",
              "Lat                     19283\n",
              "Long                    19283\n",
              "Location                    0\n",
              "Length: 17, dtype: int64"
            ]
          },
          "metadata": {},
          "execution_count": 31
        }
      ]
    },
    {
      "cell_type": "code",
      "metadata": {
        "id": "Lg1CzU--DqXV",
        "colab": {
          "base_uri": "https://localhost:8080/"
        },
        "outputId": "0e622811-e631-489c-e96b-5e0d3c9184d3"
      },
      "source": [
        "# missing values in Lat column\n",
        "Crimes_all_years[Crimes_all_years['Lat'].isnull()]"
      ],
      "execution_count": null,
      "outputs": [
        {
          "output_type": "execute_result",
          "data": {
            "text/html": [
              "<div>\n",
              "<style scoped>\n",
              "    .dataframe tbody tr th:only-of-type {\n",
              "        vertical-align: middle;\n",
              "    }\n",
              "\n",
              "    .dataframe tbody tr th {\n",
              "        vertical-align: top;\n",
              "    }\n",
              "\n",
              "    .dataframe thead th {\n",
              "        text-align: right;\n",
              "    }\n",
              "</style>\n",
              "<table border=\"1\" class=\"dataframe\">\n",
              "  <thead>\n",
              "    <tr style=\"text-align: right;\">\n",
              "      <th></th>\n",
              "      <th>INCIDENT_NUMBER</th>\n",
              "      <th>OFFENSE_CODE</th>\n",
              "      <th>OFFENSE_CODE_GROUP</th>\n",
              "      <th>OFFENSE_DESCRIPTION</th>\n",
              "      <th>DISTRICT</th>\n",
              "      <th>...</th>\n",
              "      <th>UCR_PART</th>\n",
              "      <th>STREET</th>\n",
              "      <th>Lat</th>\n",
              "      <th>Long</th>\n",
              "      <th>Location</th>\n",
              "    </tr>\n",
              "  </thead>\n",
              "  <tbody>\n",
              "    <tr>\n",
              "      <th>13</th>\n",
              "      <td>I182039429</td>\n",
              "      <td>1107</td>\n",
              "      <td>Fraud</td>\n",
              "      <td>FRAUD - IMPERSONATION</td>\n",
              "      <td>C6</td>\n",
              "      <td>...</td>\n",
              "      <td>Part Two</td>\n",
              "      <td>E FOURTH ST</td>\n",
              "      <td>NaN</td>\n",
              "      <td>NaN</td>\n",
              "      <td>(0.00000000, 0.00000000)</td>\n",
              "    </tr>\n",
              "    <tr>\n",
              "      <th>42</th>\n",
              "      <td>I172061344</td>\n",
              "      <td>1102</td>\n",
              "      <td>Fraud</td>\n",
              "      <td>FRAUD - FALSE PRETENSE / SCHEME</td>\n",
              "      <td>A1</td>\n",
              "      <td>...</td>\n",
              "      <td>Part Two</td>\n",
              "      <td>COURT ST</td>\n",
              "      <td>NaN</td>\n",
              "      <td>NaN</td>\n",
              "      <td>(0.00000000, 0.00000000)</td>\n",
              "    </tr>\n",
              "    <tr>\n",
              "      <th>78</th>\n",
              "      <td>I162101249</td>\n",
              "      <td>1102</td>\n",
              "      <td>Fraud</td>\n",
              "      <td>FRAUD - FALSE PRETENSE / SCHEME</td>\n",
              "      <td>E18</td>\n",
              "      <td>...</td>\n",
              "      <td>Part Two</td>\n",
              "      <td>CUMMINS HWY</td>\n",
              "      <td>NaN</td>\n",
              "      <td>NaN</td>\n",
              "      <td>(0.00000000, 0.00000000)</td>\n",
              "    </tr>\n",
              "    <tr>\n",
              "      <th>86</th>\n",
              "      <td>I162097933</td>\n",
              "      <td>1106</td>\n",
              "      <td>Confidence Games</td>\n",
              "      <td>FRAUD - CREDIT CARD / ATM FRAUD</td>\n",
              "      <td>E5</td>\n",
              "      <td>...</td>\n",
              "      <td>Part Two</td>\n",
              "      <td>ADDELAIDE PL</td>\n",
              "      <td>NaN</td>\n",
              "      <td>NaN</td>\n",
              "      <td>(0.00000000, 0.00000000)</td>\n",
              "    </tr>\n",
              "    <tr>\n",
              "      <th>106</th>\n",
              "      <td>I162083921</td>\n",
              "      <td>1102</td>\n",
              "      <td>Fraud</td>\n",
              "      <td>FRAUD - FALSE PRETENSE / SCHEME</td>\n",
              "      <td>D4</td>\n",
              "      <td>...</td>\n",
              "      <td>Part Two</td>\n",
              "      <td>CLARENDON ST</td>\n",
              "      <td>NaN</td>\n",
              "      <td>NaN</td>\n",
              "      <td>(0.00000000, 0.00000000)</td>\n",
              "    </tr>\n",
              "    <tr>\n",
              "      <th>...</th>\n",
              "      <td>...</td>\n",
              "      <td>...</td>\n",
              "      <td>...</td>\n",
              "      <td>...</td>\n",
              "      <td>...</td>\n",
              "      <td>...</td>\n",
              "      <td>...</td>\n",
              "      <td>...</td>\n",
              "      <td>...</td>\n",
              "      <td>...</td>\n",
              "      <td>...</td>\n",
              "    </tr>\n",
              "    <tr>\n",
              "      <th>311094</th>\n",
              "      <td>I182000010</td>\n",
              "      <td>3802</td>\n",
              "      <td>Motor Vehicle Accident Response</td>\n",
              "      <td>M/V ACCIDENT - PROPERTY  DAMAGE</td>\n",
              "      <td>B3</td>\n",
              "      <td>...</td>\n",
              "      <td>Part Three</td>\n",
              "      <td>CUMMINS HWY</td>\n",
              "      <td>NaN</td>\n",
              "      <td>NaN</td>\n",
              "      <td>(0.00000000, 0.00000000)</td>\n",
              "    </tr>\n",
              "    <tr>\n",
              "      <th>311098</th>\n",
              "      <td>I172107333</td>\n",
              "      <td>724</td>\n",
              "      <td>Auto Theft</td>\n",
              "      <td>AUTO THEFT</td>\n",
              "      <td>A1</td>\n",
              "      <td>...</td>\n",
              "      <td>Part One</td>\n",
              "      <td>BOYLSTON ST</td>\n",
              "      <td>NaN</td>\n",
              "      <td>NaN</td>\n",
              "      <td>(0.00000000, 0.00000000)</td>\n",
              "    </tr>\n",
              "    <tr>\n",
              "      <th>311147</th>\n",
              "      <td>I172022524</td>\n",
              "      <td>3125</td>\n",
              "      <td>Warrant Arrests</td>\n",
              "      <td>WARRANT ARREST</td>\n",
              "      <td>A1</td>\n",
              "      <td>...</td>\n",
              "      <td>Part Three</td>\n",
              "      <td>BOYLSTON ST</td>\n",
              "      <td>NaN</td>\n",
              "      <td>NaN</td>\n",
              "      <td>(0.00000000, 0.00000000)</td>\n",
              "    </tr>\n",
              "    <tr>\n",
              "      <th>311153</th>\n",
              "      <td>I172002908</td>\n",
              "      <td>802</td>\n",
              "      <td>Simple Assault</td>\n",
              "      <td>ASSAULT SIMPLE - BATTERY</td>\n",
              "      <td>A1</td>\n",
              "      <td>...</td>\n",
              "      <td>Part Two</td>\n",
              "      <td>NaN</td>\n",
              "      <td>NaN</td>\n",
              "      <td>NaN</td>\n",
              "      <td>(0.00000000, 0.00000000)</td>\n",
              "    </tr>\n",
              "    <tr>\n",
              "      <th>311177</th>\n",
              "      <td>I110611058-00</td>\n",
              "      <td>3125</td>\n",
              "      <td>Warrant Arrests</td>\n",
              "      <td>WARRANT ARREST</td>\n",
              "      <td>A1</td>\n",
              "      <td>...</td>\n",
              "      <td>Part Three</td>\n",
              "      <td>CAMBRIDGE ST</td>\n",
              "      <td>NaN</td>\n",
              "      <td>NaN</td>\n",
              "      <td>(0.00000000, 0.00000000)</td>\n",
              "    </tr>\n",
              "  </tbody>\n",
              "</table>\n",
              "<p>19283 rows × 17 columns</p>\n",
              "</div>"
            ],
            "text/plain": [
              "       INCIDENT_NUMBER  OFFENSE_CODE               OFFENSE_CODE_GROUP  \\\n",
              "13          I182039429          1107                            Fraud   \n",
              "42          I172061344          1102                            Fraud   \n",
              "78          I162101249          1102                            Fraud   \n",
              "86          I162097933          1106                 Confidence Games   \n",
              "106         I162083921          1102                            Fraud   \n",
              "...                ...           ...                              ...   \n",
              "311094      I182000010          3802  Motor Vehicle Accident Response   \n",
              "311098      I172107333           724                       Auto Theft   \n",
              "311147      I172022524          3125                  Warrant Arrests   \n",
              "311153      I172002908           802                   Simple Assault   \n",
              "311177   I110611058-00          3125                  Warrant Arrests   \n",
              "\n",
              "                    OFFENSE_DESCRIPTION DISTRICT  ...    UCR_PART  \\\n",
              "13                FRAUD - IMPERSONATION       C6  ...    Part Two   \n",
              "42      FRAUD - FALSE PRETENSE / SCHEME       A1  ...    Part Two   \n",
              "78      FRAUD - FALSE PRETENSE / SCHEME      E18  ...    Part Two   \n",
              "86      FRAUD - CREDIT CARD / ATM FRAUD       E5  ...    Part Two   \n",
              "106     FRAUD - FALSE PRETENSE / SCHEME       D4  ...    Part Two   \n",
              "...                                 ...      ...  ...         ...   \n",
              "311094  M/V ACCIDENT - PROPERTY  DAMAGE       B3  ...  Part Three   \n",
              "311098                       AUTO THEFT       A1  ...    Part One   \n",
              "311147                   WARRANT ARREST       A1  ...  Part Three   \n",
              "311153         ASSAULT SIMPLE - BATTERY       A1  ...    Part Two   \n",
              "311177                   WARRANT ARREST       A1  ...  Part Three   \n",
              "\n",
              "              STREET Lat  Long                  Location  \n",
              "13       E FOURTH ST NaN   NaN  (0.00000000, 0.00000000)  \n",
              "42          COURT ST NaN   NaN  (0.00000000, 0.00000000)  \n",
              "78       CUMMINS HWY NaN   NaN  (0.00000000, 0.00000000)  \n",
              "86      ADDELAIDE PL NaN   NaN  (0.00000000, 0.00000000)  \n",
              "106     CLARENDON ST NaN   NaN  (0.00000000, 0.00000000)  \n",
              "...              ...  ..   ...                       ...  \n",
              "311094   CUMMINS HWY NaN   NaN  (0.00000000, 0.00000000)  \n",
              "311098   BOYLSTON ST NaN   NaN  (0.00000000, 0.00000000)  \n",
              "311147   BOYLSTON ST NaN   NaN  (0.00000000, 0.00000000)  \n",
              "311153           NaN NaN   NaN  (0.00000000, 0.00000000)  \n",
              "311177  CAMBRIDGE ST NaN   NaN  (0.00000000, 0.00000000)  \n",
              "\n",
              "[19283 rows x 17 columns]"
            ]
          },
          "metadata": {},
          "execution_count": 32
        }
      ]
    },
    {
      "cell_type": "code",
      "metadata": {
        "id": "76GpTfRADuM8",
        "colab": {
          "base_uri": "https://localhost:8080/"
        },
        "outputId": "9c43f321-e457-42f5-9f52-aecdbdab2591"
      },
      "source": [
        "# missing values in Long column\n",
        "Crimes_all_years[Crimes_all_years['Long'].isnull()]"
      ],
      "execution_count": null,
      "outputs": [
        {
          "output_type": "execute_result",
          "data": {
            "text/html": [
              "<div>\n",
              "<style scoped>\n",
              "    .dataframe tbody tr th:only-of-type {\n",
              "        vertical-align: middle;\n",
              "    }\n",
              "\n",
              "    .dataframe tbody tr th {\n",
              "        vertical-align: top;\n",
              "    }\n",
              "\n",
              "    .dataframe thead th {\n",
              "        text-align: right;\n",
              "    }\n",
              "</style>\n",
              "<table border=\"1\" class=\"dataframe\">\n",
              "  <thead>\n",
              "    <tr style=\"text-align: right;\">\n",
              "      <th></th>\n",
              "      <th>INCIDENT_NUMBER</th>\n",
              "      <th>OFFENSE_CODE</th>\n",
              "      <th>OFFENSE_CODE_GROUP</th>\n",
              "      <th>OFFENSE_DESCRIPTION</th>\n",
              "      <th>DISTRICT</th>\n",
              "      <th>...</th>\n",
              "      <th>UCR_PART</th>\n",
              "      <th>STREET</th>\n",
              "      <th>Lat</th>\n",
              "      <th>Long</th>\n",
              "      <th>Location</th>\n",
              "    </tr>\n",
              "  </thead>\n",
              "  <tbody>\n",
              "    <tr>\n",
              "      <th>13</th>\n",
              "      <td>I182039429</td>\n",
              "      <td>1107</td>\n",
              "      <td>Fraud</td>\n",
              "      <td>FRAUD - IMPERSONATION</td>\n",
              "      <td>C6</td>\n",
              "      <td>...</td>\n",
              "      <td>Part Two</td>\n",
              "      <td>E FOURTH ST</td>\n",
              "      <td>NaN</td>\n",
              "      <td>NaN</td>\n",
              "      <td>(0.00000000, 0.00000000)</td>\n",
              "    </tr>\n",
              "    <tr>\n",
              "      <th>42</th>\n",
              "      <td>I172061344</td>\n",
              "      <td>1102</td>\n",
              "      <td>Fraud</td>\n",
              "      <td>FRAUD - FALSE PRETENSE / SCHEME</td>\n",
              "      <td>A1</td>\n",
              "      <td>...</td>\n",
              "      <td>Part Two</td>\n",
              "      <td>COURT ST</td>\n",
              "      <td>NaN</td>\n",
              "      <td>NaN</td>\n",
              "      <td>(0.00000000, 0.00000000)</td>\n",
              "    </tr>\n",
              "    <tr>\n",
              "      <th>78</th>\n",
              "      <td>I162101249</td>\n",
              "      <td>1102</td>\n",
              "      <td>Fraud</td>\n",
              "      <td>FRAUD - FALSE PRETENSE / SCHEME</td>\n",
              "      <td>E18</td>\n",
              "      <td>...</td>\n",
              "      <td>Part Two</td>\n",
              "      <td>CUMMINS HWY</td>\n",
              "      <td>NaN</td>\n",
              "      <td>NaN</td>\n",
              "      <td>(0.00000000, 0.00000000)</td>\n",
              "    </tr>\n",
              "    <tr>\n",
              "      <th>86</th>\n",
              "      <td>I162097933</td>\n",
              "      <td>1106</td>\n",
              "      <td>Confidence Games</td>\n",
              "      <td>FRAUD - CREDIT CARD / ATM FRAUD</td>\n",
              "      <td>E5</td>\n",
              "      <td>...</td>\n",
              "      <td>Part Two</td>\n",
              "      <td>ADDELAIDE PL</td>\n",
              "      <td>NaN</td>\n",
              "      <td>NaN</td>\n",
              "      <td>(0.00000000, 0.00000000)</td>\n",
              "    </tr>\n",
              "    <tr>\n",
              "      <th>106</th>\n",
              "      <td>I162083921</td>\n",
              "      <td>1102</td>\n",
              "      <td>Fraud</td>\n",
              "      <td>FRAUD - FALSE PRETENSE / SCHEME</td>\n",
              "      <td>D4</td>\n",
              "      <td>...</td>\n",
              "      <td>Part Two</td>\n",
              "      <td>CLARENDON ST</td>\n",
              "      <td>NaN</td>\n",
              "      <td>NaN</td>\n",
              "      <td>(0.00000000, 0.00000000)</td>\n",
              "    </tr>\n",
              "    <tr>\n",
              "      <th>...</th>\n",
              "      <td>...</td>\n",
              "      <td>...</td>\n",
              "      <td>...</td>\n",
              "      <td>...</td>\n",
              "      <td>...</td>\n",
              "      <td>...</td>\n",
              "      <td>...</td>\n",
              "      <td>...</td>\n",
              "      <td>...</td>\n",
              "      <td>...</td>\n",
              "      <td>...</td>\n",
              "    </tr>\n",
              "    <tr>\n",
              "      <th>311094</th>\n",
              "      <td>I182000010</td>\n",
              "      <td>3802</td>\n",
              "      <td>Motor Vehicle Accident Response</td>\n",
              "      <td>M/V ACCIDENT - PROPERTY  DAMAGE</td>\n",
              "      <td>B3</td>\n",
              "      <td>...</td>\n",
              "      <td>Part Three</td>\n",
              "      <td>CUMMINS HWY</td>\n",
              "      <td>NaN</td>\n",
              "      <td>NaN</td>\n",
              "      <td>(0.00000000, 0.00000000)</td>\n",
              "    </tr>\n",
              "    <tr>\n",
              "      <th>311098</th>\n",
              "      <td>I172107333</td>\n",
              "      <td>724</td>\n",
              "      <td>Auto Theft</td>\n",
              "      <td>AUTO THEFT</td>\n",
              "      <td>A1</td>\n",
              "      <td>...</td>\n",
              "      <td>Part One</td>\n",
              "      <td>BOYLSTON ST</td>\n",
              "      <td>NaN</td>\n",
              "      <td>NaN</td>\n",
              "      <td>(0.00000000, 0.00000000)</td>\n",
              "    </tr>\n",
              "    <tr>\n",
              "      <th>311147</th>\n",
              "      <td>I172022524</td>\n",
              "      <td>3125</td>\n",
              "      <td>Warrant Arrests</td>\n",
              "      <td>WARRANT ARREST</td>\n",
              "      <td>A1</td>\n",
              "      <td>...</td>\n",
              "      <td>Part Three</td>\n",
              "      <td>BOYLSTON ST</td>\n",
              "      <td>NaN</td>\n",
              "      <td>NaN</td>\n",
              "      <td>(0.00000000, 0.00000000)</td>\n",
              "    </tr>\n",
              "    <tr>\n",
              "      <th>311153</th>\n",
              "      <td>I172002908</td>\n",
              "      <td>802</td>\n",
              "      <td>Simple Assault</td>\n",
              "      <td>ASSAULT SIMPLE - BATTERY</td>\n",
              "      <td>A1</td>\n",
              "      <td>...</td>\n",
              "      <td>Part Two</td>\n",
              "      <td>NaN</td>\n",
              "      <td>NaN</td>\n",
              "      <td>NaN</td>\n",
              "      <td>(0.00000000, 0.00000000)</td>\n",
              "    </tr>\n",
              "    <tr>\n",
              "      <th>311177</th>\n",
              "      <td>I110611058-00</td>\n",
              "      <td>3125</td>\n",
              "      <td>Warrant Arrests</td>\n",
              "      <td>WARRANT ARREST</td>\n",
              "      <td>A1</td>\n",
              "      <td>...</td>\n",
              "      <td>Part Three</td>\n",
              "      <td>CAMBRIDGE ST</td>\n",
              "      <td>NaN</td>\n",
              "      <td>NaN</td>\n",
              "      <td>(0.00000000, 0.00000000)</td>\n",
              "    </tr>\n",
              "  </tbody>\n",
              "</table>\n",
              "<p>19283 rows × 17 columns</p>\n",
              "</div>"
            ],
            "text/plain": [
              "       INCIDENT_NUMBER  OFFENSE_CODE               OFFENSE_CODE_GROUP  \\\n",
              "13          I182039429          1107                            Fraud   \n",
              "42          I172061344          1102                            Fraud   \n",
              "78          I162101249          1102                            Fraud   \n",
              "86          I162097933          1106                 Confidence Games   \n",
              "106         I162083921          1102                            Fraud   \n",
              "...                ...           ...                              ...   \n",
              "311094      I182000010          3802  Motor Vehicle Accident Response   \n",
              "311098      I172107333           724                       Auto Theft   \n",
              "311147      I172022524          3125                  Warrant Arrests   \n",
              "311153      I172002908           802                   Simple Assault   \n",
              "311177   I110611058-00          3125                  Warrant Arrests   \n",
              "\n",
              "                    OFFENSE_DESCRIPTION DISTRICT  ...    UCR_PART  \\\n",
              "13                FRAUD - IMPERSONATION       C6  ...    Part Two   \n",
              "42      FRAUD - FALSE PRETENSE / SCHEME       A1  ...    Part Two   \n",
              "78      FRAUD - FALSE PRETENSE / SCHEME      E18  ...    Part Two   \n",
              "86      FRAUD - CREDIT CARD / ATM FRAUD       E5  ...    Part Two   \n",
              "106     FRAUD - FALSE PRETENSE / SCHEME       D4  ...    Part Two   \n",
              "...                                 ...      ...  ...         ...   \n",
              "311094  M/V ACCIDENT - PROPERTY  DAMAGE       B3  ...  Part Three   \n",
              "311098                       AUTO THEFT       A1  ...    Part One   \n",
              "311147                   WARRANT ARREST       A1  ...  Part Three   \n",
              "311153         ASSAULT SIMPLE - BATTERY       A1  ...    Part Two   \n",
              "311177                   WARRANT ARREST       A1  ...  Part Three   \n",
              "\n",
              "              STREET Lat  Long                  Location  \n",
              "13       E FOURTH ST NaN   NaN  (0.00000000, 0.00000000)  \n",
              "42          COURT ST NaN   NaN  (0.00000000, 0.00000000)  \n",
              "78       CUMMINS HWY NaN   NaN  (0.00000000, 0.00000000)  \n",
              "86      ADDELAIDE PL NaN   NaN  (0.00000000, 0.00000000)  \n",
              "106     CLARENDON ST NaN   NaN  (0.00000000, 0.00000000)  \n",
              "...              ...  ..   ...                       ...  \n",
              "311094   CUMMINS HWY NaN   NaN  (0.00000000, 0.00000000)  \n",
              "311098   BOYLSTON ST NaN   NaN  (0.00000000, 0.00000000)  \n",
              "311147   BOYLSTON ST NaN   NaN  (0.00000000, 0.00000000)  \n",
              "311153           NaN NaN   NaN  (0.00000000, 0.00000000)  \n",
              "311177  CAMBRIDGE ST NaN   NaN  (0.00000000, 0.00000000)  \n",
              "\n",
              "[19283 rows x 17 columns]"
            ]
          },
          "metadata": {},
          "execution_count": 33
        }
      ]
    },
    {
      "cell_type": "code",
      "metadata": {
        "id": "RyuYytDjeVHB",
        "colab": {
          "base_uri": "https://localhost:8080/"
        },
        "outputId": "1522f480-e5fa-416b-d0c8-b451f6ebbd43"
      },
      "source": [
        "# missing values in DISTRICT column\n",
        "Crimes_all_years[Crimes_all_years['DISTRICT'].isnull()]"
      ],
      "execution_count": null,
      "outputs": [
        {
          "output_type": "execute_result",
          "data": {
            "text/html": [
              "<div>\n",
              "<style scoped>\n",
              "    .dataframe tbody tr th:only-of-type {\n",
              "        vertical-align: middle;\n",
              "    }\n",
              "\n",
              "    .dataframe tbody tr th {\n",
              "        vertical-align: top;\n",
              "    }\n",
              "\n",
              "    .dataframe thead th {\n",
              "        text-align: right;\n",
              "    }\n",
              "</style>\n",
              "<table border=\"1\" class=\"dataframe\">\n",
              "  <thead>\n",
              "    <tr style=\"text-align: right;\">\n",
              "      <th></th>\n",
              "      <th>INCIDENT_NUMBER</th>\n",
              "      <th>OFFENSE_CODE</th>\n",
              "      <th>OFFENSE_CODE_GROUP</th>\n",
              "      <th>OFFENSE_DESCRIPTION</th>\n",
              "      <th>DISTRICT</th>\n",
              "      <th>...</th>\n",
              "      <th>UCR_PART</th>\n",
              "      <th>STREET</th>\n",
              "      <th>Lat</th>\n",
              "      <th>Long</th>\n",
              "      <th>Location</th>\n",
              "    </tr>\n",
              "  </thead>\n",
              "  <tbody>\n",
              "    <tr>\n",
              "      <th>9</th>\n",
              "      <td>I182061268</td>\n",
              "      <td>3201</td>\n",
              "      <td>Property Lost</td>\n",
              "      <td>PROPERTY - LOST</td>\n",
              "      <td>NaN</td>\n",
              "      <td>...</td>\n",
              "      <td>Part Three</td>\n",
              "      <td>BERNARD</td>\n",
              "      <td>-1.000000</td>\n",
              "      <td>-1.000000</td>\n",
              "      <td>(-1.00000000, -1.00000000)</td>\n",
              "    </tr>\n",
              "    <tr>\n",
              "      <th>20</th>\n",
              "      <td>I182008210</td>\n",
              "      <td>1107</td>\n",
              "      <td>Fraud</td>\n",
              "      <td>FRAUD - IMPERSONATION</td>\n",
              "      <td>NaN</td>\n",
              "      <td>...</td>\n",
              "      <td>Part Two</td>\n",
              "      <td>COBDEN</td>\n",
              "      <td>-1.000000</td>\n",
              "      <td>-1.000000</td>\n",
              "      <td>(-1.00000000, -1.00000000)</td>\n",
              "    </tr>\n",
              "    <tr>\n",
              "      <th>1630</th>\n",
              "      <td>I152106585</td>\n",
              "      <td>2907</td>\n",
              "      <td>Violations</td>\n",
              "      <td>VAL - OPERATING AFTER REV/SUSP.</td>\n",
              "      <td>NaN</td>\n",
              "      <td>...</td>\n",
              "      <td>Part Two</td>\n",
              "      <td>NaN</td>\n",
              "      <td>NaN</td>\n",
              "      <td>NaN</td>\n",
              "      <td>(0.00000000, 0.00000000)</td>\n",
              "    </tr>\n",
              "    <tr>\n",
              "      <th>2673</th>\n",
              "      <td>I152105266</td>\n",
              "      <td>724</td>\n",
              "      <td>Auto Theft</td>\n",
              "      <td>AUTO THEFT</td>\n",
              "      <td>NaN</td>\n",
              "      <td>...</td>\n",
              "      <td>Part One</td>\n",
              "      <td>MARLBOROUGH</td>\n",
              "      <td>NaN</td>\n",
              "      <td>NaN</td>\n",
              "      <td>(0.00000000, 0.00000000)</td>\n",
              "    </tr>\n",
              "    <tr>\n",
              "      <th>2711</th>\n",
              "      <td>I152105224</td>\n",
              "      <td>1849</td>\n",
              "      <td>Drug Violation</td>\n",
              "      <td>DRUGS - POSS CLASS B - COCAINE, ETC.</td>\n",
              "      <td>NaN</td>\n",
              "      <td>...</td>\n",
              "      <td>Part Two</td>\n",
              "      <td>DORCHESTER AVE</td>\n",
              "      <td>NaN</td>\n",
              "      <td>NaN</td>\n",
              "      <td>(0.00000000, 0.00000000)</td>\n",
              "    </tr>\n",
              "    <tr>\n",
              "      <th>...</th>\n",
              "      <td>...</td>\n",
              "      <td>...</td>\n",
              "      <td>...</td>\n",
              "      <td>...</td>\n",
              "      <td>...</td>\n",
              "      <td>...</td>\n",
              "      <td>...</td>\n",
              "      <td>...</td>\n",
              "      <td>...</td>\n",
              "      <td>...</td>\n",
              "      <td>...</td>\n",
              "    </tr>\n",
              "    <tr>\n",
              "      <th>452087</th>\n",
              "      <td>210366869</td>\n",
              "      <td>1402</td>\n",
              "      <td>Other</td>\n",
              "      <td>VANDALISM</td>\n",
              "      <td>NaN</td>\n",
              "      <td>...</td>\n",
              "      <td>NaN</td>\n",
              "      <td>SCHOOL ST &amp; TREMONT ST\\nBOSTON  MA 02111\\nUNIT...</td>\n",
              "      <td>0.000000</td>\n",
              "      <td>0.000000</td>\n",
              "      <td>(0, 0)</td>\n",
              "    </tr>\n",
              "    <tr>\n",
              "      <th>452154</th>\n",
              "      <td>210176632</td>\n",
              "      <td>3018</td>\n",
              "      <td>Other</td>\n",
              "      <td>SICK/INJURED/MEDICAL - POLICE</td>\n",
              "      <td>NaN</td>\n",
              "      <td>...</td>\n",
              "      <td>NaN</td>\n",
              "      <td>SCHROEDER PLZ</td>\n",
              "      <td>42.333679</td>\n",
              "      <td>-71.091878</td>\n",
              "      <td>(42.3336792181085, -71.0918775461846)</td>\n",
              "    </tr>\n",
              "    <tr>\n",
              "      <th>452159</th>\n",
              "      <td>210140992</td>\n",
              "      <td>3805</td>\n",
              "      <td>Other</td>\n",
              "      <td>M/V ACCIDENT - POLICE VEHICLE</td>\n",
              "      <td>NaN</td>\n",
              "      <td>...</td>\n",
              "      <td>NaN</td>\n",
              "      <td>BOYLSTON ST.</td>\n",
              "      <td>42.351571</td>\n",
              "      <td>-71.071866</td>\n",
              "      <td>(42.3515707556266, -71.0718659907746)</td>\n",
              "    </tr>\n",
              "    <tr>\n",
              "      <th>452184</th>\n",
              "      <td>210026907</td>\n",
              "      <td>1832</td>\n",
              "      <td>Other</td>\n",
              "      <td>SICK ASSIST - DRUG RELATED ILLNESS</td>\n",
              "      <td>NaN</td>\n",
              "      <td>...</td>\n",
              "      <td>NaN</td>\n",
              "      <td>POMPEII ST</td>\n",
              "      <td>42.329695</td>\n",
              "      <td>-71.070444</td>\n",
              "      <td>(42.3296947119465, -71.0704440989647)</td>\n",
              "    </tr>\n",
              "    <tr>\n",
              "      <th>452199</th>\n",
              "      <td>201906722</td>\n",
              "      <td>2610</td>\n",
              "      <td>Other</td>\n",
              "      <td>TRESPASSING</td>\n",
              "      <td>NaN</td>\n",
              "      <td>...</td>\n",
              "      <td>NaN</td>\n",
              "      <td>WESLEYAN PLACE</td>\n",
              "      <td>0.000000</td>\n",
              "      <td>0.000000</td>\n",
              "      <td>(0, 0)</td>\n",
              "    </tr>\n",
              "  </tbody>\n",
              "</table>\n",
              "<p>2915 rows × 17 columns</p>\n",
              "</div>"
            ],
            "text/plain": [
              "       INCIDENT_NUMBER  OFFENSE_CODE OFFENSE_CODE_GROUP  \\\n",
              "9           I182061268          3201      Property Lost   \n",
              "20          I182008210          1107              Fraud   \n",
              "1630        I152106585          2907         Violations   \n",
              "2673        I152105266           724         Auto Theft   \n",
              "2711        I152105224          1849     Drug Violation   \n",
              "...                ...           ...                ...   \n",
              "452087       210366869          1402              Other   \n",
              "452154       210176632          3018              Other   \n",
              "452159       210140992          3805              Other   \n",
              "452184       210026907          1832              Other   \n",
              "452199       201906722          2610              Other   \n",
              "\n",
              "                         OFFENSE_DESCRIPTION DISTRICT  ...    UCR_PART  \\\n",
              "9                            PROPERTY - LOST      NaN  ...  Part Three   \n",
              "20                     FRAUD - IMPERSONATION      NaN  ...    Part Two   \n",
              "1630         VAL - OPERATING AFTER REV/SUSP.      NaN  ...    Part Two   \n",
              "2673                              AUTO THEFT      NaN  ...    Part One   \n",
              "2711    DRUGS - POSS CLASS B - COCAINE, ETC.      NaN  ...    Part Two   \n",
              "...                                      ...      ...  ...         ...   \n",
              "452087                             VANDALISM      NaN  ...         NaN   \n",
              "452154         SICK/INJURED/MEDICAL - POLICE      NaN  ...         NaN   \n",
              "452159         M/V ACCIDENT - POLICE VEHICLE      NaN  ...         NaN   \n",
              "452184    SICK ASSIST - DRUG RELATED ILLNESS      NaN  ...         NaN   \n",
              "452199                           TRESPASSING      NaN  ...         NaN   \n",
              "\n",
              "                                                   STREET        Lat  \\\n",
              "9                                                 BERNARD  -1.000000   \n",
              "20                                                 COBDEN  -1.000000   \n",
              "1630                                                  NaN        NaN   \n",
              "2673                                          MARLBOROUGH        NaN   \n",
              "2711                                       DORCHESTER AVE        NaN   \n",
              "...                                                   ...        ...   \n",
              "452087  SCHOOL ST & TREMONT ST\\nBOSTON  MA 02111\\nUNIT...   0.000000   \n",
              "452154                                      SCHROEDER PLZ  42.333679   \n",
              "452159                                       BOYLSTON ST.  42.351571   \n",
              "452184                                         POMPEII ST  42.329695   \n",
              "452199                                     WESLEYAN PLACE   0.000000   \n",
              "\n",
              "             Long                               Location  \n",
              "9       -1.000000             (-1.00000000, -1.00000000)  \n",
              "20      -1.000000             (-1.00000000, -1.00000000)  \n",
              "1630          NaN               (0.00000000, 0.00000000)  \n",
              "2673          NaN               (0.00000000, 0.00000000)  \n",
              "2711          NaN               (0.00000000, 0.00000000)  \n",
              "...           ...                                    ...  \n",
              "452087   0.000000                                 (0, 0)  \n",
              "452154 -71.091878  (42.3336792181085, -71.0918775461846)  \n",
              "452159 -71.071866  (42.3515707556266, -71.0718659907746)  \n",
              "452184 -71.070444  (42.3296947119465, -71.0704440989647)  \n",
              "452199   0.000000                                 (0, 0)  \n",
              "\n",
              "[2915 rows x 17 columns]"
            ]
          },
          "metadata": {},
          "execution_count": 34
        }
      ]
    },
    {
      "cell_type": "markdown",
      "metadata": {
        "id": "1Mk9yRxvemds"
      },
      "source": [
        "# **Exploration**"
      ]
    },
    {
      "cell_type": "code",
      "metadata": {
        "colab": {
          "base_uri": "https://localhost:8080/",
          "height": 204
        },
        "id": "tGwuRzKg9aGO",
        "outputId": "2dee32d4-9d3e-475b-8d8a-d8d73a84f201"
      },
      "source": [
        "# number of crimes over offense groups by year\n",
        "\n",
        "df = Crimes_all_years.groupby(['YEAR','OFFENSE_CODE_GROUP'])['INCIDENT_NUMBER'].count().reset_index()\n",
        "df = df.sort_values(by=['YEAR','INCIDENT_NUMBER'], ascending=False)\n",
        "df.head()"
      ],
      "execution_count": null,
      "outputs": [
        {
          "output_type": "execute_result",
          "data": {
            "text/html": [
              "<div>\n",
              "<style scoped>\n",
              "    .dataframe tbody tr th:only-of-type {\n",
              "        vertical-align: middle;\n",
              "    }\n",
              "\n",
              "    .dataframe tbody tr th {\n",
              "        vertical-align: top;\n",
              "    }\n",
              "\n",
              "    .dataframe thead th {\n",
              "        text-align: right;\n",
              "    }\n",
              "</style>\n",
              "<table border=\"1\" class=\"dataframe\">\n",
              "  <thead>\n",
              "    <tr style=\"text-align: right;\">\n",
              "      <th></th>\n",
              "      <th>YEAR</th>\n",
              "      <th>OFFENSE_CODE_GROUP</th>\n",
              "      <th>INCIDENT_NUMBER</th>\n",
              "    </tr>\n",
              "  </thead>\n",
              "  <tbody>\n",
              "    <tr>\n",
              "      <th>251</th>\n",
              "      <td>2021</td>\n",
              "      <td>Other</td>\n",
              "      <td>50352</td>\n",
              "    </tr>\n",
              "    <tr>\n",
              "      <th>250</th>\n",
              "      <td>2020</td>\n",
              "      <td>Other</td>\n",
              "      <td>70894</td>\n",
              "    </tr>\n",
              "    <tr>\n",
              "      <th>249</th>\n",
              "      <td>2019</td>\n",
              "      <td>Other</td>\n",
              "      <td>19782</td>\n",
              "    </tr>\n",
              "    <tr>\n",
              "      <th>225</th>\n",
              "      <td>2018</td>\n",
              "      <td>Motor Vehicle Accident Response</td>\n",
              "      <td>11229</td>\n",
              "    </tr>\n",
              "    <tr>\n",
              "      <th>222</th>\n",
              "      <td>2018</td>\n",
              "      <td>Medical Assistance</td>\n",
              "      <td>8065</td>\n",
              "    </tr>\n",
              "  </tbody>\n",
              "</table>\n",
              "</div>"
            ],
            "text/plain": [
              "     YEAR               OFFENSE_CODE_GROUP  INCIDENT_NUMBER\n",
              "251  2021                            Other            50352\n",
              "250  2020                            Other            70894\n",
              "249  2019                            Other            19782\n",
              "225  2018  Motor Vehicle Accident Response            11229\n",
              "222  2018               Medical Assistance             8065"
            ]
          },
          "metadata": {},
          "execution_count": 75
        }
      ]
    },
    {
      "cell_type": "code",
      "metadata": {
        "colab": {
          "base_uri": "https://localhost:8080/",
          "height": 419
        },
        "id": "-o47KJsoDduH",
        "outputId": "a0761a24-c121-4440-fc7a-56408c5297d6"
      },
      "source": [
        "dftop3 = df.groupby('OFFENSE_CODE_GROUP')['INCIDENT_NUMBER'].count().reset_index()\n",
        "dftop3"
      ],
      "execution_count": null,
      "outputs": [
        {
          "output_type": "execute_result",
          "data": {
            "text/html": [
              "<div>\n",
              "<style scoped>\n",
              "    .dataframe tbody tr th:only-of-type {\n",
              "        vertical-align: middle;\n",
              "    }\n",
              "\n",
              "    .dataframe tbody tr th {\n",
              "        vertical-align: top;\n",
              "    }\n",
              "\n",
              "    .dataframe thead th {\n",
              "        text-align: right;\n",
              "    }\n",
              "</style>\n",
              "<table border=\"1\" class=\"dataframe\">\n",
              "  <thead>\n",
              "    <tr style=\"text-align: right;\">\n",
              "      <th></th>\n",
              "      <th>OFFENSE_CODE_GROUP</th>\n",
              "      <th>INCIDENT_NUMBER</th>\n",
              "    </tr>\n",
              "  </thead>\n",
              "  <tbody>\n",
              "    <tr>\n",
              "      <th>0</th>\n",
              "      <td>Aggravated Assault</td>\n",
              "      <td>4</td>\n",
              "    </tr>\n",
              "    <tr>\n",
              "      <th>1</th>\n",
              "      <td>Aircraft</td>\n",
              "      <td>4</td>\n",
              "    </tr>\n",
              "    <tr>\n",
              "      <th>2</th>\n",
              "      <td>Arson</td>\n",
              "      <td>4</td>\n",
              "    </tr>\n",
              "    <tr>\n",
              "      <th>3</th>\n",
              "      <td>Assembly or Gathering Violations</td>\n",
              "      <td>4</td>\n",
              "    </tr>\n",
              "    <tr>\n",
              "      <th>4</th>\n",
              "      <td>Auto Theft</td>\n",
              "      <td>4</td>\n",
              "    </tr>\n",
              "    <tr>\n",
              "      <th>...</th>\n",
              "      <td>...</td>\n",
              "      <td>...</td>\n",
              "    </tr>\n",
              "    <tr>\n",
              "      <th>60</th>\n",
              "      <td>Towed</td>\n",
              "      <td>4</td>\n",
              "    </tr>\n",
              "    <tr>\n",
              "      <th>61</th>\n",
              "      <td>Vandalism</td>\n",
              "      <td>4</td>\n",
              "    </tr>\n",
              "    <tr>\n",
              "      <th>62</th>\n",
              "      <td>Verbal Disputes</td>\n",
              "      <td>4</td>\n",
              "    </tr>\n",
              "    <tr>\n",
              "      <th>63</th>\n",
              "      <td>Violations</td>\n",
              "      <td>4</td>\n",
              "    </tr>\n",
              "    <tr>\n",
              "      <th>64</th>\n",
              "      <td>Warrant Arrests</td>\n",
              "      <td>4</td>\n",
              "    </tr>\n",
              "  </tbody>\n",
              "</table>\n",
              "<p>65 rows × 2 columns</p>\n",
              "</div>"
            ],
            "text/plain": [
              "                  OFFENSE_CODE_GROUP  INCIDENT_NUMBER\n",
              "0                 Aggravated Assault                4\n",
              "1                           Aircraft                4\n",
              "2                              Arson                4\n",
              "3   Assembly or Gathering Violations                4\n",
              "4                         Auto Theft                4\n",
              "..                               ...              ...\n",
              "60                             Towed                4\n",
              "61                         Vandalism                4\n",
              "62                   Verbal Disputes                4\n",
              "63                        Violations                4\n",
              "64                   Warrant Arrests                4\n",
              "\n",
              "[65 rows x 2 columns]"
            ]
          },
          "metadata": {},
          "execution_count": 80
        }
      ]
    },
    {
      "cell_type": "code",
      "metadata": {
        "colab": {
          "base_uri": "https://localhost:8080/",
          "height": 301
        },
        "id": "20neDhbsBUFJ",
        "outputId": "745a8292-f457-413c-8330-dc56b874d41f"
      },
      "source": [
        "sns.barplot(data=df, x='OFFENSE_CODE_GROUP', y='INCIDENT_NUMBER', hue='YEAR')\n",
        "plt.ylabel('The Number of Crimes')\n",
        "plt.title('The Number of Crimes over Offense Group', fontsize=20)\n",
        "plt.show()"
      ],
      "execution_count": null,
      "outputs": [
        {
          "output_type": "display_data",
          "data": {
            "image/png": "[encoded data removed]",
            "text/plain": [
              "<Figure size 432x288 with 1 Axes>"
            ]
          },
          "metadata": {
            "needs_background": "light"
          }
        }
      ]
    },
    {
      "cell_type": "code",
      "metadata": {
        "colab": {
          "base_uri": "https://localhost:8080/",
          "height": 232
        },
        "id": "y4wargS-9Y5D",
        "outputId": "cda7bac2-2106-426a-9998-9cdb0df79c9d"
      },
      "source": [
        "# took data only year is 2015. Just for interest and not not freeze kernel while map visualization\n",
        "df1_part = df1[df1['YEAR'] == 2015]\n",
        "df1_2015=df1_part.copy()\n",
        "df1_2015 = df1_2015.groupby('OFFENSE_CODE_GROUP')['INCIDENT_NUMBER'].count().reset_index()\n",
        "df1_2015=df1_2015.sort_values(by='INCIDENT_NUMBER', ascending=False)[:10]\n",
        "df1_2015"
      ],
      "execution_count": null,
      "outputs": [
        {
          "output_type": "error",
          "ename": "NameError",
          "evalue": "ignored",
          "traceback": [
            "\u001b[0;31m---------------------------------------------------------------------------\u001b[0m",
            "\u001b[0;31mNameError\u001b[0m                                 Traceback (most recent call last)",
            "\u001b[0;32m<ipython-input-50-603969a65aae>\u001b[0m in \u001b[0;36m<module>\u001b[0;34m()\u001b[0m\n\u001b[1;32m      1\u001b[0m \u001b[0;31m# took data only year is 2015. Just for interest and not not freeze kernel while map visualization\u001b[0m\u001b[0;34m\u001b[0m\u001b[0;34m\u001b[0m\u001b[0;34m\u001b[0m\u001b[0m\n\u001b[0;32m----> 2\u001b[0;31m \u001b[0mdf1_part\u001b[0m \u001b[0;34m=\u001b[0m \u001b[0mdf1\u001b[0m\u001b[0;34m[\u001b[0m\u001b[0mdf1\u001b[0m\u001b[0;34m[\u001b[0m\u001b[0;34m'YEAR'\u001b[0m\u001b[0;34m]\u001b[0m \u001b[0;34m==\u001b[0m \u001b[0;36m2015\u001b[0m\u001b[0;34m]\u001b[0m\u001b[0;34m\u001b[0m\u001b[0;34m\u001b[0m\u001b[0m\n\u001b[0m\u001b[1;32m      3\u001b[0m \u001b[0mdf1_2015\u001b[0m\u001b[0;34m=\u001b[0m\u001b[0mdf1_part\u001b[0m\u001b[0;34m.\u001b[0m\u001b[0mcopy\u001b[0m\u001b[0;34m(\u001b[0m\u001b[0;34m)\u001b[0m\u001b[0;34m\u001b[0m\u001b[0;34m\u001b[0m\u001b[0m\n\u001b[1;32m      4\u001b[0m \u001b[0mdf1_2015\u001b[0m \u001b[0;34m=\u001b[0m \u001b[0mdf1_2015\u001b[0m\u001b[0;34m.\u001b[0m\u001b[0mgroupby\u001b[0m\u001b[0;34m(\u001b[0m\u001b[0;34m'OFFENSE_CODE_GROUP'\u001b[0m\u001b[0;34m)\u001b[0m\u001b[0;34m[\u001b[0m\u001b[0;34m'INCIDENT_NUMBER'\u001b[0m\u001b[0;34m]\u001b[0m\u001b[0;34m.\u001b[0m\u001b[0mcount\u001b[0m\u001b[0;34m(\u001b[0m\u001b[0;34m)\u001b[0m\u001b[0;34m.\u001b[0m\u001b[0mreset_index\u001b[0m\u001b[0;34m(\u001b[0m\u001b[0;34m)\u001b[0m\u001b[0;34m\u001b[0m\u001b[0;34m\u001b[0m\u001b[0m\n\u001b[1;32m      5\u001b[0m \u001b[0mdf1_2015\u001b[0m\u001b[0;34m=\u001b[0m\u001b[0mdf1_2015\u001b[0m\u001b[0;34m.\u001b[0m\u001b[0msort_values\u001b[0m\u001b[0;34m(\u001b[0m\u001b[0mby\u001b[0m\u001b[0;34m=\u001b[0m\u001b[0;34m'INCIDENT_NUMBER'\u001b[0m\u001b[0;34m,\u001b[0m \u001b[0mascending\u001b[0m\u001b[0;34m=\u001b[0m\u001b[0;32mFalse\u001b[0m\u001b[0;34m)\u001b[0m\u001b[0;34m[\u001b[0m\u001b[0;34m:\u001b[0m\u001b[0;36m10\u001b[0m\u001b[0;34m]\u001b[0m\u001b[0;34m\u001b[0m\u001b[0;34m\u001b[0m\u001b[0m\n",
            "\u001b[0;31mNameError\u001b[0m: name 'df1' is not defined"
          ]
        }
      ]
    },
    {
      "cell_type": "markdown",
      "metadata": {
        "id": "UJ3a_rNUeiML"
      },
      "source": [
        "## By Hour and Weekday"
      ]
    },
    {
      "cell_type": "code",
      "metadata": {
        "id": "nVMYXAU7e302"
      },
      "source": [
        "crimes_hour = Crimes_all_years.groupby('HOUR')['index'].agg(count='count')\n",
        "crimes_hour = pd.DataFrame({'HOUR':crimes_hour.index,'COUNT':crimes_hour['count']})\n",
        "ax = sns.barplot(x=crimes_hour.HOUR,y=crimes_hour.COUNT)\n",
        "sns.set_context({\"figure.figsize\":(10,10)})\n",
        "ax.set_title('Count of Crimes by Hour');"
      ],
      "execution_count": null,
      "outputs": []
    },
    {
      "cell_type": "code",
      "metadata": {
        "id": "KMNTL7cf3ewK"
      },
      "source": [
        "crimes_weekday = Crimes_all_years.groupby('DAY_OF_WEEK')['index'].agg(count='count')\n",
        "crimes_weekday = crimes_weekday.reindex(['Monday','Tuesday','Wednesday','Thursday','Friday','Saturday','Sunday'])\n",
        "crimes_weekday = pd.DataFrame({'DAY_OF_WEEK':crimes_weekday.index,'COUNT':crimes_weekday['count']})\n",
        "ax = sns.barplot(x=crimes_weekday.DAY_OF_WEEK,y=crimes_weekday.COUNT)\n",
        "for p in ax.patches:\n",
        "    ax.annotate(\"%.0f\" % p.get_height(), (p.get_x() + p.get_width() / 2., p.get_height()),\n",
        "                ha='center', va='center', fontsize=11, color='black', xytext=(0, 20),\n",
        "                textcoords='offset points')\n",
        "ax.set(ylim=(60000, 76000))\n",
        "sns.set_context({\"figure.figsize\":(10,10)})\n",
        "ax.set_title('Count of Crimes by Day_of_week');"
      ],
      "execution_count": null,
      "outputs": []
    },
    {
      "cell_type": "code",
      "metadata": {
        "id": "s6VR7OyU2Hg0"
      },
      "source": [
        "crimes_weekday_hour = Crimes_all_years.groupby(['DAY_OF_WEEK','HOUR'])['index'].aggregate('count').unstack()\n",
        "crimes_weekday_hour = crimes_weekday_hour.reindex(['Monday','Tuesday','Wednesday','Thursday','Friday','Saturday','Sunday'])\n",
        "sns.set_context({\"figure.figsize\":(20,20)})\n",
        "ax = sns.heatmap(crimes_weekday_hour,square=True,annot=False,fmt=\"d\",cmap=\"OrRd\",linewidths=0.5,cbar_kws={\"shrink\": 0.2}) \n",
        "ax.xaxis.tick_top()\n",
        "ax.set_title('Heatmap of Crime Count by Day_of_week and Hour');"
      ],
      "execution_count": null,
      "outputs": []
    },
    {
      "cell_type": "markdown",
      "metadata": {
        "id": "NCtdue7Ze0T5"
      },
      "source": [
        "## By Season"
      ]
    },
    {
      "cell_type": "code",
      "metadata": {
        "id": "iQxZ3aA7VU7n"
      },
      "source": [
        "Crimes_all_years['SEASON']=None\n",
        "Crimes_all_years.loc[Crimes_all_years['MONTH'].isin([3,4,5]),'SEASON']='Spring'\n",
        "Crimes_all_years.loc[Crimes_all_years['MONTH'].isin([6,7,8]),'SEASON']='Summer'\n",
        "Crimes_all_years.loc[Crimes_all_years['MONTH'].isin([9,10,11]),'SEASON']='Fall'\n",
        "Crimes_all_years.loc[Crimes_all_years['MONTH'].isin([12,1,2]),'SEASON']='Winter'\n",
        "crimes_season = Crimes_all_years.groupby('SEASON')['index'].agg(count='count')\n",
        "crimes_season = crimes_season.reindex(['Spring','Summer','Fall','Winter'])\n",
        "crimes_season = pd.DataFrame({'SEASON':crimes_season.index,'COUNT':crimes_season['count']})\n",
        "ax = sns.barplot(x=crimes_season.SEASON,y=crimes_season.COUNT)\n",
        "for p in ax.patches:\n",
        "    ax.annotate(\"%.0f\" % p.get_height(), (p.get_x() + p.get_width() / 2., p.get_height()),\n",
        "                ha='center', va='center', fontsize=11, color='black', xytext=(0, 20),\n",
        "                textcoords='offset points')\n",
        "ax.set(ylim=(100000, 145000))\n",
        "sns.set_context({\"figure.figsize\":(10,10)})\n",
        "ax.set_title('Count of Crimes by Season');"
      ],
      "execution_count": null,
      "outputs": []
    },
    {
      "cell_type": "code",
      "metadata": {
        "id": "ZLrtJJR8FNEm"
      },
      "source": [
        "crimes_season_hour = Crimes_all_years.groupby(['SEASON','HOUR'])['index'].aggregate('count').unstack()\n",
        "crimes_season_hour = crimes_season_hour.reindex(['Spring','Summer','Fall','Winter'])\n",
        "sns.set_context({\"figure.figsize\":(20,20)})\n",
        "ax = sns.heatmap(crimes_season_hour,square=True,annot=False,fmt=\"d\",cmap=\"OrRd\",linewidths=0.5,cbar_kws={\"shrink\": 0.15}) \n",
        "ax.xaxis.tick_top()\n",
        "ax.set_title('Heatmap of Crime Count by Season and Hour');"
      ],
      "execution_count": null,
      "outputs": []
    },
    {
      "cell_type": "markdown",
      "metadata": {
        "id": "F7AeZ311fCOp"
      },
      "source": [
        "## By Year"
      ]
    },
    {
      "cell_type": "code",
      "metadata": {
        "id": "1wc2rDsKfC_a"
      },
      "source": [
        "crimes_year = Crimes_all_years.groupby('YEAR')['index'].agg(count='count')\n",
        "crimes_year = pd.DataFrame({'YEAR':crimes_year.index,'COUNT':crimes_year['count']})\n",
        "sns.set_context({\"figure.figsize\":(10,10)})\n",
        "ax = sns.barplot(x=crimes_year.YEAR,y=crimes_year.COUNT)\n",
        "for p in ax.patches:\n",
        "    ax.annotate(\"%.0f\" % p.get_height(), (p.get_x() + p.get_width() / 2., p.get_height()),\n",
        "                ha='center', va='center', fontsize=11, color='black', xytext=(0, 20),\n",
        "                textcoords='offset points')\n",
        "ax.set(ylim=(0, 110000))\n",
        "ax.set_title('Count of Crimes by Year');"
      ],
      "execution_count": null,
      "outputs": []
    },
    {
      "cell_type": "markdown",
      "metadata": {
        "id": "9jbwgho4G8IP"
      },
      "source": [
        "## By Offence Type"
      ]
    },
    {
      "cell_type": "markdown",
      "metadata": {
        "id": "ZMYXa-DNXw7_"
      },
      "source": [
        "Because offence types are only specified in OFFENSE_DESCRIPTION where OFFENSE_CODE_GROUP is 'other' since 2019, therefore the cleaned general office types are saved in the TYPE column."
      ]
    },
    {
      "cell_type": "code",
      "metadata": {
        "id": "Wy6YJOPxEuCS"
      },
      "source": [
        "Crimes_all_years['TYPE']=''\n",
        "def check(s):\n",
        "    s=s.lower()\n",
        "    if s.find('m/v') > -1:\n",
        "        s =  'motor vehicle accident response'\n",
        "    elif s.find('liquor/alcohol')>-1:\n",
        "        s = 'liquor/alcohol'\n",
        "    elif s.find('/') >= 0 or s.find('-') >= 0 or s.find('(') >= 0:\n",
        "        while s.find('/') >= 0 or s.find('-') >= 0 or s.find('(') >= 0:\n",
        "            if (s.find('/') > 0 and s.find('-') > 0 and s.find('(') > 0):\n",
        "                a = min(s.find('/'),s.find('-')-1,s.find('(')-1)\n",
        "            elif s.find('(') > 0:\n",
        "                a = s.find('(') -1\n",
        "            elif s.find('-') > 0:\n",
        "                a = s.find('-') -1\n",
        "            elif s.find('/') > 0:\n",
        "                a = s.find('/')\n",
        "            s = s[:a]\n",
        "    return s\n",
        "Crimes_all_years.loc[Crimes_all_years['YEAR']>2018,'TYPE']=Crimes_all_years.loc[Crimes_all_years['YEAR']>2018,'OFFENSE_DESCRIPTION']\n",
        "Crimes_all_years.loc[Crimes_all_years['YEAR']>2018,'TYPE']=Crimes_all_years[Crimes_all_years['YEAR']>2018]['TYPE'].apply(lambda x:check(x))\n",
        "Crimes_all_years.loc[Crimes_all_years['YEAR']<2019,'TYPE']=Crimes_all_years[Crimes_all_years['YEAR']<2019]['OFFENSE_CODE_GROUP'].apply(lambda x:check(x))"
      ],
      "execution_count": null,
      "outputs": []
    },
    {
      "cell_type": "code",
      "metadata": {
        "id": "H7CFlYkQPZbC"
      },
      "source": [
        "crimes_offence = Crimes_all_years.groupby('TYPE')['index'].agg(count='count').sort_values(by='count',ascending=False)\n",
        "crimes_offence = pd.DataFrame({'OFFENSE_TYPE':crimes_offence.index,'COUNT':crimes_offence['count']})\n",
        "sns.set_context({\"figure.figsize\":(10,30)})\n",
        "ax = sns.barplot(y=crimes_offence.OFFENSE_TYPE,x=crimes_offence.COUNT);\n",
        "ax.set_title('Count of Crime by TYPE');"
      ],
      "execution_count": null,
      "outputs": []
    },
    {
      "cell_type": "code",
      "metadata": {
        "id": "0wDHFADyCEuN"
      },
      "source": [
        "def my_autopct(pct):\n",
        "    return ('%1.1f' % pct) if pct > 1 else ''\n",
        "\n",
        "def get_new_labels(sizes, labels):\n",
        "    new_labels = [label if size > 1 else '' for size, label in zip(sizes, labels)]\n",
        "    return new_labels\n",
        "\n",
        "fig, ax = plt.subplots()\n",
        "_,_,_ = ax.pie(crimes_offence, labels=get_new_labels(crimes_offence,crimes_offence.index), colors='rainbow', autopct=my_autopct, startangle=90, rotatelabels=False)"
      ],
      "execution_count": null,
      "outputs": []
    },
    {
      "cell_type": "code",
      "metadata": {
        "id": "VkkBnkF1-_6v"
      },
      "source": [
        "sum = crimes_offence['COUNT'].sum()\n",
        "def lab(s,i):\n",
        "    if i/sum > 0.05:\n",
        "        return s\n",
        "    else:\n",
        "        return ''\n",
        "plt.pie(crimes_offence['COUNT'], labels = [crimes_offence.index if crimes_offence['COUNT'] > 0.05 * sum else ''], startangle = 90,\n",
        "        counterclock = False, wedgeprops = {'width' : 0.4});\n",
        "plt.axis('square')"
      ],
      "execution_count": null,
      "outputs": []
    },
    {
      "cell_type": "code",
      "metadata": {
        "id": "bFk-g6cRasUB"
      },
      "source": [
        "crimes_weekday_hour = Crimes_all_years[Crimes_all_years['TYPE'] == 'motor vehicle accident response'].groupby(['DAY_OF_WEEK','HOUR'])['index'].aggregate('count').unstack()\n",
        "crimes_weekday_hour = crimes_weekday_hour.reindex(['Monday','Tuesday','Wednesday','Thursday','Friday','Saturday','Sunday'])\n",
        "sns.set_context({\"figure.figsize\":(20,20)})\n",
        "ax = sns.heatmap(crimes_weekday_hour,square=True,annot=False,fmt=\"d\",cmap=\"OrRd\",linewidths=0.5,cbar_kws={\"shrink\": 0.2}) \n",
        "ax.xaxis.tick_top()\n",
        "ax.set_title('Heatmap of Motor Vehicle Accident Response Count by Day_of_week and Hour');"
      ],
      "execution_count": null,
      "outputs": []
    },
    {
      "cell_type": "code",
      "metadata": {
        "id": "xxAjvk2pbMgB"
      },
      "source": [
        "crimes_weekday_hour = Crimes_all_years[Crimes_all_years['TYPE'] == 'investigate person'].groupby(['DAY_OF_WEEK','HOUR'])['index'].aggregate('count').unstack()\n",
        "crimes_weekday_hour = crimes_weekday_hour.reindex(['Monday','Tuesday','Wednesday','Thursday','Friday','Saturday','Sunday'])\n",
        "sns.set_context({\"figure.figsize\":(20,20)})\n",
        "ax = sns.heatmap(crimes_weekday_hour,square=True,annot=False,fmt=\"d\",cmap=\"OrRd\",linewidths=0.5,cbar_kws={\"shrink\": 0.2}) \n",
        "ax.xaxis.tick_top()\n",
        "ax.set_title('Heatmap of Investigate Person Count by Day_of_week and Hour');"
      ],
      "execution_count": null,
      "outputs": []
    },
    {
      "cell_type": "markdown",
      "metadata": {
        "id": "H_rV8xW-Somh"
      },
      "source": [
        "Line Chart"
      ]
    },
    {
      "cell_type": "code",
      "metadata": {
        "id": "GjakuAUcP_nj"
      },
      "source": [
        "crimes_weekday_hour = Crimes_all_years.groupby(['HOUR','YEAR'])['index'].aggregate(COUNT = 'count')\n",
        "sns.set_context({\"figure.figsize\":(10,10)})\n",
        "sns.lineplot(data=crimes_weekday_hour,x='HOUR',y='COUNT',hue='YEAR');"
      ],
      "execution_count": null,
      "outputs": []
    },
    {
      "cell_type": "code",
      "metadata": {
        "id": "AJWPtk0aTv0p"
      },
      "source": [
        "crimes_district_year = Crimes_all_years.groupby(['YEAR','DISTRICT'])['index'].aggregate(COUNT = 'count')\n",
        "crimes_district_year"
      ],
      "execution_count": null,
      "outputs": []
    },
    {
      "cell_type": "code",
      "metadata": {
        "id": "qPSIUmCLT1uh"
      },
      "source": [
        "sns.set_context({\"figure.figsize\":(10,10)})\n",
        "sns.lineplot(data=crimes_district_hour,x='YEAR',y='COUNT',hue='DISTRICT');"
      ],
      "execution_count": null,
      "outputs": []
    },
    {
      "cell_type": "code",
      "metadata": {
        "id": "6xn8shQSbW6U"
      },
      "source": [
        "crimes_weekday_hour = Crimes_all_years[Crimes_all_years['TYPE'] == 'larceny'].groupby(['DAY_OF_WEEK','HOUR'])['index'].aggregate('count').unstack()\n",
        "crimes_weekday_hour = crimes_weekday_hour.reindex(['Monday','Tuesday','Wednesday','Thursday','Friday','Saturday','Sunday'])\n",
        "sns.set_context({\"figure.figsize\":(20,20)})\n",
        "ax = sns.heatmap(crimes_weekday_hour,square=True,annot=False,fmt=\"d\",cmap=\"OrRd\",linewidths=0.5,cbar_kws={\"shrink\": 0.2}) \n",
        "ax.xaxis.tick_top()\n",
        "ax.set_title('Heatmap of Larceny by Day_of_week and Hour');"
      ],
      "execution_count": null,
      "outputs": []
    },
    {
      "cell_type": "code",
      "metadata": {
        "id": "_dAukZ2DdIR_"
      },
      "source": [
        "Crimes_all_years[Crimes_all_years['TYPE'] == 'motor vehicle accident response'].groupby('STREET')['index'].agg(count='count').sort_values(by='count',ascending=False).head(5)"
      ],
      "execution_count": null,
      "outputs": []
    },
    {
      "cell_type": "code",
      "metadata": {
        "id": "70INPl_xe7Zt"
      },
      "source": [
        "Crimes_all_years[Crimes_all_years['TYPE'] == 'larceny'].groupby('STREET')['index'].agg(count='count').sort_values(by='count',ascending=False).head(5)"
      ],
      "execution_count": null,
      "outputs": []
    },
    {
      "cell_type": "code",
      "metadata": {
        "id": "nr10lql0fMF-"
      },
      "source": [
        "Crimes_all_years[Crimes_all_years['TYPE'] == 'vandalism'].groupby('STREET')['index'].agg(count='count').sort_values(by='count',ascending=False).head(5)"
      ],
      "execution_count": null,
      "outputs": []
    },
    {
      "cell_type": "markdown",
      "metadata": {
        "id": "PFvWCwRNpBRl"
      },
      "source": [
        "## Analysis on Street"
      ]
    },
    {
      "cell_type": "code",
      "metadata": {
        "id": "qizxj555pKPg"
      },
      "source": [
        "street_rank = Crimes_all_years.groupby('STREET')['index'].agg(count='count').sort_values(by='count',ascending=False)[:10]"
      ],
      "execution_count": null,
      "outputs": []
    },
    {
      "cell_type": "code",
      "metadata": {
        "id": "nBmSjOiFpt1r"
      },
      "source": [
        "crimes_street_hour = Crimes_all_years[Crimes_all_years['STREET'].isin(street_rank.index)].groupby(['STREET','HOUR'])['index'].aggregate('count').unstack().reindex(list(street_rank.index))\n",
        "sns.set_context({\"figure.figsize\":(20,20)})\n",
        "ax = sns.heatmap(crimes_street_hour,square=True,annot=False,fmt=\"d\",cmap=\"rainbow\",linewidths=0.5,cbar_kws={\"shrink\": 0.2}) \n",
        "ax.xaxis.tick_top()\n",
        "ax.set_title('Heatmap of Larceny by Day_of_week and Hour');"
      ],
      "execution_count": null,
      "outputs": []
    },
    {
      "cell_type": "markdown",
      "metadata": {
        "id": "3yKEmX4efWAY"
      },
      "source": [
        "## Analysis on District "
      ]
    },
    {
      "cell_type": "code",
      "metadata": {
        "id": "sGXE4votzOH3"
      },
      "source": [
        "gm=pd.DataFrame({'District':Crime_all_years['DISTRICT'],'Year':Crime_all_years['YEAR']})\n",
        "ax=gm.groupby(['District','Year']).agg({'Year':'count'})\n",
        "ap = ax.unstack(level=0).plot(kind='line', subplots=True, rot=0, layout=(7,2) )\n",
        "plt.tight_layout()"
      ],
      "execution_count": null,
      "outputs": []
    },
    {
      "cell_type": "code",
      "metadata": {
        "id": "BpTwkC-zFFfw"
      },
      "source": [
        "\n",
        "crimes_District_year = Crimes_all_years.groupby(['DISTRICT','YEAR'])['index'].aggregate('count').unstack()\n",
        "crimes_District_year = crimes_District_year.reindex(['B2', 'C11', 'A1', 'E18', 'D4', 'B3', 'C6', 'D14', 'A7', 'E5',\n",
        "       'E13', 'A15', 'External'])\n",
        "ax = sns.heatmap(crimes_District_year,square=True,annot=False,fmt=\"d\",cmap=\"OrRd\",linewidths=0.5,cbar_kws={\"shrink\": 0.2}) \n",
        "ax.xaxis.tick_top()\n",
        "ax.set_title('Heatmap of District by Year')"
      ],
      "execution_count": null,
      "outputs": []
    },
    {
      "cell_type": "code",
      "metadata": {
        "id": "FKkr1YuyHs06"
      },
      "source": [
        "\n",
        "crimes_District_month = Crimes_all_years.groupby(['DISTRICT','MONTH'])['index'].aggregate('count').unstack()\n",
        "crimes_District_month = crimes_District_year.reindex(['B2', 'C11', 'A1', 'E18', 'D4', 'B3', 'C6', 'D14', 'A7', 'E5',\n",
        "       'E13', 'A15', 'External'])\n",
        "ax = sns.heatmap(crimes_District_month,square=True,annot=False,fmt=\"d\",cmap=\"OrRd\",linewidths=0.5,cbar_kws={\"shrink\": 0.2}) \n",
        "ax.xaxis.tick_top()\n",
        "ax.set_title('Heatmap of District by Month')"
      ],
      "execution_count": null,
      "outputs": []
    },
    {
      "cell_type": "code",
      "metadata": {
        "id": "iV26n1KPvTwi"
      },
      "source": [
        "\n",
        "crimes_District_season = Crimes_all_years.groupby(['DISTRICT','SEASON'])['index'].aggregate('count').unstack()\n",
        "crimes_District_season = crimes_District_season.reindex(['B2', 'C11', 'A1', 'E18', 'D4', 'B3', 'C6', 'D14', 'A7', 'E5',\n",
        "       'E13', 'A15', 'External'])\n",
        "ax = sns.heatmap(crimes_District_season,square=True,annot=False,fmt=\"d\",cmap=\"OrRd\",linewidths=0.5,cbar_kws={\"shrink\": 0.2}) \n",
        "ax.xaxis.tick_top()\n",
        "ax.set_title('Heatmap of District by Season')\n"
      ],
      "execution_count": null,
      "outputs": []
    },
    {
      "cell_type": "code",
      "metadata": {
        "id": "vxpr2phvwLnZ"
      },
      "source": [
        "\n",
        "crimes_District_weeksdays = Crimes_all_years.groupby(['DAY_OF_WEEK','DISTRICT'])['index'].aggregate('count').unstack()\n",
        "crimes_District_weeksdays = crimes_District_weeksdays.reindex(['Monday','Tuesday','Wednesday','Thursday','Friday','Saturday','Sunday'])\n",
        "ax = sns.heatmap(crimes_District_weeksdays,square=True,annot=False,fmt=\"d\",cmap=\"OrRd\",linewidths=0.5,cbar_kws={\"shrink\": 0.2}) \n",
        "ax.xaxis.tick_top()\n",
        "ax.set_title('Heatmap of District by day of week')"
      ],
      "execution_count": null,
      "outputs": []
    },
    {
      "cell_type": "code",
      "metadata": {
        "id": "W2zX5rrLsPHG"
      },
      "source": [
        "Crimes_all_years['Holiday']=None\n",
        "Crimes_all_years.loc[Crimes_all_years['MONTH'].isin([12]),'Holiday']=1\n",
        "Crimes_all_years.loc[Crimes_all_years['MONTH'].isin([1,2,3,4,5,6,7,8,9,10,11]),'Holiday']=0\n",
        "Crime_all_years.info()"
      ],
      "execution_count": null,
      "outputs": []
    },
    {
      "cell_type": "code",
      "metadata": {
        "id": "ZBklD0NBiqRs"
      },
      "source": [
        "mydate=Crime_all_years['OCCURRED_ON_DATE']\n",
        "DATE = []\n",
        "\n",
        "for date in mydate:\n",
        "    year = int(date[:4])\n",
        "    month = int(date[5:7])\n",
        "    day = int(date[8:10])\n",
        "    DATE.append([year, month, day])\n",
        "    \n",
        "\n",
        "Crime_all_years['DATE']=DATE\n",
        "\n",
        "Holiday=[]\n",
        "\n",
        "month=Crime_all_years['MONTH']\n",
        "day=Crime_all_years['DAY']\n",
        "for var in month:\n",
        "  if var ==12:\n",
        "   for d in day:\n",
        "     if d == 24:\n",
        "      Holiday.append(1)\n",
        "     else:\n",
        "      Holiday.append(0)\n"
      ],
      "execution_count": null,
      "outputs": []
    },
    {
      "cell_type": "markdown",
      "metadata": {
        "id": "u4eEJA2jSuDd"
      },
      "source": [
        "## Map"
      ]
    }
  ]
}