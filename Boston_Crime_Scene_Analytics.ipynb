{
  "nbformat": 4,
  "nbformat_minor": 0,
  "metadata": {
    "colab": {
      "name": "Boston_Crime_Scene_Analytics.ipynb",
      "provenance": [],
      "collapsed_sections": [],
      "include_colab_link": true
    },
    "kernelspec": {
      "name": "python3",
      "display_name": "Python 3"
    },
    "language_info": {
      "name": "python"
    }
  },
  "cells": [
    {
      "cell_type": "markdown",
      "metadata": {
        "id": "view-in-github",
        "colab_type": "text"
      },
      "source": [
        "<a href=\"https://colab.research.google.com/github/AlexVonSchwerdtner/BA780-Team6/blob/main/Boston_Crime_Scene_Analytics.ipynb\" target=\"_parent\"><img src=\"https://colab.research.google.com/assets/colab-badge.svg\" alt=\"Open In Colab\"/></a>"
      ]
    },
    {
      "cell_type": "markdown",
      "metadata": {
        "id": "tP_ws-rpdNk8"
      },
      "source": [
        "#*BA780 - Team 6*\n",
        "##Team Project\n",
        "\n",
        "#**Boston Crime Scene Analytics**\n",
        "\n",
        "###*Problem definition:*\n",
        "\n",
        "As current students living in the Boston Area we are interested in analyzing the Boston Crime Scene. We would like to analyze and discover what types of crimes are most common, where the different types of crimes are most likely to occur, and if the frequency of crimes change over specific time spans (e.g. day, week & year). Our mission is to answer questions like “where a tourist is most likely to be a victim of a crime at a certain time of day, specific months or seasons of a given year?”\n",
        "\n",
        "**Data Source:** Analyze Boston\n",
        "\n",
        "https://data.boston.gov/dataset/crime-incident-reports-august-2015-to-date-source-new-system\n",
        "\n",
        "*Crime incident reports are provided by Boston Police Department (BPD) to document the initial details surrounding an incident to which BPD officers respond. This is a dataset containing records from the new crime incident report system, which includes a reduced set of fields focused on capturing the type of incident as well as when and where it occurred. Records in the new system begin in June of 2015.*"
      ]
    },
    {
      "cell_type": "markdown",
      "metadata": {
        "id": "8p0PeHvpeJQI"
      },
      "source": [
        "## **Data Cleaning**"
      ]
    },
    {
      "cell_type": "markdown",
      "metadata": {
        "id": "A5KL8Gzcx025"
      },
      "source": [
        "Importing Required Packages"
      ]
    },
    {
      "cell_type": "code",
      "metadata": {
        "id": "oCpzTuZRiHMv"
      },
      "source": [
        "import numpy as np\n",
        "import pandas as pd\n",
        "import matplotlib.pyplot as plt\n",
        "import seaborn as sns\n",
        "%matplotlib inline"
      ],
      "execution_count": 2,
      "outputs": []
    },
    {
      "cell_type": "markdown",
      "metadata": {
        "id": "XZIzJF5tmHO6"
      },
      "source": [
        "Reading all files to the environment"
      ]
    },
    {
      "cell_type": "code",
      "metadata": {
        "id": "-Clyx0msi8Ov",
        "colab": {
          "base_uri": "https://localhost:8080/"
        },
        "outputId": "426644d2-9d14-4b5a-8392-657bc003bd63"
      },
      "source": [
        "# reading the crime data sets to the environement\n",
        "crimes2015 = pd.read_csv('https://raw.githubusercontent.com/AlexVonSchwerdtner/BA780-Team6/main/crime-incident-reports-2015.csv')\n",
        "crimes2016 = pd.read_csv('https://raw.githubusercontent.com/AlexVonSchwerdtner/BA780-Team6/main/crime-incident-reports-2016.csv')\n",
        "crimes2017 = pd.read_csv('https://raw.githubusercontent.com/AlexVonSchwerdtner/BA780-Team6/main/crime-incident-reports-2017.csv')\n",
        "crimes2018 = pd.read_csv('https://raw.githubusercontent.com/AlexVonSchwerdtner/BA780-Team6/main/crime-incident-reports-2018.csv')\n",
        "crimes2019 = pd.read_csv('https://raw.githubusercontent.com/AlexVonSchwerdtner/BA780-Team6/main/crime-incident-reports-2019.csv')\n",
        "crimes2020 = pd.read_csv('https://raw.githubusercontent.com/AlexVonSchwerdtner/BA780-Team6/main/crime-incident-reports-2020.csv')\n",
        "crimes2021 = pd.read_csv('https://raw.githubusercontent.com/AlexVonSchwerdtner/BA780-Team6/main/crime-incident-reports-2021.csv')"
      ],
      "execution_count": 3,
      "outputs": [
        {
          "output_type": "stream",
          "name": "stderr",
          "text": [
            "/usr/local/lib/python3.7/dist-packages/IPython/core/interactiveshell.py:2718: DtypeWarning: Columns (0) have mixed types.Specify dtype option on import or set low_memory=False.\n",
            "  interactivity=interactivity, compiler=compiler, result=result)\n"
          ]
        }
      ]
    },
    {
      "cell_type": "code",
      "metadata": {
        "colab": {
          "base_uri": "https://localhost:8080/",
          "height": 204
        },
        "id": "E_nkmOXCOfIS",
        "outputId": "9f1a8009-b9ec-4324-fe1e-00199dd25deb"
      },
      "source": [
        "# reading the offense codes to the environment\n",
        "offense_codes = pd.read_excel('https://raw.githubusercontent.com/AlexVonSchwerdtner/BA780-Team6/main/rmsoffensecodes.xlsx')\n",
        "offense_codes.head()"
      ],
      "execution_count": 4,
      "outputs": [
        {
          "output_type": "execute_result",
          "data": {
            "text/html": [
              "<div>\n",
              "<style scoped>\n",
              "    .dataframe tbody tr th:only-of-type {\n",
              "        vertical-align: middle;\n",
              "    }\n",
              "\n",
              "    .dataframe tbody tr th {\n",
              "        vertical-align: top;\n",
              "    }\n",
              "\n",
              "    .dataframe thead th {\n",
              "        text-align: right;\n",
              "    }\n",
              "</style>\n",
              "<table border=\"1\" class=\"dataframe\">\n",
              "  <thead>\n",
              "    <tr style=\"text-align: right;\">\n",
              "      <th></th>\n",
              "      <th>CODE</th>\n",
              "      <th>NAME</th>\n",
              "    </tr>\n",
              "  </thead>\n",
              "  <tbody>\n",
              "    <tr>\n",
              "      <th>0</th>\n",
              "      <td>612</td>\n",
              "      <td>LARCENY PURSE SNATCH - NO FORCE</td>\n",
              "    </tr>\n",
              "    <tr>\n",
              "      <th>1</th>\n",
              "      <td>613</td>\n",
              "      <td>LARCENY SHOPLIFTING</td>\n",
              "    </tr>\n",
              "    <tr>\n",
              "      <th>2</th>\n",
              "      <td>615</td>\n",
              "      <td>LARCENY THEFT OF MV PARTS &amp; ACCESSORIES</td>\n",
              "    </tr>\n",
              "    <tr>\n",
              "      <th>3</th>\n",
              "      <td>1731</td>\n",
              "      <td>INCEST</td>\n",
              "    </tr>\n",
              "    <tr>\n",
              "      <th>4</th>\n",
              "      <td>3111</td>\n",
              "      <td>LICENSE PREMISE VIOLATION</td>\n",
              "    </tr>\n",
              "  </tbody>\n",
              "</table>\n",
              "</div>"
            ],
            "text/plain": [
              "   CODE                                     NAME\n",
              "0   612         LARCENY PURSE SNATCH - NO FORCE \n",
              "1   613                      LARCENY SHOPLIFTING\n",
              "2   615  LARCENY THEFT OF MV PARTS & ACCESSORIES\n",
              "3  1731                                   INCEST\n",
              "4  3111                LICENSE PREMISE VIOLATION"
            ]
          },
          "metadata": {},
          "execution_count": 4
        }
      ]
    },
    {
      "cell_type": "code",
      "metadata": {
        "colab": {
          "base_uri": "https://localhost:8080/"
        },
        "id": "Rv6VUy7mUU2u",
        "outputId": "ebfda412-c720-4aba-bd05-2a6f3efcc7d5"
      },
      "source": [
        "# checking for any duplicates\n",
        "print(len(offense_codes))\n",
        "print(len(offense_codes.drop_duplicates(subset='CODE', keep='first')))"
      ],
      "execution_count": 7,
      "outputs": [
        {
          "output_type": "stream",
          "name": "stdout",
          "text": [
            "576\n",
            "425\n"
          ]
        }
      ]
    },
    {
      "cell_type": "code",
      "metadata": {
        "id": "rFxfUWu2Uhuk"
      },
      "source": [
        "# dropping duplicates\n",
        "offense_codes = offense_codes.drop_duplicates(subset='CODE', keep='first').reset_index(drop=True)"
      ],
      "execution_count": 8,
      "outputs": []
    },
    {
      "cell_type": "code",
      "metadata": {
        "id": "3LgJ69Iwzfkp"
      },
      "source": [
        "# concatenating all crime datasets\n",
        "frames = [crimes2015,crimes2016,crimes2017,crimes2018,crimes2019,crimes2020,crimes2021]\n",
        "Crimes_all_years = finals = pd.concat(frames).reset_index()"
      ],
      "execution_count": 10,
      "outputs": []
    },
    {
      "cell_type": "code",
      "metadata": {
        "colab": {
          "base_uri": "https://localhost:8080/"
        },
        "id": "kr22ftHsC5mE",
        "outputId": "2c5f4b80-6204-4f7d-dcc6-4e62d14bef63"
      },
      "source": [
        "# checking for any duplicates\n",
        "print(len(Crimes_all_years))\n",
        "print(len(Crimes_all_years.drop_duplicates(subset='INCIDENT_NUMBER', keep='first')))"
      ],
      "execution_count": 11,
      "outputs": [
        {
          "output_type": "stream",
          "name": "stdout",
          "text": [
            "494281\n",
            "452208\n"
          ]
        }
      ]
    },
    {
      "cell_type": "code",
      "metadata": {
        "id": "mQhIjPtZDZnw"
      },
      "source": [
        "# dropping duplicates\n",
        "Crime_all_years = Crimes_all_years.drop_duplicates(subset='INCIDENT_NUMBER', keep='first').reset_index(drop=True)"
      ],
      "execution_count": 12,
      "outputs": []
    },
    {
      "cell_type": "code",
      "metadata": {
        "id": "G3knYgbLzua_"
      },
      "source": [
        "# filling the NA's in the 'OFFENSE_CODE_GROUP' to \"Other\"\n",
        "Crimes_all_years['OFFENSE_CODE_GROUP']= Crimes_all_years['OFFENSE_CODE_GROUP'].fillna(\"Other\")"
      ],
      "execution_count": 13,
      "outputs": []
    },
    {
      "cell_type": "code",
      "metadata": {
        "colab": {
          "base_uri": "https://localhost:8080/"
        },
        "id": "vMlncK6jzxJ_",
        "outputId": "cfdf62e5-3f8f-42cd-9fce-588c333cd451"
      },
      "source": [
        "Crimes_all_years.isna().sum()"
      ],
      "execution_count": 14,
      "outputs": [
        {
          "output_type": "execute_result",
          "data": {
            "text/plain": [
              "index                       0\n",
              "INCIDENT_NUMBER             0\n",
              "OFFENSE_CODE                0\n",
              "OFFENSE_CODE_GROUP          0\n",
              "OFFENSE_DESCRIPTION         0\n",
              "DISTRICT                 3120\n",
              "REPORTING_AREA              0\n",
              "SHOOTING               351798\n",
              "OCCURRED_ON_DATE            0\n",
              "YEAR                        0\n",
              "MONTH                       0\n",
              "DAY_OF_WEEK                 0\n",
              "HOUR                        0\n",
              "UCR_PART               141125\n",
              "STREET                  11886\n",
              "Lat                     22530\n",
              "Long                    22530\n",
              "Location                    0\n",
              "dtype: int64"
            ]
          },
          "metadata": {},
          "execution_count": 14
        }
      ]
    },
    {
      "cell_type": "code",
      "metadata": {
        "id": "Lg1CzU--DqXV",
        "colab": {
          "base_uri": "https://localhost:8080/",
          "height": 609
        },
        "outputId": "cef00588-fc37-43db-f793-44da93af13c6"
      },
      "source": [
        "# missing values in Lat column\n",
        "Crimes_all_years[Crimes_all_years['Lat'].isnull()]"
      ],
      "execution_count": 16,
      "outputs": [
        {
          "output_type": "execute_result",
          "data": {
            "text/html": [
              "<div>\n",
              "<style scoped>\n",
              "    .dataframe tbody tr th:only-of-type {\n",
              "        vertical-align: middle;\n",
              "    }\n",
              "\n",
              "    .dataframe tbody tr th {\n",
              "        vertical-align: top;\n",
              "    }\n",
              "\n",
              "    .dataframe thead th {\n",
              "        text-align: right;\n",
              "    }\n",
              "</style>\n",
              "<table border=\"1\" class=\"dataframe\">\n",
              "  <thead>\n",
              "    <tr style=\"text-align: right;\">\n",
              "      <th></th>\n",
              "      <th>index</th>\n",
              "      <th>INCIDENT_NUMBER</th>\n",
              "      <th>OFFENSE_CODE</th>\n",
              "      <th>OFFENSE_CODE_GROUP</th>\n",
              "      <th>OFFENSE_DESCRIPTION</th>\n",
              "      <th>DISTRICT</th>\n",
              "      <th>REPORTING_AREA</th>\n",
              "      <th>SHOOTING</th>\n",
              "      <th>OCCURRED_ON_DATE</th>\n",
              "      <th>YEAR</th>\n",
              "      <th>MONTH</th>\n",
              "      <th>DAY_OF_WEEK</th>\n",
              "      <th>HOUR</th>\n",
              "      <th>UCR_PART</th>\n",
              "      <th>STREET</th>\n",
              "      <th>Lat</th>\n",
              "      <th>Long</th>\n",
              "      <th>Location</th>\n",
              "    </tr>\n",
              "  </thead>\n",
              "  <tbody>\n",
              "    <tr>\n",
              "      <th>16</th>\n",
              "      <td>16</td>\n",
              "      <td>I182039429</td>\n",
              "      <td>1107</td>\n",
              "      <td>Fraud</td>\n",
              "      <td>FRAUD - IMPERSONATION</td>\n",
              "      <td>C6</td>\n",
              "      <td>226</td>\n",
              "      <td>NaN</td>\n",
              "      <td>2015-11-26 08:00:00</td>\n",
              "      <td>2015</td>\n",
              "      <td>11</td>\n",
              "      <td>Thursday</td>\n",
              "      <td>8</td>\n",
              "      <td>Part Two</td>\n",
              "      <td>E FOURTH ST</td>\n",
              "      <td>NaN</td>\n",
              "      <td>NaN</td>\n",
              "      <td>(0.00000000, 0.00000000)</td>\n",
              "    </tr>\n",
              "    <tr>\n",
              "      <th>45</th>\n",
              "      <td>45</td>\n",
              "      <td>I172061344</td>\n",
              "      <td>1102</td>\n",
              "      <td>Fraud</td>\n",
              "      <td>FRAUD - FALSE PRETENSE / SCHEME</td>\n",
              "      <td>A1</td>\n",
              "      <td>92</td>\n",
              "      <td>NaN</td>\n",
              "      <td>2015-10-13 12:00:00</td>\n",
              "      <td>2015</td>\n",
              "      <td>10</td>\n",
              "      <td>Tuesday</td>\n",
              "      <td>12</td>\n",
              "      <td>Part Two</td>\n",
              "      <td>COURT ST</td>\n",
              "      <td>NaN</td>\n",
              "      <td>NaN</td>\n",
              "      <td>(0.00000000, 0.00000000)</td>\n",
              "    </tr>\n",
              "    <tr>\n",
              "      <th>83</th>\n",
              "      <td>83</td>\n",
              "      <td>I162101249</td>\n",
              "      <td>1102</td>\n",
              "      <td>Fraud</td>\n",
              "      <td>FRAUD - FALSE PRETENSE / SCHEME</td>\n",
              "      <td>E18</td>\n",
              "      <td></td>\n",
              "      <td>NaN</td>\n",
              "      <td>2015-12-24 20:00:00</td>\n",
              "      <td>2015</td>\n",
              "      <td>12</td>\n",
              "      <td>Thursday</td>\n",
              "      <td>20</td>\n",
              "      <td>Part Two</td>\n",
              "      <td>CUMMINS HWY</td>\n",
              "      <td>NaN</td>\n",
              "      <td>NaN</td>\n",
              "      <td>(0.00000000, 0.00000000)</td>\n",
              "    </tr>\n",
              "    <tr>\n",
              "      <th>91</th>\n",
              "      <td>91</td>\n",
              "      <td>I162097933</td>\n",
              "      <td>1106</td>\n",
              "      <td>Confidence Games</td>\n",
              "      <td>FRAUD - CREDIT CARD / ATM FRAUD</td>\n",
              "      <td>E5</td>\n",
              "      <td>739</td>\n",
              "      <td>NaN</td>\n",
              "      <td>2015-12-01 00:00:00</td>\n",
              "      <td>2015</td>\n",
              "      <td>12</td>\n",
              "      <td>Tuesday</td>\n",
              "      <td>0</td>\n",
              "      <td>Part Two</td>\n",
              "      <td>ADDELAIDE PL</td>\n",
              "      <td>NaN</td>\n",
              "      <td>NaN</td>\n",
              "      <td>(0.00000000, 0.00000000)</td>\n",
              "    </tr>\n",
              "    <tr>\n",
              "      <th>92</th>\n",
              "      <td>92</td>\n",
              "      <td>I162097933</td>\n",
              "      <td>3109</td>\n",
              "      <td>Police Service Incidents</td>\n",
              "      <td>SERVICE TO OTHER PD INSIDE OF MA.</td>\n",
              "      <td>E5</td>\n",
              "      <td>739</td>\n",
              "      <td>NaN</td>\n",
              "      <td>2015-12-01 00:00:00</td>\n",
              "      <td>2015</td>\n",
              "      <td>12</td>\n",
              "      <td>Tuesday</td>\n",
              "      <td>0</td>\n",
              "      <td>Part Three</td>\n",
              "      <td>ADDELAIDE PL</td>\n",
              "      <td>NaN</td>\n",
              "      <td>NaN</td>\n",
              "      <td>(0.00000000, 0.00000000)</td>\n",
              "    </tr>\n",
              "    <tr>\n",
              "      <th>...</th>\n",
              "      <td>...</td>\n",
              "      <td>...</td>\n",
              "      <td>...</td>\n",
              "      <td>...</td>\n",
              "      <td>...</td>\n",
              "      <td>...</td>\n",
              "      <td>...</td>\n",
              "      <td>...</td>\n",
              "      <td>...</td>\n",
              "      <td>...</td>\n",
              "      <td>...</td>\n",
              "      <td>...</td>\n",
              "      <td>...</td>\n",
              "      <td>...</td>\n",
              "      <td>...</td>\n",
              "      <td>...</td>\n",
              "      <td>...</td>\n",
              "      <td>...</td>\n",
              "    </tr>\n",
              "    <tr>\n",
              "      <th>353153</th>\n",
              "      <td>98788</td>\n",
              "      <td>I172022524</td>\n",
              "      <td>2660</td>\n",
              "      <td>Other</td>\n",
              "      <td>OTHER OFFENSE</td>\n",
              "      <td>A1</td>\n",
              "      <td>171</td>\n",
              "      <td>NaN</td>\n",
              "      <td>2018-12-21 02:15:00</td>\n",
              "      <td>2018</td>\n",
              "      <td>12</td>\n",
              "      <td>Friday</td>\n",
              "      <td>2</td>\n",
              "      <td>Part Two</td>\n",
              "      <td>BOYLSTON ST</td>\n",
              "      <td>NaN</td>\n",
              "      <td>NaN</td>\n",
              "      <td>(0.00000000, 0.00000000)</td>\n",
              "    </tr>\n",
              "    <tr>\n",
              "      <th>353154</th>\n",
              "      <td>98789</td>\n",
              "      <td>I172022524</td>\n",
              "      <td>1810</td>\n",
              "      <td>Drug Violation</td>\n",
              "      <td>DRUGS - SALE / MANUFACTURING</td>\n",
              "      <td>A1</td>\n",
              "      <td>171</td>\n",
              "      <td>NaN</td>\n",
              "      <td>2018-12-21 02:15:00</td>\n",
              "      <td>2018</td>\n",
              "      <td>12</td>\n",
              "      <td>Friday</td>\n",
              "      <td>2</td>\n",
              "      <td>Part Two</td>\n",
              "      <td>BOYLSTON ST</td>\n",
              "      <td>NaN</td>\n",
              "      <td>NaN</td>\n",
              "      <td>(0.00000000, 0.00000000)</td>\n",
              "    </tr>\n",
              "    <tr>\n",
              "      <th>353168</th>\n",
              "      <td>98803</td>\n",
              "      <td>I172002908</td>\n",
              "      <td>802</td>\n",
              "      <td>Simple Assault</td>\n",
              "      <td>ASSAULT SIMPLE - BATTERY</td>\n",
              "      <td>A1</td>\n",
              "      <td></td>\n",
              "      <td>NaN</td>\n",
              "      <td>2018-01-16 16:00:00</td>\n",
              "      <td>2018</td>\n",
              "      <td>1</td>\n",
              "      <td>Tuesday</td>\n",
              "      <td>16</td>\n",
              "      <td>Part Two</td>\n",
              "      <td>NaN</td>\n",
              "      <td>NaN</td>\n",
              "      <td>NaN</td>\n",
              "      <td>(0.00000000, 0.00000000)</td>\n",
              "    </tr>\n",
              "    <tr>\n",
              "      <th>353169</th>\n",
              "      <td>98804</td>\n",
              "      <td>I172002908</td>\n",
              "      <td>3125</td>\n",
              "      <td>Warrant Arrests</td>\n",
              "      <td>WARRANT ARREST</td>\n",
              "      <td>A1</td>\n",
              "      <td></td>\n",
              "      <td>NaN</td>\n",
              "      <td>2018-01-16 16:00:00</td>\n",
              "      <td>2018</td>\n",
              "      <td>1</td>\n",
              "      <td>Tuesday</td>\n",
              "      <td>16</td>\n",
              "      <td>Part Three</td>\n",
              "      <td>NaN</td>\n",
              "      <td>NaN</td>\n",
              "      <td>NaN</td>\n",
              "      <td>(0.00000000, 0.00000000)</td>\n",
              "    </tr>\n",
              "    <tr>\n",
              "      <th>353238</th>\n",
              "      <td>98873</td>\n",
              "      <td>I110611058-00</td>\n",
              "      <td>3125</td>\n",
              "      <td>Warrant Arrests</td>\n",
              "      <td>WARRANT ARREST</td>\n",
              "      <td>A1</td>\n",
              "      <td></td>\n",
              "      <td>NaN</td>\n",
              "      <td>2018-08-29 17:00:00</td>\n",
              "      <td>2018</td>\n",
              "      <td>8</td>\n",
              "      <td>Wednesday</td>\n",
              "      <td>17</td>\n",
              "      <td>Part Three</td>\n",
              "      <td>CAMBRIDGE ST</td>\n",
              "      <td>NaN</td>\n",
              "      <td>NaN</td>\n",
              "      <td>(0.00000000, 0.00000000)</td>\n",
              "    </tr>\n",
              "  </tbody>\n",
              "</table>\n",
              "<p>22530 rows × 18 columns</p>\n",
              "</div>"
            ],
            "text/plain": [
              "        index INCIDENT_NUMBER  ...  Long                  Location\n",
              "16         16      I182039429  ...   NaN  (0.00000000, 0.00000000)\n",
              "45         45      I172061344  ...   NaN  (0.00000000, 0.00000000)\n",
              "83         83      I162101249  ...   NaN  (0.00000000, 0.00000000)\n",
              "91         91      I162097933  ...   NaN  (0.00000000, 0.00000000)\n",
              "92         92      I162097933  ...   NaN  (0.00000000, 0.00000000)\n",
              "...       ...             ...  ...   ...                       ...\n",
              "353153  98788      I172022524  ...   NaN  (0.00000000, 0.00000000)\n",
              "353154  98789      I172022524  ...   NaN  (0.00000000, 0.00000000)\n",
              "353168  98803      I172002908  ...   NaN  (0.00000000, 0.00000000)\n",
              "353169  98804      I172002908  ...   NaN  (0.00000000, 0.00000000)\n",
              "353238  98873   I110611058-00  ...   NaN  (0.00000000, 0.00000000)\n",
              "\n",
              "[22530 rows x 18 columns]"
            ]
          },
          "metadata": {},
          "execution_count": 16
        }
      ]
    },
    {
      "cell_type": "code",
      "metadata": {
        "id": "76GpTfRADuM8",
        "colab": {
          "base_uri": "https://localhost:8080/",
          "height": 609
        },
        "outputId": "fd80c119-3a7c-47c1-9b5f-f0369a0f2d14"
      },
      "source": [
        "# missing values in Long column\n",
        "Crime_all_years[Crime_all_years['Long'].isnull()]"
      ],
      "execution_count": 17,
      "outputs": [
        {
          "output_type": "execute_result",
          "data": {
            "text/html": [
              "<div>\n",
              "<style scoped>\n",
              "    .dataframe tbody tr th:only-of-type {\n",
              "        vertical-align: middle;\n",
              "    }\n",
              "\n",
              "    .dataframe tbody tr th {\n",
              "        vertical-align: top;\n",
              "    }\n",
              "\n",
              "    .dataframe thead th {\n",
              "        text-align: right;\n",
              "    }\n",
              "</style>\n",
              "<table border=\"1\" class=\"dataframe\">\n",
              "  <thead>\n",
              "    <tr style=\"text-align: right;\">\n",
              "      <th></th>\n",
              "      <th>index</th>\n",
              "      <th>INCIDENT_NUMBER</th>\n",
              "      <th>OFFENSE_CODE</th>\n",
              "      <th>OFFENSE_CODE_GROUP</th>\n",
              "      <th>OFFENSE_DESCRIPTION</th>\n",
              "      <th>DISTRICT</th>\n",
              "      <th>REPORTING_AREA</th>\n",
              "      <th>SHOOTING</th>\n",
              "      <th>OCCURRED_ON_DATE</th>\n",
              "      <th>YEAR</th>\n",
              "      <th>MONTH</th>\n",
              "      <th>DAY_OF_WEEK</th>\n",
              "      <th>HOUR</th>\n",
              "      <th>UCR_PART</th>\n",
              "      <th>STREET</th>\n",
              "      <th>Lat</th>\n",
              "      <th>Long</th>\n",
              "      <th>Location</th>\n",
              "    </tr>\n",
              "  </thead>\n",
              "  <tbody>\n",
              "    <tr>\n",
              "      <th>13</th>\n",
              "      <td>16</td>\n",
              "      <td>I182039429</td>\n",
              "      <td>1107</td>\n",
              "      <td>Fraud</td>\n",
              "      <td>FRAUD - IMPERSONATION</td>\n",
              "      <td>C6</td>\n",
              "      <td>226</td>\n",
              "      <td>NaN</td>\n",
              "      <td>2015-11-26 08:00:00</td>\n",
              "      <td>2015</td>\n",
              "      <td>11</td>\n",
              "      <td>Thursday</td>\n",
              "      <td>8</td>\n",
              "      <td>Part Two</td>\n",
              "      <td>E FOURTH ST</td>\n",
              "      <td>NaN</td>\n",
              "      <td>NaN</td>\n",
              "      <td>(0.00000000, 0.00000000)</td>\n",
              "    </tr>\n",
              "    <tr>\n",
              "      <th>42</th>\n",
              "      <td>45</td>\n",
              "      <td>I172061344</td>\n",
              "      <td>1102</td>\n",
              "      <td>Fraud</td>\n",
              "      <td>FRAUD - FALSE PRETENSE / SCHEME</td>\n",
              "      <td>A1</td>\n",
              "      <td>92</td>\n",
              "      <td>NaN</td>\n",
              "      <td>2015-10-13 12:00:00</td>\n",
              "      <td>2015</td>\n",
              "      <td>10</td>\n",
              "      <td>Tuesday</td>\n",
              "      <td>12</td>\n",
              "      <td>Part Two</td>\n",
              "      <td>COURT ST</td>\n",
              "      <td>NaN</td>\n",
              "      <td>NaN</td>\n",
              "      <td>(0.00000000, 0.00000000)</td>\n",
              "    </tr>\n",
              "    <tr>\n",
              "      <th>78</th>\n",
              "      <td>83</td>\n",
              "      <td>I162101249</td>\n",
              "      <td>1102</td>\n",
              "      <td>Fraud</td>\n",
              "      <td>FRAUD - FALSE PRETENSE / SCHEME</td>\n",
              "      <td>E18</td>\n",
              "      <td></td>\n",
              "      <td>NaN</td>\n",
              "      <td>2015-12-24 20:00:00</td>\n",
              "      <td>2015</td>\n",
              "      <td>12</td>\n",
              "      <td>Thursday</td>\n",
              "      <td>20</td>\n",
              "      <td>Part Two</td>\n",
              "      <td>CUMMINS HWY</td>\n",
              "      <td>NaN</td>\n",
              "      <td>NaN</td>\n",
              "      <td>(0.00000000, 0.00000000)</td>\n",
              "    </tr>\n",
              "    <tr>\n",
              "      <th>86</th>\n",
              "      <td>91</td>\n",
              "      <td>I162097933</td>\n",
              "      <td>1106</td>\n",
              "      <td>Confidence Games</td>\n",
              "      <td>FRAUD - CREDIT CARD / ATM FRAUD</td>\n",
              "      <td>E5</td>\n",
              "      <td>739</td>\n",
              "      <td>NaN</td>\n",
              "      <td>2015-12-01 00:00:00</td>\n",
              "      <td>2015</td>\n",
              "      <td>12</td>\n",
              "      <td>Tuesday</td>\n",
              "      <td>0</td>\n",
              "      <td>Part Two</td>\n",
              "      <td>ADDELAIDE PL</td>\n",
              "      <td>NaN</td>\n",
              "      <td>NaN</td>\n",
              "      <td>(0.00000000, 0.00000000)</td>\n",
              "    </tr>\n",
              "    <tr>\n",
              "      <th>106</th>\n",
              "      <td>112</td>\n",
              "      <td>I162083921</td>\n",
              "      <td>1102</td>\n",
              "      <td>Fraud</td>\n",
              "      <td>FRAUD - FALSE PRETENSE / SCHEME</td>\n",
              "      <td>D4</td>\n",
              "      <td></td>\n",
              "      <td>NaN</td>\n",
              "      <td>2015-09-20 12:00:00</td>\n",
              "      <td>2015</td>\n",
              "      <td>9</td>\n",
              "      <td>Sunday</td>\n",
              "      <td>12</td>\n",
              "      <td>Part Two</td>\n",
              "      <td>CLARENDON ST</td>\n",
              "      <td>NaN</td>\n",
              "      <td>NaN</td>\n",
              "      <td>(0.00000000, 0.00000000)</td>\n",
              "    </tr>\n",
              "    <tr>\n",
              "      <th>...</th>\n",
              "      <td>...</td>\n",
              "      <td>...</td>\n",
              "      <td>...</td>\n",
              "      <td>...</td>\n",
              "      <td>...</td>\n",
              "      <td>...</td>\n",
              "      <td>...</td>\n",
              "      <td>...</td>\n",
              "      <td>...</td>\n",
              "      <td>...</td>\n",
              "      <td>...</td>\n",
              "      <td>...</td>\n",
              "      <td>...</td>\n",
              "      <td>...</td>\n",
              "      <td>...</td>\n",
              "      <td>...</td>\n",
              "      <td>...</td>\n",
              "      <td>...</td>\n",
              "    </tr>\n",
              "    <tr>\n",
              "      <th>311094</th>\n",
              "      <td>98649</td>\n",
              "      <td>I182000010</td>\n",
              "      <td>3802</td>\n",
              "      <td>Motor Vehicle Accident Response</td>\n",
              "      <td>M/V ACCIDENT - PROPERTY  DAMAGE</td>\n",
              "      <td>B3</td>\n",
              "      <td></td>\n",
              "      <td>NaN</td>\n",
              "      <td>2018-01-01 00:15:00</td>\n",
              "      <td>2018</td>\n",
              "      <td>1</td>\n",
              "      <td>Monday</td>\n",
              "      <td>0</td>\n",
              "      <td>Part Three</td>\n",
              "      <td>CUMMINS HWY</td>\n",
              "      <td>NaN</td>\n",
              "      <td>NaN</td>\n",
              "      <td>(0.00000000, 0.00000000)</td>\n",
              "    </tr>\n",
              "    <tr>\n",
              "      <th>311098</th>\n",
              "      <td>98655</td>\n",
              "      <td>I172107333</td>\n",
              "      <td>724</td>\n",
              "      <td>Auto Theft</td>\n",
              "      <td>AUTO THEFT</td>\n",
              "      <td>A1</td>\n",
              "      <td></td>\n",
              "      <td>NaN</td>\n",
              "      <td>2018-01-11 00:50:00</td>\n",
              "      <td>2018</td>\n",
              "      <td>1</td>\n",
              "      <td>Thursday</td>\n",
              "      <td>0</td>\n",
              "      <td>Part One</td>\n",
              "      <td>BOYLSTON ST</td>\n",
              "      <td>NaN</td>\n",
              "      <td>NaN</td>\n",
              "      <td>(0.00000000, 0.00000000)</td>\n",
              "    </tr>\n",
              "    <tr>\n",
              "      <th>311147</th>\n",
              "      <td>98781</td>\n",
              "      <td>I172022524</td>\n",
              "      <td>3125</td>\n",
              "      <td>Warrant Arrests</td>\n",
              "      <td>WARRANT ARREST</td>\n",
              "      <td>A1</td>\n",
              "      <td>171</td>\n",
              "      <td>NaN</td>\n",
              "      <td>2018-12-21 02:15:00</td>\n",
              "      <td>2018</td>\n",
              "      <td>12</td>\n",
              "      <td>Friday</td>\n",
              "      <td>2</td>\n",
              "      <td>Part Three</td>\n",
              "      <td>BOYLSTON ST</td>\n",
              "      <td>NaN</td>\n",
              "      <td>NaN</td>\n",
              "      <td>(0.00000000, 0.00000000)</td>\n",
              "    </tr>\n",
              "    <tr>\n",
              "      <th>311153</th>\n",
              "      <td>98803</td>\n",
              "      <td>I172002908</td>\n",
              "      <td>802</td>\n",
              "      <td>Simple Assault</td>\n",
              "      <td>ASSAULT SIMPLE - BATTERY</td>\n",
              "      <td>A1</td>\n",
              "      <td></td>\n",
              "      <td>NaN</td>\n",
              "      <td>2018-01-16 16:00:00</td>\n",
              "      <td>2018</td>\n",
              "      <td>1</td>\n",
              "      <td>Tuesday</td>\n",
              "      <td>16</td>\n",
              "      <td>Part Two</td>\n",
              "      <td>NaN</td>\n",
              "      <td>NaN</td>\n",
              "      <td>NaN</td>\n",
              "      <td>(0.00000000, 0.00000000)</td>\n",
              "    </tr>\n",
              "    <tr>\n",
              "      <th>311177</th>\n",
              "      <td>98873</td>\n",
              "      <td>I110611058-00</td>\n",
              "      <td>3125</td>\n",
              "      <td>Warrant Arrests</td>\n",
              "      <td>WARRANT ARREST</td>\n",
              "      <td>A1</td>\n",
              "      <td></td>\n",
              "      <td>NaN</td>\n",
              "      <td>2018-08-29 17:00:00</td>\n",
              "      <td>2018</td>\n",
              "      <td>8</td>\n",
              "      <td>Wednesday</td>\n",
              "      <td>17</td>\n",
              "      <td>Part Three</td>\n",
              "      <td>CAMBRIDGE ST</td>\n",
              "      <td>NaN</td>\n",
              "      <td>NaN</td>\n",
              "      <td>(0.00000000, 0.00000000)</td>\n",
              "    </tr>\n",
              "  </tbody>\n",
              "</table>\n",
              "<p>19283 rows × 18 columns</p>\n",
              "</div>"
            ],
            "text/plain": [
              "        index INCIDENT_NUMBER  ...  Long                  Location\n",
              "13         16      I182039429  ...   NaN  (0.00000000, 0.00000000)\n",
              "42         45      I172061344  ...   NaN  (0.00000000, 0.00000000)\n",
              "78         83      I162101249  ...   NaN  (0.00000000, 0.00000000)\n",
              "86         91      I162097933  ...   NaN  (0.00000000, 0.00000000)\n",
              "106       112      I162083921  ...   NaN  (0.00000000, 0.00000000)\n",
              "...       ...             ...  ...   ...                       ...\n",
              "311094  98649      I182000010  ...   NaN  (0.00000000, 0.00000000)\n",
              "311098  98655      I172107333  ...   NaN  (0.00000000, 0.00000000)\n",
              "311147  98781      I172022524  ...   NaN  (0.00000000, 0.00000000)\n",
              "311153  98803      I172002908  ...   NaN  (0.00000000, 0.00000000)\n",
              "311177  98873   I110611058-00  ...   NaN  (0.00000000, 0.00000000)\n",
              "\n",
              "[19283 rows x 18 columns]"
            ]
          },
          "metadata": {},
          "execution_count": 17
        }
      ]
    },
    {
      "cell_type": "code",
      "metadata": {
        "colab": {
          "base_uri": "https://localhost:8080/"
        },
        "id": "FWRRWo19EhzF",
        "outputId": "2b14751b-a9b8-4b08-c68c-49c93b9c2f38"
      },
      "source": [
        "df1[df1['Lat'].isnull()]['Location'].unique()"
      ],
      "execution_count": null,
      "outputs": [
        {
          "output_type": "execute_result",
          "data": {
            "text/plain": [
              "array(['(0.00000000, 0.00000000)'], dtype=object)"
            ]
          },
          "metadata": {},
          "execution_count": 20
        }
      ]
    },
    {
      "cell_type": "markdown",
      "metadata": {
        "id": "7ZKqqrAreWfT"
      },
      "source": [
        "## **General Overview**"
      ]
    },
    {
      "cell_type": "code",
      "metadata": {
        "colab": {
          "base_uri": "https://localhost:8080/"
        },
        "id": "TKiYrAdLzftY",
        "outputId": "476fae01-89ee-432b-b820-e7b1f96f0916"
      },
      "source": [
        "Crimes_all_years.info()\n"
      ],
      "execution_count": null,
      "outputs": [
        {
          "output_type": "stream",
          "name": "stdout",
          "text": [
            "<class 'pandas.core.frame.DataFrame'>\n",
            "RangeIndex: 493638 entries, 0 to 493637\n",
            "Data columns (total 18 columns):\n",
            " #   Column               Non-Null Count   Dtype  \n",
            "---  ------               --------------   -----  \n",
            " 0   index                493638 non-null  int64  \n",
            " 1   INCIDENT_NUMBER      493638 non-null  object \n",
            " 2   OFFENSE_CODE         493638 non-null  int64  \n",
            " 3   OFFENSE_CODE_GROUP   352610 non-null  object \n",
            " 4   OFFENSE_DESCRIPTION  493638 non-null  object \n",
            " 5   DISTRICT             490518 non-null  object \n",
            " 6   REPORTING_AREA       493638 non-null  object \n",
            " 7   SHOOTING             142181 non-null  object \n",
            " 8   OCCURRED_ON_DATE     493638 non-null  object \n",
            " 9   YEAR                 493638 non-null  int64  \n",
            " 10  MONTH                493638 non-null  int64  \n",
            " 11  DAY_OF_WEEK          493638 non-null  object \n",
            " 12  HOUR                 493638 non-null  int64  \n",
            " 13  UCR_PART             352516 non-null  object \n",
            " 14  STREET               481764 non-null  object \n",
            " 15  Lat                  471134 non-null  float64\n",
            " 16  Long                 471134 non-null  float64\n",
            " 17  Location             493638 non-null  object \n",
            "dtypes: float64(2), int64(5), object(11)\n",
            "memory usage: 67.8+ MB\n"
          ]
        }
      ]
    },
    {
      "cell_type": "code",
      "metadata": {
        "colab": {
          "base_uri": "https://localhost:8080/"
        },
        "id": "JLiqVWxBWW0b",
        "outputId": "c5fe35cc-538b-4bf5-eac6-22a9d940a6b8"
      },
      "source": [
        "offense_codes1.info()"
      ],
      "execution_count": 9,
      "outputs": [
        {
          "output_type": "stream",
          "name": "stdout",
          "text": [
            "<class 'pandas.core.frame.DataFrame'>\n",
            "RangeIndex: 425 entries, 0 to 424\n",
            "Data columns (total 2 columns):\n",
            " #   Column  Non-Null Count  Dtype \n",
            "---  ------  --------------  ----- \n",
            " 0   CODE    425 non-null    int64 \n",
            " 1   NAME    425 non-null    object\n",
            "dtypes: int64(1), object(1)\n",
            "memory usage: 6.8+ KB\n"
          ]
        }
      ]
    },
    {
      "cell_type": "markdown",
      "metadata": {
        "id": "1W9ESPClefwz"
      },
      "source": [
        ""
      ]
    },
    {
      "cell_type": "markdown",
      "metadata": {
        "id": "UJ3a_rNUeiML"
      },
      "source": [
        "## **By Hour and Weekday**"
      ]
    },
    {
      "cell_type": "code",
      "metadata": {
        "id": "nVMYXAU7e302"
      },
      "source": [
        ""
      ],
      "execution_count": null,
      "outputs": []
    },
    {
      "cell_type": "markdown",
      "metadata": {
        "id": "NCtdue7Ze0T5"
      },
      "source": [
        "## **By Season**"
      ]
    },
    {
      "cell_type": "code",
      "metadata": {
        "id": "M16Ww-cyfBlk"
      },
      "source": [
        ""
      ],
      "execution_count": null,
      "outputs": []
    },
    {
      "cell_type": "markdown",
      "metadata": {
        "id": "F7AeZ311fCOp"
      },
      "source": [
        "## **By Year**"
      ]
    },
    {
      "cell_type": "code",
      "metadata": {
        "id": "1wc2rDsKfC_a"
      },
      "source": [
        ""
      ],
      "execution_count": null,
      "outputs": []
    },
    {
      "cell_type": "markdown",
      "metadata": {
        "id": "SQ8LEzzufAj0"
      },
      "source": [
        "## **Map**"
      ]
    },
    {
      "cell_type": "code",
      "metadata": {
        "id": "KHCVTYPye5G4"
      },
      "source": [
        ""
      ],
      "execution_count": null,
      "outputs": []
    }
  ]
}