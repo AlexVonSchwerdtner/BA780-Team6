{
  "nbformat": 4,
  "nbformat_minor": 0,
  "metadata": {
    "colab": {
      "name": "Boston_Crime_Scene_Analytics.ipynb",
      "provenance": [],
      "collapsed_sections": [],
      "include_colab_link": true
    },
    "kernelspec": {
      "name": "python3",
      "display_name": "Python 3"
    },
    "language_info": {
      "name": "python"
    }
  },
  "cells": [
    {
      "cell_type": "markdown",
      "metadata": {
        "id": "view-in-github",
        "colab_type": "text"
      },
      "source": [
        "<a href=\"https://colab.research.google.com/github/AlexVonSchwerdtner/BA780-Team6/blob/main/Boston_Crime_Scene_Analytics.ipynb\" target=\"_parent\"><img src=\"https://colab.research.google.com/assets/colab-badge.svg\" alt=\"Open In Colab\"/></a>"
      ]
    },
    {
      "cell_type": "code",
      "metadata": {
        "id": "oCpzTuZRiHMv"
      },
      "source": [
        "import numpy as np\n",
        "import pandas as pd\n",
        "import matplotlib.pyplot as plt\n",
        "import seaborn as sns\n",
        "%matplotlib inline"
      ],
      "execution_count": null,
      "outputs": []
    },
    {
      "cell_type": "markdown",
      "metadata": {
        "id": "8A_5bBuni2NQ"
      },
      "source": [
        ""
      ]
    },
    {
      "cell_type": "markdown",
      "metadata": {
        "id": "XZIzJF5tmHO6"
      },
      "source": [
        "Reading all files to the environment"
      ]
    },
    {
      "cell_type": "code",
      "metadata": {
        "id": "-Clyx0msi8Ov",
        "colab": {
          "base_uri": "https://localhost:8080/",
          "height": 341
        },
        "outputId": "5725cc17-3bff-4af4-bd05-b7654fda234d"
      },
      "source": [
        "crimes2015 = pd.read_csv('https://raw.githubusercontent.com/AlexVonSchwerdtner/BA780-Team6/main/crime-incident-reports-2015.csv')\n",
        "crimes2016 = pd.read_csv('https://raw.githubusercontent.com/AlexVonSchwerdtner/BA780-Team6/main/crime-incident-reports-2016.csv')\n",
        "crimes2017 = pd.read_csv('https://raw.githubusercontent.com/AlexVonSchwerdtner/BA780-Team6/main/crime-incident-reports-2017.csv')\n",
        "crimes2018 = pd.read_csv('https://raw.githubusercontent.com/AlexVonSchwerdtner/BA780-Team6/main/crime-incident-reports-2018.csv')\n",
        "crimes2019 = pd.read_csv('https://raw.githubusercontent.com/AlexVonSchwerdtner/BA780-Team6/main/crime-incident-reports-2019.csv')\n",
        "crimes2020 = pd.read_csv('https://raw.githubusercontent.com/AlexVonSchwerdtner/BA780-Team6/main/crime-incident-reports-2020.csv')\n",
        "crimes2021 = pd.read_csv('https://raw.githubusercontent.com/AlexVonSchwerdtner/BA780-Team6/main/crime-incident-reports-2021.csv')\n",
        "crimes2015.head()"
      ],
      "execution_count": 3,
      "outputs": [
        {
          "output_type": "stream",
          "name": "stderr",
          "text": [
            "/usr/local/lib/python3.7/dist-packages/IPython/core/interactiveshell.py:2718: DtypeWarning: Columns (0) have mixed types.Specify dtype option on import or set low_memory=False.\n",
            "  interactivity=interactivity, compiler=compiler, result=result)\n"
          ]
        },
        {
          "output_type": "execute_result",
          "data": {
            "text/html": [
              "<div>\n",
              "<style scoped>\n",
              "    .dataframe tbody tr th:only-of-type {\n",
              "        vertical-align: middle;\n",
              "    }\n",
              "\n",
              "    .dataframe tbody tr th {\n",
              "        vertical-align: top;\n",
              "    }\n",
              "\n",
              "    .dataframe thead th {\n",
              "        text-align: right;\n",
              "    }\n",
              "</style>\n",
              "<table border=\"1\" class=\"dataframe\">\n",
              "  <thead>\n",
              "    <tr style=\"text-align: right;\">\n",
              "      <th></th>\n",
              "      <th>INCIDENT_NUMBER</th>\n",
              "      <th>OFFENSE_CODE</th>\n",
              "      <th>OFFENSE_CODE_GROUP</th>\n",
              "      <th>OFFENSE_DESCRIPTION</th>\n",
              "      <th>DISTRICT</th>\n",
              "      <th>REPORTING_AREA</th>\n",
              "      <th>SHOOTING</th>\n",
              "      <th>OCCURRED_ON_DATE</th>\n",
              "      <th>YEAR</th>\n",
              "      <th>MONTH</th>\n",
              "      <th>DAY_OF_WEEK</th>\n",
              "      <th>HOUR</th>\n",
              "      <th>UCR_PART</th>\n",
              "      <th>STREET</th>\n",
              "      <th>Lat</th>\n",
              "      <th>Long</th>\n",
              "      <th>Location</th>\n",
              "    </tr>\n",
              "  </thead>\n",
              "  <tbody>\n",
              "    <tr>\n",
              "      <th>0</th>\n",
              "      <td>I192068249</td>\n",
              "      <td>2647</td>\n",
              "      <td>Other</td>\n",
              "      <td>THREATS TO DO BODILY HARM</td>\n",
              "      <td>B2</td>\n",
              "      <td>280</td>\n",
              "      <td>NaN</td>\n",
              "      <td>2015-08-28 10:20:00</td>\n",
              "      <td>2015</td>\n",
              "      <td>8</td>\n",
              "      <td>Friday</td>\n",
              "      <td>10</td>\n",
              "      <td>Part Two</td>\n",
              "      <td>WASHINGTON ST</td>\n",
              "      <td>42.330119</td>\n",
              "      <td>-71.084251</td>\n",
              "      <td>(42.33011862, -71.08425106)</td>\n",
              "    </tr>\n",
              "    <tr>\n",
              "      <th>1</th>\n",
              "      <td>I192061894</td>\n",
              "      <td>1106</td>\n",
              "      <td>Confidence Games</td>\n",
              "      <td>FRAUD - CREDIT CARD / ATM FRAUD</td>\n",
              "      <td>C11</td>\n",
              "      <td>356</td>\n",
              "      <td>NaN</td>\n",
              "      <td>2015-08-20 00:00:00</td>\n",
              "      <td>2015</td>\n",
              "      <td>8</td>\n",
              "      <td>Thursday</td>\n",
              "      <td>0</td>\n",
              "      <td>Part Two</td>\n",
              "      <td>CHARLES ST</td>\n",
              "      <td>42.300605</td>\n",
              "      <td>-71.061268</td>\n",
              "      <td>(42.30060543, -71.06126785)</td>\n",
              "    </tr>\n",
              "    <tr>\n",
              "      <th>2</th>\n",
              "      <td>I192038828</td>\n",
              "      <td>1107</td>\n",
              "      <td>Fraud</td>\n",
              "      <td>FRAUD - IMPERSONATION</td>\n",
              "      <td>A1</td>\n",
              "      <td>172</td>\n",
              "      <td>NaN</td>\n",
              "      <td>2015-11-02 12:24:00</td>\n",
              "      <td>2015</td>\n",
              "      <td>11</td>\n",
              "      <td>Monday</td>\n",
              "      <td>12</td>\n",
              "      <td>Part Two</td>\n",
              "      <td>ALBANY ST</td>\n",
              "      <td>42.334288</td>\n",
              "      <td>-71.072395</td>\n",
              "      <td>(42.33428841, -71.07239518)</td>\n",
              "    </tr>\n",
              "    <tr>\n",
              "      <th>3</th>\n",
              "      <td>I192008877</td>\n",
              "      <td>1107</td>\n",
              "      <td>Fraud</td>\n",
              "      <td>FRAUD - IMPERSONATION</td>\n",
              "      <td>E18</td>\n",
              "      <td>525</td>\n",
              "      <td>NaN</td>\n",
              "      <td>2015-07-31 10:00:00</td>\n",
              "      <td>2015</td>\n",
              "      <td>7</td>\n",
              "      <td>Friday</td>\n",
              "      <td>10</td>\n",
              "      <td>Part Two</td>\n",
              "      <td>WINGATE RD</td>\n",
              "      <td>42.237009</td>\n",
              "      <td>-71.129566</td>\n",
              "      <td>(42.23700950, -71.12956606)</td>\n",
              "    </tr>\n",
              "    <tr>\n",
              "      <th>4</th>\n",
              "      <td>I182090828</td>\n",
              "      <td>1102</td>\n",
              "      <td>Fraud</td>\n",
              "      <td>FRAUD - FALSE PRETENSE / SCHEME</td>\n",
              "      <td>D4</td>\n",
              "      <td>159</td>\n",
              "      <td>NaN</td>\n",
              "      <td>2015-12-01 12:00:00</td>\n",
              "      <td>2015</td>\n",
              "      <td>12</td>\n",
              "      <td>Tuesday</td>\n",
              "      <td>12</td>\n",
              "      <td>Part Two</td>\n",
              "      <td>UPTON ST</td>\n",
              "      <td>42.342432</td>\n",
              "      <td>-71.072258</td>\n",
              "      <td>(42.34243222, -71.07225766)</td>\n",
              "    </tr>\n",
              "  </tbody>\n",
              "</table>\n",
              "</div>"
            ],
            "text/plain": [
              "  INCIDENT_NUMBER  OFFENSE_CODE  ...       Long                     Location\n",
              "0      I192068249          2647  ... -71.084251  (42.33011862, -71.08425106)\n",
              "1      I192061894          1106  ... -71.061268  (42.30060543, -71.06126785)\n",
              "2      I192038828          1107  ... -71.072395  (42.33428841, -71.07239518)\n",
              "3      I192008877          1107  ... -71.129566  (42.23700950, -71.12956606)\n",
              "4      I182090828          1102  ... -71.072258  (42.34243222, -71.07225766)\n",
              "\n",
              "[5 rows x 17 columns]"
            ]
          },
          "metadata": {},
          "execution_count": 3
        }
      ]
    },
    {
      "cell_type": "code",
      "metadata": {
        "id": "i2UEWvhpjjna",
        "colab": {
          "base_uri": "https://localhost:8080/"
        },
        "outputId": "6eb3505a-67ce-4f07-b22c-cd8c6ada12a9"
      },
      "source": [
        "crime_all=pd.concat([crimes2015,crimes2016,crimes2017,crimes2018,crimes2019,crimes2020,crimes2021]).drop_duplicates().reset_index(drop=True)\n",
        "print(crime_all.shape)\n",
        "print(crimes2015.shape[0]+crimes2016.shape[0]+crimes2017.shape[0]+crimes2018.shape[0]+crimes2019.shape[0]+crimes2020.shape[0]+crimes2021.shape[0])"
      ],
      "execution_count": 16,
      "outputs": [
        {
          "output_type": "stream",
          "name": "stdout",
          "text": [
            "(493638, 17)\n",
            "494281\n"
          ]
        }
      ]
    }
  ]
}