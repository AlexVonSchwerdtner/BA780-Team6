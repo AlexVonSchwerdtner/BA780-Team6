{
  "nbformat": 4,
  "nbformat_minor": 0,
  "metadata": {
    "colab": {
      "name": "Boston_Crime_Scene_Analytics.ipynb",
      "provenance": [],
      "collapsed_sections": [],
      "include_colab_link": true
    },
    "kernelspec": {
      "name": "python3",
      "display_name": "Python 3"
    },
    "language_info": {
      "name": "python"
    }
  },
  "cells": [
    {
      "cell_type": "markdown",
      "metadata": {
        "id": "view-in-github",
        "colab_type": "text"
      },
      "source": [
        "<a href=\"https://colab.research.google.com/github/AlexVonSchwerdtner/BA780-Team6/blob/main/Boston_Crime_Scene_Analytics.ipynb\" target=\"_parent\"><img src=\"https://colab.research.google.com/assets/colab-badge.svg\" alt=\"Open In Colab\"/></a>"
      ]
    },
    {
      "cell_type": "markdown",
      "metadata": {
        "id": "A5KL8Gzcx025"
      },
      "source": [
        "Importing Required Packages"
      ]
    },
    {
      "cell_type": "code",
      "metadata": {
        "id": "oCpzTuZRiHMv"
      },
      "source": [
        "import numpy as np\n",
        "import pandas as pd\n",
        "import matplotlib.pyplot as plt\n",
        "import seaborn as sns\n",
        "%matplotlib inline"
      ],
      "execution_count": 40,
      "outputs": []
    },
    {
      "cell_type": "markdown",
      "metadata": {
        "id": "XZIzJF5tmHO6"
      },
      "source": [
        "Reading all files to the environment"
      ]
    },
    {
      "cell_type": "code",
      "metadata": {
        "id": "-Clyx0msi8Ov",
        "colab": {
          "base_uri": "https://localhost:8080/"
        },
        "outputId": "b20cc9f2-8c46-4d0f-b321-15614606dc9d"
      },
      "source": [
        "# reading the crime data sets to the environement\n",
        "crimes2015 = pd.read_csv('https://raw.githubusercontent.com/AlexVonSchwerdtner/BA780-Team6/main/crime-incident-reports-2015.csv')\n",
        "crimes2016 = pd.read_csv('https://raw.githubusercontent.com/AlexVonSchwerdtner/BA780-Team6/main/crime-incident-reports-2016.csv')\n",
        "crimes2017 = pd.read_csv('https://raw.githubusercontent.com/AlexVonSchwerdtner/BA780-Team6/main/crime-incident-reports-2017.csv')\n",
        "crimes2018 = pd.read_csv('https://raw.githubusercontent.com/AlexVonSchwerdtner/BA780-Team6/main/crime-incident-reports-2018.csv')\n",
        "crimes2019 = pd.read_csv('https://raw.githubusercontent.com/AlexVonSchwerdtner/BA780-Team6/main/crime-incident-reports-2019.csv')\n",
        "crimes2020 = pd.read_csv('https://raw.githubusercontent.com/AlexVonSchwerdtner/BA780-Team6/main/crime-incident-reports-2020.csv')\n",
        "crimes2021 = pd.read_csv('https://raw.githubusercontent.com/AlexVonSchwerdtner/BA780-Team6/main/crime-incident-reports-2021.csv')"
      ],
      "execution_count": 41,
      "outputs": [
        {
          "output_type": "stream",
          "name": "stderr",
          "text": [
            "/usr/local/lib/python3.7/dist-packages/IPython/core/interactiveshell.py:2718: DtypeWarning: Columns (0) have mixed types.Specify dtype option on import or set low_memory=False.\n",
            "  interactivity=interactivity, compiler=compiler, result=result)\n"
          ]
        }
      ]
    },
    {
      "cell_type": "code",
      "metadata": {
        "colab": {
          "base_uri": "https://localhost:8080/",
          "height": 204
        },
        "id": "E_nkmOXCOfIS",
        "outputId": "4edc35c0-8bc5-4407-8afa-821fe6dda597"
      },
      "source": [
        "# reading the offense codes to the environment\n",
        "offense_codes = pd.read_csv('https://raw.githubusercontent.com/AlexVonSchwerdtner/BA780-Team6/main/offense_codes.csv', encoding='latin-1')\n",
        "offense_codes.head()"
      ],
      "execution_count": 47,
      "outputs": [
        {
          "output_type": "execute_result",
          "data": {
            "text/html": [
              "<div>\n",
              "<style scoped>\n",
              "    .dataframe tbody tr th:only-of-type {\n",
              "        vertical-align: middle;\n",
              "    }\n",
              "\n",
              "    .dataframe tbody tr th {\n",
              "        vertical-align: top;\n",
              "    }\n",
              "\n",
              "    .dataframe thead th {\n",
              "        text-align: right;\n",
              "    }\n",
              "</style>\n",
              "<table border=\"1\" class=\"dataframe\">\n",
              "  <thead>\n",
              "    <tr style=\"text-align: right;\">\n",
              "      <th></th>\n",
              "      <th>CODE</th>\n",
              "      <th>NAME</th>\n",
              "    </tr>\n",
              "  </thead>\n",
              "  <tbody>\n",
              "    <tr>\n",
              "      <th>0</th>\n",
              "      <td>612</td>\n",
              "      <td>LARCENY PURSE SNATCH - NO FORCE</td>\n",
              "    </tr>\n",
              "    <tr>\n",
              "      <th>1</th>\n",
              "      <td>613</td>\n",
              "      <td>LARCENY SHOPLIFTING</td>\n",
              "    </tr>\n",
              "    <tr>\n",
              "      <th>2</th>\n",
              "      <td>615</td>\n",
              "      <td>LARCENY THEFT OF MV PARTS &amp; ACCESSORIES</td>\n",
              "    </tr>\n",
              "    <tr>\n",
              "      <th>3</th>\n",
              "      <td>1731</td>\n",
              "      <td>INCEST</td>\n",
              "    </tr>\n",
              "    <tr>\n",
              "      <th>4</th>\n",
              "      <td>3111</td>\n",
              "      <td>LICENSE PREMISE VIOLATION</td>\n",
              "    </tr>\n",
              "  </tbody>\n",
              "</table>\n",
              "</div>"
            ],
            "text/plain": [
              "   CODE                                     NAME\n",
              "0   612         LARCENY PURSE SNATCH - NO FORCE \n",
              "1   613                      LARCENY SHOPLIFTING\n",
              "2   615  LARCENY THEFT OF MV PARTS & ACCESSORIES\n",
              "3  1731                                   INCEST\n",
              "4  3111                LICENSE PREMISE VIOLATION"
            ]
          },
          "metadata": {},
          "execution_count": 47
        }
      ]
    },
    {
      "cell_type": "code",
      "metadata": {
        "colab": {
          "base_uri": "https://localhost:8080/"
        },
        "id": "Rv6VUy7mUU2u",
        "outputId": "a1818f5e-4275-4b0d-fa6d-34de5f34e3c1"
      },
      "source": [
        "# checking for any duplicates\n",
        "print(len(offense_codes))\n",
        "print(len(offense_codes.drop_duplicates(subset='CODE', keep='first')))"
      ],
      "execution_count": 49,
      "outputs": [
        {
          "output_type": "stream",
          "name": "stdout",
          "text": [
            "576\n",
            "425\n"
          ]
        }
      ]
    },
    {
      "cell_type": "code",
      "metadata": {
        "id": "rFxfUWu2Uhuk"
      },
      "source": [
        "# dropping duplicates\n",
        "offense_codes1=offense_codes.drop_duplicates(subset='CODE', keep='first').reset_index(drop=True)"
      ],
      "execution_count": 50,
      "outputs": []
    },
    {
      "cell_type": "code",
      "metadata": {
        "colab": {
          "base_uri": "https://localhost:8080/"
        },
        "id": "JLiqVWxBWW0b",
        "outputId": "3834860d-e154-406a-eb59-b522760540eb"
      },
      "source": [
        "offense_codes1.info()"
      ],
      "execution_count": 51,
      "outputs": [
        {
          "output_type": "stream",
          "name": "stdout",
          "text": [
            "<class 'pandas.core.frame.DataFrame'>\n",
            "RangeIndex: 425 entries, 0 to 424\n",
            "Data columns (total 2 columns):\n",
            " #   Column  Non-Null Count  Dtype \n",
            "---  ------  --------------  ----- \n",
            " 0   CODE    425 non-null    int64 \n",
            " 1   NAME    425 non-null    object\n",
            "dtypes: int64(1), object(1)\n",
            "memory usage: 6.8+ KB\n"
          ]
        }
      ]
    },
    {
      "cell_type": "code",
      "metadata": {
        "id": "i2UEWvhpjjna",
        "colab": {
          "base_uri": "https://localhost:8080/"
        },
        "outputId": "32303812-d73f-4b61-c457-a50b6d8d382b"
      },
      "source": [
        "#crime_all=pd.concat([crimes2015,crimes2016,crimes2017,crimes2018,crimes2019,crimes2020,crimes2021]).drop_duplicates().reset_index(drop=True)\n",
        "#print(crime_all.shape)\n",
        "#print(crimes2015.shape[0]+crimes2016.shape[0]+crimes2017.shape[0]+crimes2018.shape[0]+crimes2019.shape[0]+crimes2020.shape[0]+crimes2021.shape[0])"
      ],
      "execution_count": null,
      "outputs": [
        {
          "output_type": "stream",
          "name": "stdout",
          "text": [
            "(493638, 17)\n",
            "494281\n"
          ]
        }
      ]
    },
    {
      "cell_type": "code",
      "metadata": {
        "colab": {
          "base_uri": "https://localhost:8080/"
        },
        "id": "3LgJ69Iwzfkp",
        "outputId": "4812e94f-580a-49af-e81f-78481df16f7e"
      },
      "source": [
        "frames=[crimes2015,crimes2016,crimes2017,crimes2018,crimes2019,crimes2020,crimes2021]\n",
        "Crimes_all_years=finals = pd.concat(frames).drop_duplicates().reset_index()\n",
        "len(Crimes_all_years)"
      ],
      "execution_count": 22,
      "outputs": [
        {
          "output_type": "execute_result",
          "data": {
            "text/plain": [
              "493638"
            ]
          },
          "metadata": {},
          "execution_count": 22
        }
      ]
    },
    {
      "cell_type": "code",
      "metadata": {
        "colab": {
          "base_uri": "https://localhost:8080/"
        },
        "id": "kr22ftHsC5mE",
        "outputId": "01483493-0eee-491e-edca-84243320da63"
      },
      "source": [
        "# checking for any duplicates\n",
        "print(len(Crimes_all_years))\n",
        "print(len(Crimes_all_years.drop_duplicates(subset='INCIDENT_NUMBER', keep='first')))"
      ],
      "execution_count": 14,
      "outputs": [
        {
          "output_type": "stream",
          "name": "stdout",
          "text": [
            "493638\n",
            "452208\n"
          ]
        }
      ]
    },
    {
      "cell_type": "code",
      "metadata": {
        "id": "mQhIjPtZDZnw"
      },
      "source": [
        "# dropping duplicates\n",
        "df1=Crimes_all_years.drop_duplicates(subset='INCIDENT_NUMBER', keep='first').reset_index(drop=True)"
      ],
      "execution_count": 15,
      "outputs": []
    },
    {
      "cell_type": "code",
      "metadata": {
        "id": "Lg1CzU--DqXV"
      },
      "source": [
        "# missing values in Lat column\n",
        "df1[df1['Lat'].isnull()]"
      ],
      "execution_count": null,
      "outputs": []
    },
    {
      "cell_type": "code",
      "metadata": {
        "id": "76GpTfRADuM8"
      },
      "source": [
        "# missing values in Long column\n",
        "df1[df1['Long'].isnull()]"
      ],
      "execution_count": null,
      "outputs": []
    },
    {
      "cell_type": "code",
      "metadata": {
        "colab": {
          "base_uri": "https://localhost:8080/"
        },
        "id": "FWRRWo19EhzF",
        "outputId": "2b14751b-a9b8-4b08-c68c-49c93b9c2f38"
      },
      "source": [
        "df1[df1['Lat'].isnull()]['Location'].unique()"
      ],
      "execution_count": 20,
      "outputs": [
        {
          "output_type": "execute_result",
          "data": {
            "text/plain": [
              "array(['(0.00000000, 0.00000000)'], dtype=object)"
            ]
          },
          "metadata": {},
          "execution_count": 20
        }
      ]
    },
    {
      "cell_type": "code",
      "metadata": {
        "colab": {
          "base_uri": "https://localhost:8080/"
        },
        "id": "TKiYrAdLzftY",
        "outputId": "476fae01-89ee-432b-b820-e7b1f96f0916"
      },
      "source": [
        "Crimes_all_years.info()\n"
      ],
      "execution_count": 16,
      "outputs": [
        {
          "output_type": "stream",
          "name": "stdout",
          "text": [
            "<class 'pandas.core.frame.DataFrame'>\n",
            "RangeIndex: 493638 entries, 0 to 493637\n",
            "Data columns (total 18 columns):\n",
            " #   Column               Non-Null Count   Dtype  \n",
            "---  ------               --------------   -----  \n",
            " 0   index                493638 non-null  int64  \n",
            " 1   INCIDENT_NUMBER      493638 non-null  object \n",
            " 2   OFFENSE_CODE         493638 non-null  int64  \n",
            " 3   OFFENSE_CODE_GROUP   352610 non-null  object \n",
            " 4   OFFENSE_DESCRIPTION  493638 non-null  object \n",
            " 5   DISTRICT             490518 non-null  object \n",
            " 6   REPORTING_AREA       493638 non-null  object \n",
            " 7   SHOOTING             142181 non-null  object \n",
            " 8   OCCURRED_ON_DATE     493638 non-null  object \n",
            " 9   YEAR                 493638 non-null  int64  \n",
            " 10  MONTH                493638 non-null  int64  \n",
            " 11  DAY_OF_WEEK          493638 non-null  object \n",
            " 12  HOUR                 493638 non-null  int64  \n",
            " 13  UCR_PART             352516 non-null  object \n",
            " 14  STREET               481764 non-null  object \n",
            " 15  Lat                  471134 non-null  float64\n",
            " 16  Long                 471134 non-null  float64\n",
            " 17  Location             493638 non-null  object \n",
            "dtypes: float64(2), int64(5), object(11)\n",
            "memory usage: 67.8+ MB\n"
          ]
        }
      ]
    },
    {
      "cell_type": "code",
      "metadata": {
        "id": "G3knYgbLzua_"
      },
      "source": [
        "Crimes_all_years['OFFENSE_CODE_GROUP']=Crimes_all_years['OFFENSE_CODE_GROUP'].fillna(\"Other\")"
      ],
      "execution_count": null,
      "outputs": []
    },
    {
      "cell_type": "code",
      "metadata": {
        "colab": {
          "base_uri": "https://localhost:8080/"
        },
        "id": "vMlncK6jzxJ_",
        "outputId": "460cbe95-5b1d-4682-df8d-2834ca144cc7"
      },
      "source": [
        "Crimes_all_years.isna().sum()"
      ],
      "execution_count": null,
      "outputs": [
        {
          "output_type": "execute_result",
          "data": {
            "text/plain": [
              "index                       0\n",
              "INCIDENT_NUMBER             0\n",
              "OFFENSE_CODE                0\n",
              "OFFENSE_CODE_GROUP          0\n",
              "OFFENSE_DESCRIPTION         0\n",
              "DISTRICT                 3120\n",
              "REPORTING_AREA              0\n",
              "SHOOTING               351457\n",
              "OCCURRED_ON_DATE            0\n",
              "YEAR                        0\n",
              "MONTH                       0\n",
              "DAY_OF_WEEK                 0\n",
              "HOUR                        0\n",
              "UCR_PART               141122\n",
              "STREET                  11874\n",
              "Lat                     22504\n",
              "Long                    22504\n",
              "Location                    0\n",
              "dtype: int64"
            ]
          },
          "metadata": {},
          "execution_count": 7
        }
      ]
    },
    {
      "cell_type": "code",
      "metadata": {
        "id": "JpT--rl2zzs7"
      },
      "source": [
        ""
      ],
      "execution_count": null,
      "outputs": []
    }
  ]
}