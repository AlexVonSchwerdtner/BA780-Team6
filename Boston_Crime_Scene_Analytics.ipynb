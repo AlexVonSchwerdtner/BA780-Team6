{
  "nbformat": 4,
  "nbformat_minor": 0,
  "metadata": {
    "colab": {
      "name": "Boston_Crime_Scene_Analytics.ipynb",
      "provenance": [],
      "collapsed_sections": [],
      "include_colab_link": true
    },
    "kernelspec": {
      "name": "python3",
      "display_name": "Python 3"
    },
    "language_info": {
      "name": "python"
    }
  },
  "cells": [
    {
      "cell_type": "markdown",
      "metadata": {
        "id": "view-in-github",
        "colab_type": "text"
      },
      "source": [
        "<a href=\"https://colab.research.google.com/github/AlexVonSchwerdtner/BA780-Team6/blob/main/Boston_Crime_Scene_Analytics.ipynb\" target=\"_parent\"><img src=\"https://colab.research.google.com/assets/colab-badge.svg\" alt=\"Open In Colab\"/></a>"
      ]
    },
    {
      "cell_type": "markdown",
      "metadata": {
        "id": "tP_ws-rpdNk8"
      },
      "source": [
        "#*BA780 - Team 6*\n",
        "##Team Project\n",
        "\n",
        "#**Boston Crime Scene Analytics**\n",
        "\n",
        "###*Problem definition:*\n",
        "\n",
        "As current students living in the Boston Area we are interested in analyzing the Boston Crime Scene. We would like to analyze and discover what types of crimes are most common, where the different types of crimes are most likely to occur, and if the frequency of crimes change over specific time spans (e.g. day, week & year). Our mission is to answer questions like “where a tourist is most likely to be a victim of a crime at a certain time of day, specific months or seasons of a given year?”\n",
        "\n",
        "**Data Source:** Analyze Boston\n",
        "\n",
        "https://data.boston.gov/dataset/crime-incident-reports-august-2015-to-date-source-new-system\n",
        "\n",
        "*Crime incident reports are provided by Boston Police Department (BPD) to document the initial details surrounding an incident to which BPD officers respond. This is a dataset containing records from the new crime incident report system, which includes a reduced set of fields focused on capturing the type of incident as well as when and where it occurred. Records in the new system begin in June of 2015.*"
      ]
    },
    {
      "cell_type": "markdown",
      "metadata": {
        "id": "8p0PeHvpeJQI"
      },
      "source": [
        "## **Data Cleaning**"
      ]
    },
    {
      "cell_type": "markdown",
      "metadata": {
        "id": "A5KL8Gzcx025"
      },
      "source": [
        "Importing Required Packages"
      ]
    },
    {
      "cell_type": "code",
      "metadata": {
        "id": "oCpzTuZRiHMv"
      },
      "source": [
        "import numpy as np\n",
        "import pandas as pd\n",
        "import matplotlib.pyplot as plt\n",
        "import seaborn as sns\n",
        "%matplotlib inline"
      ],
      "execution_count": 2,
      "outputs": []
    },
    {
      "cell_type": "markdown",
      "metadata": {
        "id": "XZIzJF5tmHO6"
      },
      "source": [
        "Reading all files to the environment"
      ]
    },
    {
      "cell_type": "code",
      "metadata": {
        "id": "-Clyx0msi8Ov",
        "colab": {
          "base_uri": "https://localhost:8080/"
        },
        "outputId": "605bc72d-b5c7-49f2-f144-a1cd81047906"
      },
      "source": [
        "# reading the crime data sets to the environement\n",
        "crimes2015 = pd.read_csv('https://raw.githubusercontent.com/AlexVonSchwerdtner/BA780-Team6/main/crime-incident-reports-2015.csv')\n",
        "crimes2016 = pd.read_csv('https://raw.githubusercontent.com/AlexVonSchwerdtner/BA780-Team6/main/crime-incident-reports-2016.csv')\n",
        "crimes2017 = pd.read_csv('https://raw.githubusercontent.com/AlexVonSchwerdtner/BA780-Team6/main/crime-incident-reports-2017.csv')\n",
        "crimes2018 = pd.read_csv('https://raw.githubusercontent.com/AlexVonSchwerdtner/BA780-Team6/main/crime-incident-reports-2018.csv')\n",
        "crimes2019 = pd.read_csv('https://raw.githubusercontent.com/AlexVonSchwerdtner/BA780-Team6/main/crime-incident-reports-2019.csv')\n",
        "crimes2020 = pd.read_csv('https://raw.githubusercontent.com/AlexVonSchwerdtner/BA780-Team6/main/crime-incident-reports-2020.csv')\n",
        "crimes2021 = pd.read_csv('https://raw.githubusercontent.com/AlexVonSchwerdtner/BA780-Team6/main/crime-incident-reports-2021.csv')"
      ],
      "execution_count": 3,
      "outputs": [
        {
          "output_type": "stream",
          "name": "stderr",
          "text": [
            "/usr/local/lib/python3.7/dist-packages/IPython/core/interactiveshell.py:2718: DtypeWarning: Columns (0) have mixed types.Specify dtype option on import or set low_memory=False.\n",
            "  interactivity=interactivity, compiler=compiler, result=result)\n"
          ]
        }
      ]
    },
    {
      "cell_type": "code",
      "metadata": {
        "colab": {
          "base_uri": "https://localhost:8080/",
          "height": 204
        },
        "id": "E_nkmOXCOfIS",
        "outputId": "2bc75ebc-a910-4fd8-a150-da1ca97f052f"
      },
      "source": [
        "# reading the offense codes to the environment\n",
        "offense_codes = pd.read_excel('https://raw.githubusercontent.com/AlexVonSchwerdtner/BA780-Team6/main/rmsoffensecodes.xlsx')\n",
        "offense_codes.head()\n",
        "\n"
      ],
      "execution_count": 4,
      "outputs": [
        {
          "output_type": "execute_result",
          "data": {
            "text/html": [
              "<div>\n",
              "<style scoped>\n",
              "    .dataframe tbody tr th:only-of-type {\n",
              "        vertical-align: middle;\n",
              "    }\n",
              "\n",
              "    .dataframe tbody tr th {\n",
              "        vertical-align: top;\n",
              "    }\n",
              "\n",
              "    .dataframe thead th {\n",
              "        text-align: right;\n",
              "    }\n",
              "</style>\n",
              "<table border=\"1\" class=\"dataframe\">\n",
              "  <thead>\n",
              "    <tr style=\"text-align: right;\">\n",
              "      <th></th>\n",
              "      <th>CODE</th>\n",
              "      <th>NAME</th>\n",
              "    </tr>\n",
              "  </thead>\n",
              "  <tbody>\n",
              "    <tr>\n",
              "      <th>0</th>\n",
              "      <td>612</td>\n",
              "      <td>LARCENY PURSE SNATCH - NO FORCE</td>\n",
              "    </tr>\n",
              "    <tr>\n",
              "      <th>1</th>\n",
              "      <td>613</td>\n",
              "      <td>LARCENY SHOPLIFTING</td>\n",
              "    </tr>\n",
              "    <tr>\n",
              "      <th>2</th>\n",
              "      <td>615</td>\n",
              "      <td>LARCENY THEFT OF MV PARTS &amp; ACCESSORIES</td>\n",
              "    </tr>\n",
              "    <tr>\n",
              "      <th>3</th>\n",
              "      <td>1731</td>\n",
              "      <td>INCEST</td>\n",
              "    </tr>\n",
              "    <tr>\n",
              "      <th>4</th>\n",
              "      <td>3111</td>\n",
              "      <td>LICENSE PREMISE VIOLATION</td>\n",
              "    </tr>\n",
              "  </tbody>\n",
              "</table>\n",
              "</div>"
            ],
            "text/plain": [
              "   CODE                                     NAME\n",
              "0   612         LARCENY PURSE SNATCH - NO FORCE \n",
              "1   613                      LARCENY SHOPLIFTING\n",
              "2   615  LARCENY THEFT OF MV PARTS & ACCESSORIES\n",
              "3  1731                                   INCEST\n",
              "4  3111                LICENSE PREMISE VIOLATION"
            ]
          },
          "metadata": {},
          "execution_count": 4
        }
      ]
    },
    {
      "cell_type": "code",
      "metadata": {
        "colab": {
          "base_uri": "https://localhost:8080/"
        },
        "id": "Rv6VUy7mUU2u",
        "outputId": "a1818f5e-4275-4b0d-fa6d-34de5f34e3c1"
      },
      "source": [
        "# checking for any duplicates\n",
        "print(len(offense_codes))\n",
        "print(len(offense_codes.drop_duplicates(subset='CODE', keep='first')))"
      ],
      "execution_count": null,
      "outputs": [
        {
          "output_type": "stream",
          "name": "stdout",
          "text": [
            "576\n",
            "425\n"
          ]
        }
      ]
    },
    {
      "cell_type": "code",
      "metadata": {
        "id": "rFxfUWu2Uhuk"
      },
      "source": [
        "# dropping duplicates\n",
        "offense_codes1=offense_codes.drop_duplicates(subset='CODE', keep='first').reset_index(drop=True)"
      ],
      "execution_count": null,
      "outputs": []
    },
    {
      "cell_type": "code",
      "metadata": {
        "colab": {
          "base_uri": "https://localhost:8080/"
        },
        "id": "JLiqVWxBWW0b",
        "outputId": "3834860d-e154-406a-eb59-b522760540eb"
      },
      "source": [
        "offense_codes1.info()"
      ],
      "execution_count": null,
      "outputs": [
        {
          "output_type": "stream",
          "name": "stdout",
          "text": [
            "<class 'pandas.core.frame.DataFrame'>\n",
            "RangeIndex: 425 entries, 0 to 424\n",
            "Data columns (total 2 columns):\n",
            " #   Column  Non-Null Count  Dtype \n",
            "---  ------  --------------  ----- \n",
            " 0   CODE    425 non-null    int64 \n",
            " 1   NAME    425 non-null    object\n",
            "dtypes: int64(1), object(1)\n",
            "memory usage: 6.8+ KB\n"
          ]
        }
      ]
    },
    {
      "cell_type": "code",
      "metadata": {
        "id": "i2UEWvhpjjna",
        "colab": {
          "base_uri": "https://localhost:8080/"
        },
        "outputId": "32303812-d73f-4b61-c457-a50b6d8d382b"
      },
      "source": [
        "#verify_integrity=True\n",
        "#crime_all=pd.concat([crimes2015,crimes2016,crimes2017,crimes2018,crimes2019,crimes2020,crimes2021]).drop_duplicates().reset_index(drop=True)\n",
        "#print(crime_all.shape)\n",
        "#print(crimes2015.shape[0]+crimes2016.shape[0]+crimes2017.shape[0]+crimes2018.shape[0]+crimes2019.shape[0]+crimes2020.shape[0]+crimes2021.shape[0])"
      ],
      "execution_count": null,
      "outputs": [
        {
          "output_type": "stream",
          "name": "stdout",
          "text": [
            "(493638, 17)\n",
            "494281\n"
          ]
        }
      ]
    },
    {
      "cell_type": "code",
      "metadata": {
        "colab": {
          "base_uri": "https://localhost:8080/"
        },
        "id": "3LgJ69Iwzfkp",
        "outputId": "4812e94f-580a-49af-e81f-78481df16f7e"
      },
      "source": [
        "frames=[crimes2015,crimes2016,crimes2017,crimes2018,crimes2019,crimes2020,crimes2021]\n",
        "Crimes_all_years=finals = pd.concat(frames).drop_duplicates().reset_index()\n",
        "len(Crimes_all_years)"
      ],
      "execution_count": null,
      "outputs": [
        {
          "output_type": "execute_result",
          "data": {
            "text/plain": [
              "493638"
            ]
          },
          "metadata": {},
          "execution_count": 22
        }
      ]
    },
    {
      "cell_type": "code",
      "metadata": {
        "colab": {
          "base_uri": "https://localhost:8080/"
        },
        "id": "kr22ftHsC5mE",
        "outputId": "01483493-0eee-491e-edca-84243320da63"
      },
      "source": [
        "# checking for any duplicates\n",
        "print(len(Crimes_all_years))\n",
        "print(len(Crimes_all_years.drop_duplicates(subset='INCIDENT_NUMBER', keep='first')))"
      ],
      "execution_count": null,
      "outputs": [
        {
          "output_type": "stream",
          "name": "stdout",
          "text": [
            "493638\n",
            "452208\n"
          ]
        }
      ]
    },
    {
      "cell_type": "code",
      "metadata": {
        "id": "mQhIjPtZDZnw"
      },
      "source": [
        "# dropping duplicates\n",
        "df1=Crimes_all_years.drop_duplicates(subset='INCIDENT_NUMBER', keep='first').reset_index(drop=True)"
      ],
      "execution_count": null,
      "outputs": []
    },
    {
      "cell_type": "code",
      "metadata": {
        "id": "Lg1CzU--DqXV"
      },
      "source": [
        "# missing values in Lat column\n",
        "df1[df1['Lat'].isnull()]"
      ],
      "execution_count": null,
      "outputs": []
    },
    {
      "cell_type": "code",
      "metadata": {
        "id": "76GpTfRADuM8"
      },
      "source": [
        "# missing values in Long column\n",
        "df1[df1['Long'].isnull()]"
      ],
      "execution_count": null,
      "outputs": []
    },
    {
      "cell_type": "markdown",
      "metadata": {
        "id": "7ZKqqrAreWfT"
      },
      "source": [
        "## **General Overview**"
      ]
    },
    {
      "cell_type": "code",
      "metadata": {
        "colab": {
          "base_uri": "https://localhost:8080/"
        },
        "id": "FWRRWo19EhzF",
        "outputId": "2b14751b-a9b8-4b08-c68c-49c93b9c2f38"
      },
      "source": [
        "df1[df1['Lat'].isnull()]['Location'].unique()"
      ],
      "execution_count": null,
      "outputs": [
        {
          "output_type": "execute_result",
          "data": {
            "text/plain": [
              "array(['(0.00000000, 0.00000000)'], dtype=object)"
            ]
          },
          "metadata": {},
          "execution_count": 20
        }
      ]
    },
    {
      "cell_type": "code",
      "metadata": {
        "colab": {
          "base_uri": "https://localhost:8080/"
        },
        "id": "TKiYrAdLzftY",
        "outputId": "476fae01-89ee-432b-b820-e7b1f96f0916"
      },
      "source": [
        "Crimes_all_years.info()\n"
      ],
      "execution_count": null,
      "outputs": [
        {
          "output_type": "stream",
          "name": "stdout",
          "text": [
            "<class 'pandas.core.frame.DataFrame'>\n",
            "RangeIndex: 493638 entries, 0 to 493637\n",
            "Data columns (total 18 columns):\n",
            " #   Column               Non-Null Count   Dtype  \n",
            "---  ------               --------------   -----  \n",
            " 0   index                493638 non-null  int64  \n",
            " 1   INCIDENT_NUMBER      493638 non-null  object \n",
            " 2   OFFENSE_CODE         493638 non-null  int64  \n",
            " 3   OFFENSE_CODE_GROUP   352610 non-null  object \n",
            " 4   OFFENSE_DESCRIPTION  493638 non-null  object \n",
            " 5   DISTRICT             490518 non-null  object \n",
            " 6   REPORTING_AREA       493638 non-null  object \n",
            " 7   SHOOTING             142181 non-null  object \n",
            " 8   OCCURRED_ON_DATE     493638 non-null  object \n",
            " 9   YEAR                 493638 non-null  int64  \n",
            " 10  MONTH                493638 non-null  int64  \n",
            " 11  DAY_OF_WEEK          493638 non-null  object \n",
            " 12  HOUR                 493638 non-null  int64  \n",
            " 13  UCR_PART             352516 non-null  object \n",
            " 14  STREET               481764 non-null  object \n",
            " 15  Lat                  471134 non-null  float64\n",
            " 16  Long                 471134 non-null  float64\n",
            " 17  Location             493638 non-null  object \n",
            "dtypes: float64(2), int64(5), object(11)\n",
            "memory usage: 67.8+ MB\n"
          ]
        }
      ]
    },
    {
      "cell_type": "code",
      "metadata": {
        "id": "G3knYgbLzua_"
      },
      "source": [
        "Crimes_all_years['OFFENSE_CODE_GROUP']=Crimes_all_years['OFFENSE_CODE_GROUP'].fillna(\"Other\")"
      ],
      "execution_count": null,
      "outputs": []
    },
    {
      "cell_type": "code",
      "metadata": {
        "colab": {
          "base_uri": "https://localhost:8080/"
        },
        "id": "vMlncK6jzxJ_",
        "outputId": "460cbe95-5b1d-4682-df8d-2834ca144cc7"
      },
      "source": [
        "Crimes_all_years.isna().sum()"
      ],
      "execution_count": null,
      "outputs": [
        {
          "output_type": "execute_result",
          "data": {
            "text/plain": [
              "index                       0\n",
              "INCIDENT_NUMBER             0\n",
              "OFFENSE_CODE                0\n",
              "OFFENSE_CODE_GROUP          0\n",
              "OFFENSE_DESCRIPTION         0\n",
              "DISTRICT                 3120\n",
              "REPORTING_AREA              0\n",
              "SHOOTING               351457\n",
              "OCCURRED_ON_DATE            0\n",
              "YEAR                        0\n",
              "MONTH                       0\n",
              "DAY_OF_WEEK                 0\n",
              "HOUR                        0\n",
              "UCR_PART               141122\n",
              "STREET                  11874\n",
              "Lat                     22504\n",
              "Long                    22504\n",
              "Location                    0\n",
              "dtype: int64"
            ]
          },
          "metadata": {},
          "execution_count": 7
        }
      ]
    },
    {
      "cell_type": "markdown",
      "metadata": {
        "id": "1W9ESPClefwz"
      },
      "source": [
        ""
      ]
    },
    {
      "cell_type": "markdown",
      "metadata": {
        "id": "UJ3a_rNUeiML"
      },
      "source": [
        "## **By Hour and Weekday**"
      ]
    },
    {
      "cell_type": "code",
      "metadata": {
        "id": "nVMYXAU7e302"
      },
      "source": [
        ""
      ],
      "execution_count": null,
      "outputs": []
    },
    {
      "cell_type": "markdown",
      "metadata": {
        "id": "NCtdue7Ze0T5"
      },
      "source": [
        "## **By Season**"
      ]
    },
    {
      "cell_type": "code",
      "metadata": {
        "id": "M16Ww-cyfBlk"
      },
      "source": [
        ""
      ],
      "execution_count": null,
      "outputs": []
    },
    {
      "cell_type": "markdown",
      "metadata": {
        "id": "F7AeZ311fCOp"
      },
      "source": [
        "## **By Year**"
      ]
    },
    {
      "cell_type": "code",
      "metadata": {
        "id": "1wc2rDsKfC_a"
      },
      "source": [
        ""
      ],
      "execution_count": null,
      "outputs": []
    },
    {
      "cell_type": "markdown",
      "metadata": {
        "id": "SQ8LEzzufAj0"
      },
      "source": [
        "## **Map**"
      ]
    },
    {
      "cell_type": "code",
      "metadata": {
        "id": "KHCVTYPye5G4"
      },
      "source": [
        ""
      ],
      "execution_count": null,
      "outputs": []
    }
  ]
}