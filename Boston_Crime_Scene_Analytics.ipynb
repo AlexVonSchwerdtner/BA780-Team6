{
  "nbformat": 4,
  "nbformat_minor": 0,
  "metadata": {
    "colab": {
      "name": "Boston_Crime_Scene_Analytics.ipynb",
      "provenance": [],
      "collapsed_sections": [],
      "include_colab_link": true
    },
    "kernelspec": {
      "name": "python3",
      "display_name": "Python 3"
    },
    "language_info": {
      "name": "python"
    }
  },
  "cells": [
    {
      "cell_type": "markdown",
      "metadata": {
        "id": "view-in-github",
        "colab_type": "text"
      },
      "source": [
        "<a href=\"https://colab.research.google.com/github/AlexVonSchwerdtner/BA780-Team6/blob/main/Boston_Crime_Scene_Analytics.ipynb\" target=\"_parent\"><img src=\"https://colab.research.google.com/assets/colab-badge.svg\" alt=\"Open In Colab\"/></a>"
      ]
    },
    {
      "cell_type": "markdown",
      "metadata": {
        "id": "tP_ws-rpdNk8"
      },
      "source": [
        "#*BA780 - Team 6*\n",
        "##Team Project - Exploritory Data Analysis\n",
        "\n",
        "#**Boston Crime Scene Analytics**\n",
        "\n",
        "###*Problem definition:*\n",
        "\n",
        "As current students living in the Boston Area we are interested in analyzing the Boston Crime Scene. We would like to analyze and discover what types of crimes are most common, where the different types of crimes are most likely to occur, and if the frequency of crimes change over specific time spans (e.g. day, week & year). Our mission is to answer questions like “where a tourist is most likely to be a victim of a crime at a certain time of day, specific months or seasons of a given year?”\n",
        "\n",
        "## **Data**\n",
        "*Crime Incident Reports (August 2015 - To Date)*\n",
        "\n",
        "The Data was downloaded from Analyze Boston: \n",
        "\n",
        "https://data.boston.gov/dataset/crime-incident-reports-august-2015-to-date-source-new-system\n",
        "\n",
        "*Crime incident reports are provided by Boston Police Department (BPD) to document the initial details surrounding an incident to which BPD officers respond. This is a dataset containing records from the new crime incident report system, which includes a reduced set of fields focused on capturing the type of incident as well as when and where it occurred. Records in the new system begin in June of 2015.*\n",
        "\n",
        "Each row represents a specific crime incident, each column contains crime incident attributes described as below:\n",
        "\n",
        "* **INCIDENT_NUMBER**: Customer ID\n",
        "\n",
        "The data set includes information about:\n",
        "\n",
        "* ......`xxx`....\n",
        "\n",
        "\n",
        "We will be using Python and Seaborn library to plot and analyze the data.\n",
        "\n",
        "**Basic information**:\n",
        "* Only 494,251 rows\n",
        "* There are 20 columns with X features\n",
        "* Only ... missing values."
      ]
    },
    {
      "cell_type": "code",
      "metadata": {
        "colab": {
          "base_uri": "https://localhost:8080/"
        },
        "id": "3DwspDkAfH3x",
        "outputId": "7b047d28-6078-471b-94ce-f8063386d2ed"
      },
      "source": [
        "Crimes_all_years.info()"
      ],
      "execution_count": 89,
      "outputs": [
        {
          "output_type": "stream",
          "name": "stdout",
          "text": [
            "<class 'pandas.core.frame.DataFrame'>\n",
            "Int64Index: 494281 entries, 0 to 50351\n",
            "Data columns (total 17 columns):\n",
            " #   Column               Non-Null Count   Dtype  \n",
            "---  ------               --------------   -----  \n",
            " 0   INCIDENT_NUMBER      494281 non-null  object \n",
            " 1   OFFENSE_CODE         494281 non-null  int64  \n",
            " 2   OFFENSE_CODE_GROUP   353253 non-null  object \n",
            " 3   OFFENSE_DESCRIPTION  494281 non-null  object \n",
            " 4   DISTRICT             491161 non-null  object \n",
            " 5   REPORTING_AREA       494281 non-null  object \n",
            " 6   SHOOTING             142483 non-null  object \n",
            " 7   OCCURRED_ON_DATE     494281 non-null  object \n",
            " 8   YEAR                 494281 non-null  int64  \n",
            " 9   MONTH                494281 non-null  int64  \n",
            " 10  DAY_OF_WEEK          494281 non-null  object \n",
            " 11  HOUR                 494281 non-null  int64  \n",
            " 12  UCR_PART             353156 non-null  object \n",
            " 13  STREET               482395 non-null  object \n",
            " 14  Lat                  471751 non-null  float64\n",
            " 15  Long                 471751 non-null  float64\n",
            " 16  Location             494281 non-null  object \n",
            "dtypes: float64(2), int64(4), object(11)\n",
            "memory usage: 67.9+ MB\n"
          ]
        }
      ]
    },
    {
      "cell_type": "code",
      "metadata": {
        "colab": {
          "base_uri": "https://localhost:8080/",
          "height": 318
        },
        "id": "HyDos6gEdBFJ",
        "outputId": "d70482eb-0744-43cd-9370-a5e9eed7a620"
      },
      "source": [
        "Crimes_all_years.head()"
      ],
      "execution_count": 52,
      "outputs": [
        {
          "output_type": "execute_result",
          "data": {
            "text/html": [
              "<div>\n",
              "<style scoped>\n",
              "    .dataframe tbody tr th:only-of-type {\n",
              "        vertical-align: middle;\n",
              "    }\n",
              "\n",
              "    .dataframe tbody tr th {\n",
              "        vertical-align: top;\n",
              "    }\n",
              "\n",
              "    .dataframe thead th {\n",
              "        text-align: right;\n",
              "    }\n",
              "</style>\n",
              "<table border=\"1\" class=\"dataframe\">\n",
              "  <thead>\n",
              "    <tr style=\"text-align: right;\">\n",
              "      <th></th>\n",
              "      <th>index</th>\n",
              "      <th>INCIDENT_NUMBER</th>\n",
              "      <th>OFFENSE_CODE</th>\n",
              "      <th>OFFENSE_CODE_GROUP</th>\n",
              "      <th>OFFENSE_DESCRIPTION</th>\n",
              "      <th>...</th>\n",
              "      <th>UCR_PART</th>\n",
              "      <th>STREET</th>\n",
              "      <th>Lat</th>\n",
              "      <th>Long</th>\n",
              "      <th>Location</th>\n",
              "    </tr>\n",
              "  </thead>\n",
              "  <tbody>\n",
              "    <tr>\n",
              "      <th>0</th>\n",
              "      <td>0</td>\n",
              "      <td>I192068249</td>\n",
              "      <td>2647</td>\n",
              "      <td>Other</td>\n",
              "      <td>THREATS TO DO BODILY HARM</td>\n",
              "      <td>...</td>\n",
              "      <td>Part Two</td>\n",
              "      <td>WASHINGTON ST</td>\n",
              "      <td>42.330119</td>\n",
              "      <td>-71.084251</td>\n",
              "      <td>(42.33011862, -71.08425106)</td>\n",
              "    </tr>\n",
              "    <tr>\n",
              "      <th>1</th>\n",
              "      <td>1</td>\n",
              "      <td>I192061894</td>\n",
              "      <td>1106</td>\n",
              "      <td>Confidence Games</td>\n",
              "      <td>FRAUD - CREDIT CARD / ATM FRAUD</td>\n",
              "      <td>...</td>\n",
              "      <td>Part Two</td>\n",
              "      <td>CHARLES ST</td>\n",
              "      <td>42.300605</td>\n",
              "      <td>-71.061268</td>\n",
              "      <td>(42.30060543, -71.06126785)</td>\n",
              "    </tr>\n",
              "    <tr>\n",
              "      <th>2</th>\n",
              "      <td>2</td>\n",
              "      <td>I192038828</td>\n",
              "      <td>1107</td>\n",
              "      <td>Fraud</td>\n",
              "      <td>FRAUD - IMPERSONATION</td>\n",
              "      <td>...</td>\n",
              "      <td>Part Two</td>\n",
              "      <td>ALBANY ST</td>\n",
              "      <td>42.334288</td>\n",
              "      <td>-71.072395</td>\n",
              "      <td>(42.33428841, -71.07239518)</td>\n",
              "    </tr>\n",
              "    <tr>\n",
              "      <th>3</th>\n",
              "      <td>3</td>\n",
              "      <td>I192008877</td>\n",
              "      <td>1107</td>\n",
              "      <td>Fraud</td>\n",
              "      <td>FRAUD - IMPERSONATION</td>\n",
              "      <td>...</td>\n",
              "      <td>Part Two</td>\n",
              "      <td>WINGATE RD</td>\n",
              "      <td>42.237009</td>\n",
              "      <td>-71.129566</td>\n",
              "      <td>(42.23700950, -71.12956606)</td>\n",
              "    </tr>\n",
              "    <tr>\n",
              "      <th>4</th>\n",
              "      <td>4</td>\n",
              "      <td>I182090828</td>\n",
              "      <td>1102</td>\n",
              "      <td>Fraud</td>\n",
              "      <td>FRAUD - FALSE PRETENSE / SCHEME</td>\n",
              "      <td>...</td>\n",
              "      <td>Part Two</td>\n",
              "      <td>UPTON ST</td>\n",
              "      <td>42.342432</td>\n",
              "      <td>-71.072258</td>\n",
              "      <td>(42.34243222, -71.07225766)</td>\n",
              "    </tr>\n",
              "  </tbody>\n",
              "</table>\n",
              "<p>5 rows × 18 columns</p>\n",
              "</div>"
            ],
            "text/plain": [
              "   index INCIDENT_NUMBER  OFFENSE_CODE OFFENSE_CODE_GROUP  \\\n",
              "0      0      I192068249          2647              Other   \n",
              "1      1      I192061894          1106   Confidence Games   \n",
              "2      2      I192038828          1107              Fraud   \n",
              "3      3      I192008877          1107              Fraud   \n",
              "4      4      I182090828          1102              Fraud   \n",
              "\n",
              "               OFFENSE_DESCRIPTION  ...  UCR_PART         STREET        Lat  \\\n",
              "0        THREATS TO DO BODILY HARM  ...  Part Two  WASHINGTON ST  42.330119   \n",
              "1  FRAUD - CREDIT CARD / ATM FRAUD  ...  Part Two     CHARLES ST  42.300605   \n",
              "2            FRAUD - IMPERSONATION  ...  Part Two      ALBANY ST  42.334288   \n",
              "3            FRAUD - IMPERSONATION  ...  Part Two     WINGATE RD  42.237009   \n",
              "4  FRAUD - FALSE PRETENSE / SCHEME  ...  Part Two       UPTON ST  42.342432   \n",
              "\n",
              "        Long                     Location  \n",
              "0 -71.084251  (42.33011862, -71.08425106)  \n",
              "1 -71.061268  (42.30060543, -71.06126785)  \n",
              "2 -71.072395  (42.33428841, -71.07239518)  \n",
              "3 -71.129566  (42.23700950, -71.12956606)  \n",
              "4 -71.072258  (42.34243222, -71.07225766)  \n",
              "\n",
              "[5 rows x 18 columns]"
            ]
          },
          "metadata": {},
          "execution_count": 52
        }
      ]
    },
    {
      "cell_type": "code",
      "metadata": {
        "colab": {
          "base_uri": "https://localhost:8080/"
        },
        "id": "AxYZtATZfJnE",
        "outputId": "ed5f6137-11ff-44f9-9b72-6793a2cfc056"
      },
      "source": [
        "offense_codes.info()"
      ],
      "execution_count": 57,
      "outputs": [
        {
          "output_type": "stream",
          "name": "stdout",
          "text": [
            "<class 'pandas.core.frame.DataFrame'>\n",
            "RangeIndex: 576 entries, 0 to 575\n",
            "Data columns (total 2 columns):\n",
            " #   Column  Non-Null Count  Dtype \n",
            "---  ------  --------------  ----- \n",
            " 0   CODE    576 non-null    int64 \n",
            " 1   NAME    576 non-null    object\n",
            "dtypes: int64(1), object(1)\n",
            "memory usage: 9.1+ KB\n"
          ]
        }
      ]
    },
    {
      "cell_type": "code",
      "metadata": {
        "colab": {
          "base_uri": "https://localhost:8080/",
          "height": 204
        },
        "id": "hOURqKtUdAKT",
        "outputId": "b729d992-400b-4995-a39e-b7a03ee16787"
      },
      "source": [
        "offense_codes.head()"
      ],
      "execution_count": 53,
      "outputs": [
        {
          "output_type": "execute_result",
          "data": {
            "text/html": [
              "<div>\n",
              "<style scoped>\n",
              "    .dataframe tbody tr th:only-of-type {\n",
              "        vertical-align: middle;\n",
              "    }\n",
              "\n",
              "    .dataframe tbody tr th {\n",
              "        vertical-align: top;\n",
              "    }\n",
              "\n",
              "    .dataframe thead th {\n",
              "        text-align: right;\n",
              "    }\n",
              "</style>\n",
              "<table border=\"1\" class=\"dataframe\">\n",
              "  <thead>\n",
              "    <tr style=\"text-align: right;\">\n",
              "      <th></th>\n",
              "      <th>CODE</th>\n",
              "      <th>NAME</th>\n",
              "    </tr>\n",
              "  </thead>\n",
              "  <tbody>\n",
              "    <tr>\n",
              "      <th>0</th>\n",
              "      <td>612</td>\n",
              "      <td>LARCENY PURSE SNATCH - NO FORCE</td>\n",
              "    </tr>\n",
              "    <tr>\n",
              "      <th>1</th>\n",
              "      <td>613</td>\n",
              "      <td>LARCENY SHOPLIFTING</td>\n",
              "    </tr>\n",
              "    <tr>\n",
              "      <th>2</th>\n",
              "      <td>615</td>\n",
              "      <td>LARCENY THEFT OF MV PARTS &amp; ACCESSORIES</td>\n",
              "    </tr>\n",
              "    <tr>\n",
              "      <th>3</th>\n",
              "      <td>1731</td>\n",
              "      <td>INCEST</td>\n",
              "    </tr>\n",
              "    <tr>\n",
              "      <th>4</th>\n",
              "      <td>3111</td>\n",
              "      <td>LICENSE PREMISE VIOLATION</td>\n",
              "    </tr>\n",
              "  </tbody>\n",
              "</table>\n",
              "</div>"
            ],
            "text/plain": [
              "   CODE                                     NAME\n",
              "0   612         LARCENY PURSE SNATCH - NO FORCE \n",
              "1   613                      LARCENY SHOPLIFTING\n",
              "2   615  LARCENY THEFT OF MV PARTS & ACCESSORIES\n",
              "3  1731                                   INCEST\n",
              "4  3111                LICENSE PREMISE VIOLATION"
            ]
          },
          "metadata": {},
          "execution_count": 53
        }
      ]
    },
    {
      "cell_type": "markdown",
      "metadata": {
        "id": "w0O9cw_YfV6p"
      },
      "source": [
        "# **Setup**"
      ]
    },
    {
      "cell_type": "markdown",
      "metadata": {
        "id": "A5KL8Gzcx025"
      },
      "source": [
        "## *Importing Required Packages*"
      ]
    },
    {
      "cell_type": "code",
      "metadata": {
        "id": "oCpzTuZRiHMv"
      },
      "source": [
        "import numpy as np\n",
        "import pandas as pd\n",
        "import matplotlib.pyplot as plt\n",
        "import seaborn as sns\n",
        "%matplotlib inline\n",
        "pd.set_option('display.max_rows',10)\n",
        "pd.set_option('display.max_columns',10)"
      ],
      "execution_count": 58,
      "outputs": []
    },
    {
      "cell_type": "markdown",
      "metadata": {
        "id": "XZIzJF5tmHO6"
      },
      "source": [
        "## *Reading all files to the environment from GoogleCloudStorage Bucket*"
      ]
    },
    {
      "cell_type": "code",
      "metadata": {
        "id": "sun1XOGQ8aCa"
      },
      "source": [
        "from google.cloud import storage\n",
        "from google.colab import auth\n",
        "auth.authenticate_user()"
      ],
      "execution_count": 23,
      "outputs": []
    },
    {
      "cell_type": "code",
      "metadata": {
        "id": "YEU5WkHn2Ou8"
      },
      "source": [
        "def download_blob(project_id, bucket_name, source_blob_name, destination_file_name):\n",
        "    \"\"\"Downloads a blob from the bucket.\"\"\"\n",
        "    # project_id = \"your-project-id\"\n",
        "    # bucket_name = \"your-bucket-name\"\n",
        "    # source_blob_name = \"storage-object-name\"\n",
        "    # destination_file_name = \"local/path/to/file\"\n",
        "\n",
        "    storage_client = storage.Client(project_id)\n",
        "\n",
        "    bucket = storage_client.bucket(bucket_name)\n",
        "    blob = bucket.blob(source_blob_name)\n",
        "    blob.download_to_filename(destination_file_name)\n",
        "\n",
        "    print(\n",
        "        \"Blob {} downloaded to {}.\".format(\n",
        "            source_blob_name, destination_file_name\n",
        "        )\n",
        "    )"
      ],
      "execution_count": 24,
      "outputs": []
    },
    {
      "cell_type": "code",
      "metadata": {
        "colab": {
          "base_uri": "https://localhost:8080/"
        },
        "id": "b0ohWZjTYoOr",
        "outputId": "b35c9394-aa2e-467a-9dc1-0205f0412715"
      },
      "source": [
        "download_blob(project_id='ba-780-team6-a1', bucket_name='ba780-team6-a1', \n",
        "              source_blob_name='rmsoffensecodes.xlsx', \n",
        "              destination_file_name='rmsoffensecodes.xlsx')"
      ],
      "execution_count": 35,
      "outputs": [
        {
          "output_type": "stream",
          "name": "stdout",
          "text": [
            "Blob rmsoffensecodes.xlsx downloaded to rmsoffensecodes.xlsx.\n"
          ]
        }
      ]
    },
    {
      "cell_type": "code",
      "metadata": {
        "colab": {
          "base_uri": "https://localhost:8080/"
        },
        "id": "mRu0OGHR3rR8",
        "outputId": "368b65e0-6126-44d0-c0b7-315ec1ae8e2a"
      },
      "source": [
        "download_blob(project_id='ba-780-team6-a1', bucket_name='ba780-team6-a1', \n",
        "              source_blob_name='crime-incident-reports-2015.csv', \n",
        "              destination_file_name='crime-incident-reports-2015.csv')"
      ],
      "execution_count": 36,
      "outputs": [
        {
          "output_type": "stream",
          "name": "stdout",
          "text": [
            "Blob crime-incident-reports-2015.csv downloaded to crime-incident-reports-2015.csv.\n"
          ]
        }
      ]
    },
    {
      "cell_type": "code",
      "metadata": {
        "colab": {
          "base_uri": "https://localhost:8080/"
        },
        "id": "bsaroaxaYz1y",
        "outputId": "c3fe2c75-42b2-4401-98a5-463be9688460"
      },
      "source": [
        "download_blob(project_id='ba-780-team6-a1', bucket_name='ba780-team6-a1', \n",
        "              source_blob_name='crime-incident-reports-2016.csv', \n",
        "              destination_file_name='crime-incident-reports-2016.csv')"
      ],
      "execution_count": 37,
      "outputs": [
        {
          "output_type": "stream",
          "name": "stdout",
          "text": [
            "Blob crime-incident-reports-2016.csv downloaded to crime-incident-reports-2016.csv.\n"
          ]
        }
      ]
    },
    {
      "cell_type": "code",
      "metadata": {
        "colab": {
          "base_uri": "https://localhost:8080/"
        },
        "id": "0mi94qo-Y1Zk",
        "outputId": "a2b11ba4-54ff-4d45-d3d9-52740bea5da5"
      },
      "source": [
        "download_blob(project_id='ba-780-team6-a1', bucket_name='ba780-team6-a1', \n",
        "              source_blob_name='crime-incident-reports-2017.csv', \n",
        "              destination_file_name='crime-incident-reports-2017.csv')"
      ],
      "execution_count": 38,
      "outputs": [
        {
          "output_type": "stream",
          "name": "stdout",
          "text": [
            "Blob crime-incident-reports-2017.csv downloaded to crime-incident-reports-2017.csv.\n"
          ]
        }
      ]
    },
    {
      "cell_type": "code",
      "metadata": {
        "colab": {
          "base_uri": "https://localhost:8080/"
        },
        "id": "G2kC-orLY2s0",
        "outputId": "0398421f-d1fa-4cca-a0ec-2f75ea63f90a"
      },
      "source": [
        "download_blob(project_id='ba-780-team6-a1', bucket_name='ba780-team6-a1', \n",
        "              source_blob_name='crime-incident-reports-2018.csv', \n",
        "              destination_file_name='crime-incident-reports-2018.csv')"
      ],
      "execution_count": 39,
      "outputs": [
        {
          "output_type": "stream",
          "name": "stdout",
          "text": [
            "Blob crime-incident-reports-2018.csv downloaded to crime-incident-reports-2018.csv.\n"
          ]
        }
      ]
    },
    {
      "cell_type": "code",
      "metadata": {
        "colab": {
          "base_uri": "https://localhost:8080/"
        },
        "id": "h7nzPno6Y27R",
        "outputId": "e6c7b656-32f3-4796-ad40-336160e70b7e"
      },
      "source": [
        "download_blob(project_id='ba-780-team6-a1', bucket_name='ba780-team6-a1', \n",
        "              source_blob_name='crime-incident-reports-2019.csv', \n",
        "              destination_file_name='crime-incident-reports-2019.csv')"
      ],
      "execution_count": 40,
      "outputs": [
        {
          "output_type": "stream",
          "name": "stdout",
          "text": [
            "Blob crime-incident-reports-2019.csv downloaded to crime-incident-reports-2019.csv.\n"
          ]
        }
      ]
    },
    {
      "cell_type": "code",
      "metadata": {
        "colab": {
          "base_uri": "https://localhost:8080/"
        },
        "id": "4GWANCe3Y3Ic",
        "outputId": "b57d8dde-367c-4a8c-9ee3-364a9a5f3228"
      },
      "source": [
        "download_blob(project_id='ba-780-team6-a1', bucket_name='ba780-team6-a1', \n",
        "              source_blob_name='crime-incident-reports-2020.csv', \n",
        "              destination_file_name='crime-incident-reports-2020.csv')"
      ],
      "execution_count": 41,
      "outputs": [
        {
          "output_type": "stream",
          "name": "stdout",
          "text": [
            "Blob crime-incident-reports-2020.csv downloaded to crime-incident-reports-2020.csv.\n"
          ]
        }
      ]
    },
    {
      "cell_type": "code",
      "metadata": {
        "colab": {
          "base_uri": "https://localhost:8080/"
        },
        "id": "na9m7gHOY3UT",
        "outputId": "1a5f4f20-c60c-4afa-b8d0-6e9495a812c2"
      },
      "source": [
        "download_blob(project_id='ba-780-team6-a1', bucket_name='ba780-team6-a1', \n",
        "              source_blob_name='crime-incident-reports-2021.csv', \n",
        "              destination_file_name='crime-incident-reports-2021.csv')"
      ],
      "execution_count": 42,
      "outputs": [
        {
          "output_type": "stream",
          "name": "stdout",
          "text": [
            "Blob crime-incident-reports-2021.csv downloaded to crime-incident-reports-2021.csv.\n"
          ]
        }
      ]
    },
    {
      "cell_type": "markdown",
      "metadata": {
        "id": "pR0FIUwRZMsP"
      },
      "source": [
        "## *Loading Data to variables*"
      ]
    },
    {
      "cell_type": "code",
      "metadata": {
        "colab": {
          "base_uri": "https://localhost:8080/"
        },
        "id": "QgcHk2ZnX_NH",
        "outputId": "a5169166-26c9-41a0-9cf2-83435a3dad22"
      },
      "source": [
        "# reading the crime data sets to the environement\n",
        "crimes2015 = pd.read_csv('crime-incident-reports-2015.csv')\n",
        "crimes2016 = pd.read_csv('crime-incident-reports-2016.csv')\n",
        "crimes2017 = pd.read_csv('crime-incident-reports-2017.csv')\n",
        "crimes2018 = pd.read_csv('crime-incident-reports-2018.csv')\n",
        "crimes2019 = pd.read_csv('crime-incident-reports-2019.csv')\n",
        "crimes2020 = pd.read_csv('crime-incident-reports-2020.csv')\n",
        "crimes2021 = pd.read_csv('crime-incident-reports-2021.csv')"
      ],
      "execution_count": 43,
      "outputs": [
        {
          "output_type": "stream",
          "name": "stderr",
          "text": [
            "/usr/local/lib/python3.7/dist-packages/IPython/core/interactiveshell.py:2718: DtypeWarning: Columns (0) have mixed types.Specify dtype option on import or set low_memory=False.\n",
            "  interactivity=interactivity, compiler=compiler, result=result)\n"
          ]
        }
      ]
    },
    {
      "cell_type": "code",
      "metadata": {
        "id": "E_nkmOXCOfIS"
      },
      "source": [
        "# reading the offense codes to the environment\n",
        "offense_codes = pd.read_excel('rmsoffensecodes.xlsx')"
      ],
      "execution_count": 45,
      "outputs": []
    },
    {
      "cell_type": "markdown",
      "metadata": {
        "id": "cCreplBzYc2p"
      },
      "source": [
        "## *Concatenating all crime datasets (Years 2015 - 2021)*"
      ]
    },
    {
      "cell_type": "code",
      "metadata": {
        "id": "2M5wnN-iYarP"
      },
      "source": [
        "# concatenating all crime datasets\n",
        "frames = [crimes2015,crimes2016,crimes2017,crimes2018,crimes2019,crimes2020,crimes2021]\n",
        "Crimes_all_years = pd.concat(frames)"
      ],
      "execution_count": 87,
      "outputs": []
    },
    {
      "cell_type": "code",
      "metadata": {
        "colab": {
          "base_uri": "https://localhost:8080/",
          "height": 78
        },
        "id": "CdhmtYiWhEhw",
        "outputId": "79035b74-ab11-4b0c-e324-8c3b3669b7fb"
      },
      "source": [
        "# Checking for the most recent month\n",
        "Crimes_all_years.loc[(Crimes_all_years['YEAR']==Crimes_all_years['YEAR'].max())&(Crimes_all_years['MONTH']==Crimes_all_years['MONTH'].max()) &(Crimes_all_years['DAY_OF_WEEK']==Crimes_all_years['DAY_OF_WEEK'].max())]"
      ],
      "execution_count": 95,
      "outputs": [
        {
          "output_type": "execute_result",
          "data": {
            "text/html": [
              "<div>\n",
              "<style scoped>\n",
              "    .dataframe tbody tr th:only-of-type {\n",
              "        vertical-align: middle;\n",
              "    }\n",
              "\n",
              "    .dataframe tbody tr th {\n",
              "        vertical-align: top;\n",
              "    }\n",
              "\n",
              "    .dataframe thead th {\n",
              "        text-align: right;\n",
              "    }\n",
              "</style>\n",
              "<table border=\"1\" class=\"dataframe\">\n",
              "  <thead>\n",
              "    <tr style=\"text-align: right;\">\n",
              "      <th></th>\n",
              "      <th>INCIDENT_NUMBER</th>\n",
              "      <th>OFFENSE_CODE</th>\n",
              "      <th>OFFENSE_CODE_GROUP</th>\n",
              "      <th>OFFENSE_DESCRIPTION</th>\n",
              "      <th>DISTRICT</th>\n",
              "      <th>...</th>\n",
              "      <th>UCR_PART</th>\n",
              "      <th>STREET</th>\n",
              "      <th>Lat</th>\n",
              "      <th>Long</th>\n",
              "      <th>Location</th>\n",
              "    </tr>\n",
              "  </thead>\n",
              "  <tbody>\n",
              "  </tbody>\n",
              "</table>\n",
              "<p>0 rows × 17 columns</p>\n",
              "</div>"
            ],
            "text/plain": [
              "Empty DataFrame\n",
              "Columns: [INCIDENT_NUMBER, OFFENSE_CODE, OFFENSE_CODE_GROUP, OFFENSE_DESCRIPTION, DISTRICT, REPORTING_AREA, SHOOTING, OCCURRED_ON_DATE, YEAR, MONTH, DAY_OF_WEEK, HOUR, UCR_PART, STREET, Lat, Long, Location]\n",
              "Index: []\n",
              "\n",
              "[0 rows x 17 columns]"
            ]
          },
          "metadata": {},
          "execution_count": 95
        }
      ]
    },
    {
      "cell_type": "markdown",
      "metadata": {
        "id": "8p0PeHvpeJQI"
      },
      "source": [
        "# **Data Cleaning**"
      ]
    },
    {
      "cell_type": "markdown",
      "metadata": {
        "id": "0ttbUq2id2vo"
      },
      "source": [
        "### Data Cleaning in Offense Code Dataset"
      ]
    },
    {
      "cell_type": "code",
      "metadata": {
        "colab": {
          "base_uri": "https://localhost:8080/"
        },
        "id": "z85UI5_-XZLU",
        "outputId": "6e1a1209-a6a8-4846-b7c8-56941dd9159c"
      },
      "source": [
        "# Number of unique offense codes\n",
        "len(offense_codes['CODE'].unique())"
      ],
      "execution_count": 27,
      "outputs": [
        {
          "output_type": "execute_result",
          "data": {
            "text/plain": [
              "425"
            ]
          },
          "metadata": {},
          "execution_count": 27
        }
      ]
    },
    {
      "cell_type": "code",
      "metadata": {
        "colab": {
          "base_uri": "https://localhost:8080/"
        },
        "id": "Rv6VUy7mUU2u",
        "outputId": "b5141eff-b821-49fc-ef42-34fa3130e720"
      },
      "source": [
        "# checking for any duplicates\n",
        "print(len(offense_codes))\n",
        "print(len(offense_codes.drop_duplicates(subset='CODE', keep='first')))"
      ],
      "execution_count": 28,
      "outputs": [
        {
          "output_type": "stream",
          "name": "stdout",
          "text": [
            "576\n",
            "425\n"
          ]
        }
      ]
    },
    {
      "cell_type": "code",
      "metadata": {
        "colab": {
          "base_uri": "https://localhost:8080/"
        },
        "id": "KIM2T52_XtIB",
        "outputId": "b3fafaa0-7c25-4a4c-ab61-25ff87a9c0ca"
      },
      "source": [
        "offense_codes.duplicated"
      ],
      "execution_count": 32,
      "outputs": [
        {
          "output_type": "execute_result",
          "data": {
            "text/plain": [
              "<bound method DataFrame.duplicated of      CODE                                       NAME\n",
              "0     612           LARCENY PURSE SNATCH - NO FORCE \n",
              "1     613                        LARCENY SHOPLIFTING\n",
              "2     615    LARCENY THEFT OF MV PARTS & ACCESSORIES\n",
              "3    1731                                     INCEST\n",
              "4    3111                  LICENSE PREMISE VIOLATION\n",
              "..    ...                                        ...\n",
              "571  1806  DRUGS - CLASS B TRAFFICKING OVER 18 GRAMS\n",
              "572  1807  DRUGS - CLASS D TRAFFICKING OVER 50 GRAMS\n",
              "573  1610    HUMAN TRAFFICKING - COMMERCIAL SEX ACTS\n",
              "574  2010                              HOME INVASION\n",
              "575  1620  HUMAN TRAFFICKING - INVOLUNTARY SERVITUDE\n",
              "\n",
              "[576 rows x 2 columns]>"
            ]
          },
          "metadata": {},
          "execution_count": 32
        }
      ]
    },
    {
      "cell_type": "code",
      "metadata": {
        "colab": {
          "base_uri": "https://localhost:8080/",
          "height": 419
        },
        "id": "eC2fiw-CJ40_",
        "outputId": "1b39274a-454b-4bfb-effd-10deeb13d4f9"
      },
      "source": [
        "duplicated_codes = offense_codes[offense_codes.duplicated()]\n",
        "duplicated_codes"
      ],
      "execution_count": 29,
      "outputs": [
        {
          "output_type": "execute_result",
          "data": {
            "text/html": [
              "<div>\n",
              "<style scoped>\n",
              "    .dataframe tbody tr th:only-of-type {\n",
              "        vertical-align: middle;\n",
              "    }\n",
              "\n",
              "    .dataframe tbody tr th {\n",
              "        vertical-align: top;\n",
              "    }\n",
              "\n",
              "    .dataframe thead th {\n",
              "        text-align: right;\n",
              "    }\n",
              "</style>\n",
              "<table border=\"1\" class=\"dataframe\">\n",
              "  <thead>\n",
              "    <tr style=\"text-align: right;\">\n",
              "      <th></th>\n",
              "      <th>CODE</th>\n",
              "      <th>NAME</th>\n",
              "    </tr>\n",
              "  </thead>\n",
              "  <tbody>\n",
              "    <tr>\n",
              "      <th>184</th>\n",
              "      <td>112</td>\n",
              "      <td>KILLING OF FELON BY POLICE</td>\n",
              "    </tr>\n",
              "    <tr>\n",
              "      <th>185</th>\n",
              "      <td>114</td>\n",
              "      <td>KILLING OF POLICE BY FELON</td>\n",
              "    </tr>\n",
              "    <tr>\n",
              "      <th>186</th>\n",
              "      <td>121</td>\n",
              "      <td>MANSLAUGHTER - VEHICLE - NEGLIGENCE</td>\n",
              "    </tr>\n",
              "    <tr>\n",
              "      <th>188</th>\n",
              "      <td>123</td>\n",
              "      <td>MANSLAUGHTER - NON-VEHICLE - NEGLIGENCE</td>\n",
              "    </tr>\n",
              "    <tr>\n",
              "      <th>329</th>\n",
              "      <td>724</td>\n",
              "      <td>AUTO THEFT</td>\n",
              "    </tr>\n",
              "    <tr>\n",
              "      <th>...</th>\n",
              "      <td>...</td>\n",
              "      <td>...</td>\n",
              "    </tr>\n",
              "    <tr>\n",
              "      <th>562</th>\n",
              "      <td>1849</td>\n",
              "      <td>DRUGS - POSS CLASS B - COCAINE, ETC.</td>\n",
              "    </tr>\n",
              "    <tr>\n",
              "      <th>563</th>\n",
              "      <td>3119</td>\n",
              "      <td>FIREARM/WEAPON - FOUND OR CONFISCATED</td>\n",
              "    </tr>\n",
              "    <tr>\n",
              "      <th>564</th>\n",
              "      <td>1103</td>\n",
              "      <td>CONFIDENCE GAMES</td>\n",
              "    </tr>\n",
              "    <tr>\n",
              "      <th>565</th>\n",
              "      <td>2608</td>\n",
              "      <td>CHINS</td>\n",
              "    </tr>\n",
              "    <tr>\n",
              "      <th>569</th>\n",
              "      <td>2631</td>\n",
              "      <td>PROPERTY - CONCEALING LEASED</td>\n",
              "    </tr>\n",
              "  </tbody>\n",
              "</table>\n",
              "<p>83 rows × 2 columns</p>\n",
              "</div>"
            ],
            "text/plain": [
              "     CODE                                     NAME\n",
              "184   112               KILLING OF FELON BY POLICE\n",
              "185   114               KILLING OF POLICE BY FELON\n",
              "186   121      MANSLAUGHTER - VEHICLE - NEGLIGENCE\n",
              "188   123  MANSLAUGHTER - NON-VEHICLE - NEGLIGENCE\n",
              "329   724                               AUTO THEFT\n",
              "..    ...                                      ...\n",
              "562  1849     DRUGS - POSS CLASS B - COCAINE, ETC.\n",
              "563  3119    FIREARM/WEAPON - FOUND OR CONFISCATED\n",
              "564  1103                         CONFIDENCE GAMES\n",
              "565  2608                                    CHINS\n",
              "569  2631             PROPERTY - CONCEALING LEASED\n",
              "\n",
              "[83 rows x 2 columns]"
            ]
          },
          "metadata": {},
          "execution_count": 29
        }
      ]
    },
    {
      "cell_type": "code",
      "metadata": {
        "id": "rFxfUWu2Uhuk"
      },
      "source": [
        "# dropping duplicates\n",
        "offense_codes = offense_codes.drop_duplicates(subset='CODE', keep='first').reset_index(drop=True)"
      ],
      "execution_count": null,
      "outputs": []
    },
    {
      "cell_type": "markdown",
      "metadata": {
        "id": "kEvi4ZEadwO-"
      },
      "source": [
        "### Data Cleaning in Crime Dataset"
      ]
    },
    {
      "cell_type": "code",
      "metadata": {
        "colab": {
          "base_uri": "https://localhost:8080/"
        },
        "id": "TxcvfKHrdfRQ",
        "outputId": "d0fd99ac-c781-41ee-9808-a6cd288fb679"
      },
      "source": [
        "# Number of unique crime incidents\n",
        "len(Crimes_all_years['INCIDENT_NUMBER'].unique())"
      ],
      "execution_count": 55,
      "outputs": [
        {
          "output_type": "execute_result",
          "data": {
            "text/plain": [
              "452208"
            ]
          },
          "metadata": {},
          "execution_count": 55
        }
      ]
    },
    {
      "cell_type": "code",
      "metadata": {
        "colab": {
          "base_uri": "https://localhost:8080/"
        },
        "id": "kr22ftHsC5mE",
        "outputId": "e0dbd54d-f414-4311-c89a-485f1b5dc2d4"
      },
      "source": [
        "# checking for any duplicates\n",
        "print(len(Crimes_all_years))\n",
        "print(len(Crimes_all_years.drop_duplicates(subset='INCIDENT_NUMBER', keep='first')))"
      ],
      "execution_count": null,
      "outputs": [
        {
          "output_type": "stream",
          "name": "stdout",
          "text": [
            "494281\n",
            "452208\n"
          ]
        }
      ]
    },
    {
      "cell_type": "code",
      "metadata": {
        "id": "mQhIjPtZDZnw"
      },
      "source": [
        "# dropping duplicates\n",
        "Crimes_all_years = Crimes_all_years.drop_duplicates(subset='INCIDENT_NUMBER', keep='first').reset_index(drop=True)"
      ],
      "execution_count": null,
      "outputs": []
    },
    {
      "cell_type": "code",
      "metadata": {
        "id": "G3knYgbLzua_"
      },
      "source": [
        "# filling the NA's in the 'OFFENSE_CODE_GROUP' to \"Other\"\n",
        "Crimes_all_years['OFFENSE_CODE_GROUP']= Crimes_all_years['OFFENSE_CODE_GROUP'].fillna(\"Other\")"
      ],
      "execution_count": null,
      "outputs": []
    },
    {
      "cell_type": "code",
      "metadata": {
        "colab": {
          "base_uri": "https://localhost:8080/"
        },
        "id": "vMlncK6jzxJ_",
        "outputId": "fffb5607-88b8-48ed-d6ad-b2f3e218379d"
      },
      "source": [
        "Crimes_all_years.isna().sum()"
      ],
      "execution_count": null,
      "outputs": [
        {
          "output_type": "execute_result",
          "data": {
            "text/plain": [
              "index                       0\n",
              "INCIDENT_NUMBER             0\n",
              "OFFENSE_CODE                0\n",
              "OFFENSE_CODE_GROUP          0\n",
              "OFFENSE_DESCRIPTION         0\n",
              "                        ...  \n",
              "UCR_PART               141125\n",
              "STREET                  11886\n",
              "Lat                     22530\n",
              "Long                    22530\n",
              "Location                    0\n",
              "Length: 18, dtype: int64"
            ]
          },
          "metadata": {},
          "execution_count": 13
        }
      ]
    },
    {
      "cell_type": "code",
      "metadata": {
        "id": "Lg1CzU--DqXV",
        "colab": {
          "base_uri": "https://localhost:8080/",
          "height": 423
        },
        "outputId": "e3de7636-4d97-4386-926f-32ffd3782681"
      },
      "source": [
        "# missing values in Lat column\n",
        "Crimes_all_years[Crimes_all_years['Lat'].isnull()]"
      ],
      "execution_count": null,
      "outputs": [
        {
          "output_type": "execute_result",
          "data": {
            "text/html": [
              "<div>\n",
              "<style scoped>\n",
              "    .dataframe tbody tr th:only-of-type {\n",
              "        vertical-align: middle;\n",
              "    }\n",
              "\n",
              "    .dataframe tbody tr th {\n",
              "        vertical-align: top;\n",
              "    }\n",
              "\n",
              "    .dataframe thead th {\n",
              "        text-align: right;\n",
              "    }\n",
              "</style>\n",
              "<table border=\"1\" class=\"dataframe\">\n",
              "  <thead>\n",
              "    <tr style=\"text-align: right;\">\n",
              "      <th></th>\n",
              "      <th>index</th>\n",
              "      <th>INCIDENT_NUMBER</th>\n",
              "      <th>OFFENSE_CODE</th>\n",
              "      <th>OFFENSE_CODE_GROUP</th>\n",
              "      <th>OFFENSE_DESCRIPTION</th>\n",
              "      <th>...</th>\n",
              "      <th>UCR_PART</th>\n",
              "      <th>STREET</th>\n",
              "      <th>Lat</th>\n",
              "      <th>Long</th>\n",
              "      <th>Location</th>\n",
              "    </tr>\n",
              "  </thead>\n",
              "  <tbody>\n",
              "    <tr>\n",
              "      <th>16</th>\n",
              "      <td>16</td>\n",
              "      <td>I182039429</td>\n",
              "      <td>1107</td>\n",
              "      <td>Fraud</td>\n",
              "      <td>FRAUD - IMPERSONATION</td>\n",
              "      <td>...</td>\n",
              "      <td>Part Two</td>\n",
              "      <td>E FOURTH ST</td>\n",
              "      <td>NaN</td>\n",
              "      <td>NaN</td>\n",
              "      <td>(0.00000000, 0.00000000)</td>\n",
              "    </tr>\n",
              "    <tr>\n",
              "      <th>45</th>\n",
              "      <td>45</td>\n",
              "      <td>I172061344</td>\n",
              "      <td>1102</td>\n",
              "      <td>Fraud</td>\n",
              "      <td>FRAUD - FALSE PRETENSE / SCHEME</td>\n",
              "      <td>...</td>\n",
              "      <td>Part Two</td>\n",
              "      <td>COURT ST</td>\n",
              "      <td>NaN</td>\n",
              "      <td>NaN</td>\n",
              "      <td>(0.00000000, 0.00000000)</td>\n",
              "    </tr>\n",
              "    <tr>\n",
              "      <th>83</th>\n",
              "      <td>83</td>\n",
              "      <td>I162101249</td>\n",
              "      <td>1102</td>\n",
              "      <td>Fraud</td>\n",
              "      <td>FRAUD - FALSE PRETENSE / SCHEME</td>\n",
              "      <td>...</td>\n",
              "      <td>Part Two</td>\n",
              "      <td>CUMMINS HWY</td>\n",
              "      <td>NaN</td>\n",
              "      <td>NaN</td>\n",
              "      <td>(0.00000000, 0.00000000)</td>\n",
              "    </tr>\n",
              "    <tr>\n",
              "      <th>91</th>\n",
              "      <td>91</td>\n",
              "      <td>I162097933</td>\n",
              "      <td>1106</td>\n",
              "      <td>Confidence Games</td>\n",
              "      <td>FRAUD - CREDIT CARD / ATM FRAUD</td>\n",
              "      <td>...</td>\n",
              "      <td>Part Two</td>\n",
              "      <td>ADDELAIDE PL</td>\n",
              "      <td>NaN</td>\n",
              "      <td>NaN</td>\n",
              "      <td>(0.00000000, 0.00000000)</td>\n",
              "    </tr>\n",
              "    <tr>\n",
              "      <th>92</th>\n",
              "      <td>92</td>\n",
              "      <td>I162097933</td>\n",
              "      <td>3109</td>\n",
              "      <td>Police Service Incidents</td>\n",
              "      <td>SERVICE TO OTHER PD INSIDE OF MA.</td>\n",
              "      <td>...</td>\n",
              "      <td>Part Three</td>\n",
              "      <td>ADDELAIDE PL</td>\n",
              "      <td>NaN</td>\n",
              "      <td>NaN</td>\n",
              "      <td>(0.00000000, 0.00000000)</td>\n",
              "    </tr>\n",
              "    <tr>\n",
              "      <th>...</th>\n",
              "      <td>...</td>\n",
              "      <td>...</td>\n",
              "      <td>...</td>\n",
              "      <td>...</td>\n",
              "      <td>...</td>\n",
              "      <td>...</td>\n",
              "      <td>...</td>\n",
              "      <td>...</td>\n",
              "      <td>...</td>\n",
              "      <td>...</td>\n",
              "      <td>...</td>\n",
              "    </tr>\n",
              "    <tr>\n",
              "      <th>353153</th>\n",
              "      <td>98788</td>\n",
              "      <td>I172022524</td>\n",
              "      <td>2660</td>\n",
              "      <td>Other</td>\n",
              "      <td>OTHER OFFENSE</td>\n",
              "      <td>...</td>\n",
              "      <td>Part Two</td>\n",
              "      <td>BOYLSTON ST</td>\n",
              "      <td>NaN</td>\n",
              "      <td>NaN</td>\n",
              "      <td>(0.00000000, 0.00000000)</td>\n",
              "    </tr>\n",
              "    <tr>\n",
              "      <th>353154</th>\n",
              "      <td>98789</td>\n",
              "      <td>I172022524</td>\n",
              "      <td>1810</td>\n",
              "      <td>Drug Violation</td>\n",
              "      <td>DRUGS - SALE / MANUFACTURING</td>\n",
              "      <td>...</td>\n",
              "      <td>Part Two</td>\n",
              "      <td>BOYLSTON ST</td>\n",
              "      <td>NaN</td>\n",
              "      <td>NaN</td>\n",
              "      <td>(0.00000000, 0.00000000)</td>\n",
              "    </tr>\n",
              "    <tr>\n",
              "      <th>353168</th>\n",
              "      <td>98803</td>\n",
              "      <td>I172002908</td>\n",
              "      <td>802</td>\n",
              "      <td>Simple Assault</td>\n",
              "      <td>ASSAULT SIMPLE - BATTERY</td>\n",
              "      <td>...</td>\n",
              "      <td>Part Two</td>\n",
              "      <td>NaN</td>\n",
              "      <td>NaN</td>\n",
              "      <td>NaN</td>\n",
              "      <td>(0.00000000, 0.00000000)</td>\n",
              "    </tr>\n",
              "    <tr>\n",
              "      <th>353169</th>\n",
              "      <td>98804</td>\n",
              "      <td>I172002908</td>\n",
              "      <td>3125</td>\n",
              "      <td>Warrant Arrests</td>\n",
              "      <td>WARRANT ARREST</td>\n",
              "      <td>...</td>\n",
              "      <td>Part Three</td>\n",
              "      <td>NaN</td>\n",
              "      <td>NaN</td>\n",
              "      <td>NaN</td>\n",
              "      <td>(0.00000000, 0.00000000)</td>\n",
              "    </tr>\n",
              "    <tr>\n",
              "      <th>353238</th>\n",
              "      <td>98873</td>\n",
              "      <td>I110611058-00</td>\n",
              "      <td>3125</td>\n",
              "      <td>Warrant Arrests</td>\n",
              "      <td>WARRANT ARREST</td>\n",
              "      <td>...</td>\n",
              "      <td>Part Three</td>\n",
              "      <td>CAMBRIDGE ST</td>\n",
              "      <td>NaN</td>\n",
              "      <td>NaN</td>\n",
              "      <td>(0.00000000, 0.00000000)</td>\n",
              "    </tr>\n",
              "  </tbody>\n",
              "</table>\n",
              "<p>22530 rows × 18 columns</p>\n",
              "</div>"
            ],
            "text/plain": [
              "        index INCIDENT_NUMBER  OFFENSE_CODE        OFFENSE_CODE_GROUP  \\\n",
              "16         16      I182039429          1107                     Fraud   \n",
              "45         45      I172061344          1102                     Fraud   \n",
              "83         83      I162101249          1102                     Fraud   \n",
              "91         91      I162097933          1106          Confidence Games   \n",
              "92         92      I162097933          3109  Police Service Incidents   \n",
              "...       ...             ...           ...                       ...   \n",
              "353153  98788      I172022524          2660                     Other   \n",
              "353154  98789      I172022524          1810            Drug Violation   \n",
              "353168  98803      I172002908           802            Simple Assault   \n",
              "353169  98804      I172002908          3125           Warrant Arrests   \n",
              "353238  98873   I110611058-00          3125           Warrant Arrests   \n",
              "\n",
              "                      OFFENSE_DESCRIPTION  ...    UCR_PART        STREET Lat  \\\n",
              "16                  FRAUD - IMPERSONATION  ...    Part Two   E FOURTH ST NaN   \n",
              "45        FRAUD - FALSE PRETENSE / SCHEME  ...    Part Two      COURT ST NaN   \n",
              "83        FRAUD - FALSE PRETENSE / SCHEME  ...    Part Two   CUMMINS HWY NaN   \n",
              "91        FRAUD - CREDIT CARD / ATM FRAUD  ...    Part Two  ADDELAIDE PL NaN   \n",
              "92      SERVICE TO OTHER PD INSIDE OF MA.  ...  Part Three  ADDELAIDE PL NaN   \n",
              "...                                   ...  ...         ...           ...  ..   \n",
              "353153                      OTHER OFFENSE  ...    Part Two   BOYLSTON ST NaN   \n",
              "353154       DRUGS - SALE / MANUFACTURING  ...    Part Two   BOYLSTON ST NaN   \n",
              "353168           ASSAULT SIMPLE - BATTERY  ...    Part Two           NaN NaN   \n",
              "353169                     WARRANT ARREST  ...  Part Three           NaN NaN   \n",
              "353238                     WARRANT ARREST  ...  Part Three  CAMBRIDGE ST NaN   \n",
              "\n",
              "       Long                  Location  \n",
              "16      NaN  (0.00000000, 0.00000000)  \n",
              "45      NaN  (0.00000000, 0.00000000)  \n",
              "83      NaN  (0.00000000, 0.00000000)  \n",
              "91      NaN  (0.00000000, 0.00000000)  \n",
              "92      NaN  (0.00000000, 0.00000000)  \n",
              "...     ...                       ...  \n",
              "353153  NaN  (0.00000000, 0.00000000)  \n",
              "353154  NaN  (0.00000000, 0.00000000)  \n",
              "353168  NaN  (0.00000000, 0.00000000)  \n",
              "353169  NaN  (0.00000000, 0.00000000)  \n",
              "353238  NaN  (0.00000000, 0.00000000)  \n",
              "\n",
              "[22530 rows x 18 columns]"
            ]
          },
          "metadata": {},
          "execution_count": 126
        }
      ]
    },
    {
      "cell_type": "code",
      "metadata": {
        "id": "76GpTfRADuM8",
        "colab": {
          "base_uri": "https://localhost:8080/",
          "height": 423
        },
        "outputId": "95daecf3-0bed-4c0a-a620-e4d026f315bc"
      },
      "source": [
        "# missing values in Long column\n",
        "Crimes_all_years[Crimes_all_years['Long'].isnull()]"
      ],
      "execution_count": null,
      "outputs": [
        {
          "output_type": "execute_result",
          "data": {
            "text/html": [
              "<div>\n",
              "<style scoped>\n",
              "    .dataframe tbody tr th:only-of-type {\n",
              "        vertical-align: middle;\n",
              "    }\n",
              "\n",
              "    .dataframe tbody tr th {\n",
              "        vertical-align: top;\n",
              "    }\n",
              "\n",
              "    .dataframe thead th {\n",
              "        text-align: right;\n",
              "    }\n",
              "</style>\n",
              "<table border=\"1\" class=\"dataframe\">\n",
              "  <thead>\n",
              "    <tr style=\"text-align: right;\">\n",
              "      <th></th>\n",
              "      <th>index</th>\n",
              "      <th>INCIDENT_NUMBER</th>\n",
              "      <th>OFFENSE_CODE</th>\n",
              "      <th>OFFENSE_CODE_GROUP</th>\n",
              "      <th>OFFENSE_DESCRIPTION</th>\n",
              "      <th>...</th>\n",
              "      <th>UCR_PART</th>\n",
              "      <th>STREET</th>\n",
              "      <th>Lat</th>\n",
              "      <th>Long</th>\n",
              "      <th>Location</th>\n",
              "    </tr>\n",
              "  </thead>\n",
              "  <tbody>\n",
              "    <tr>\n",
              "      <th>16</th>\n",
              "      <td>16</td>\n",
              "      <td>I182039429</td>\n",
              "      <td>1107</td>\n",
              "      <td>Fraud</td>\n",
              "      <td>FRAUD - IMPERSONATION</td>\n",
              "      <td>...</td>\n",
              "      <td>Part Two</td>\n",
              "      <td>E FOURTH ST</td>\n",
              "      <td>NaN</td>\n",
              "      <td>NaN</td>\n",
              "      <td>(0.00000000, 0.00000000)</td>\n",
              "    </tr>\n",
              "    <tr>\n",
              "      <th>45</th>\n",
              "      <td>45</td>\n",
              "      <td>I172061344</td>\n",
              "      <td>1102</td>\n",
              "      <td>Fraud</td>\n",
              "      <td>FRAUD - FALSE PRETENSE / SCHEME</td>\n",
              "      <td>...</td>\n",
              "      <td>Part Two</td>\n",
              "      <td>COURT ST</td>\n",
              "      <td>NaN</td>\n",
              "      <td>NaN</td>\n",
              "      <td>(0.00000000, 0.00000000)</td>\n",
              "    </tr>\n",
              "    <tr>\n",
              "      <th>83</th>\n",
              "      <td>83</td>\n",
              "      <td>I162101249</td>\n",
              "      <td>1102</td>\n",
              "      <td>Fraud</td>\n",
              "      <td>FRAUD - FALSE PRETENSE / SCHEME</td>\n",
              "      <td>...</td>\n",
              "      <td>Part Two</td>\n",
              "      <td>CUMMINS HWY</td>\n",
              "      <td>NaN</td>\n",
              "      <td>NaN</td>\n",
              "      <td>(0.00000000, 0.00000000)</td>\n",
              "    </tr>\n",
              "    <tr>\n",
              "      <th>91</th>\n",
              "      <td>91</td>\n",
              "      <td>I162097933</td>\n",
              "      <td>1106</td>\n",
              "      <td>Confidence Games</td>\n",
              "      <td>FRAUD - CREDIT CARD / ATM FRAUD</td>\n",
              "      <td>...</td>\n",
              "      <td>Part Two</td>\n",
              "      <td>ADDELAIDE PL</td>\n",
              "      <td>NaN</td>\n",
              "      <td>NaN</td>\n",
              "      <td>(0.00000000, 0.00000000)</td>\n",
              "    </tr>\n",
              "    <tr>\n",
              "      <th>92</th>\n",
              "      <td>92</td>\n",
              "      <td>I162097933</td>\n",
              "      <td>3109</td>\n",
              "      <td>Police Service Incidents</td>\n",
              "      <td>SERVICE TO OTHER PD INSIDE OF MA.</td>\n",
              "      <td>...</td>\n",
              "      <td>Part Three</td>\n",
              "      <td>ADDELAIDE PL</td>\n",
              "      <td>NaN</td>\n",
              "      <td>NaN</td>\n",
              "      <td>(0.00000000, 0.00000000)</td>\n",
              "    </tr>\n",
              "    <tr>\n",
              "      <th>...</th>\n",
              "      <td>...</td>\n",
              "      <td>...</td>\n",
              "      <td>...</td>\n",
              "      <td>...</td>\n",
              "      <td>...</td>\n",
              "      <td>...</td>\n",
              "      <td>...</td>\n",
              "      <td>...</td>\n",
              "      <td>...</td>\n",
              "      <td>...</td>\n",
              "      <td>...</td>\n",
              "    </tr>\n",
              "    <tr>\n",
              "      <th>353153</th>\n",
              "      <td>98788</td>\n",
              "      <td>I172022524</td>\n",
              "      <td>2660</td>\n",
              "      <td>Other</td>\n",
              "      <td>OTHER OFFENSE</td>\n",
              "      <td>...</td>\n",
              "      <td>Part Two</td>\n",
              "      <td>BOYLSTON ST</td>\n",
              "      <td>NaN</td>\n",
              "      <td>NaN</td>\n",
              "      <td>(0.00000000, 0.00000000)</td>\n",
              "    </tr>\n",
              "    <tr>\n",
              "      <th>353154</th>\n",
              "      <td>98789</td>\n",
              "      <td>I172022524</td>\n",
              "      <td>1810</td>\n",
              "      <td>Drug Violation</td>\n",
              "      <td>DRUGS - SALE / MANUFACTURING</td>\n",
              "      <td>...</td>\n",
              "      <td>Part Two</td>\n",
              "      <td>BOYLSTON ST</td>\n",
              "      <td>NaN</td>\n",
              "      <td>NaN</td>\n",
              "      <td>(0.00000000, 0.00000000)</td>\n",
              "    </tr>\n",
              "    <tr>\n",
              "      <th>353168</th>\n",
              "      <td>98803</td>\n",
              "      <td>I172002908</td>\n",
              "      <td>802</td>\n",
              "      <td>Simple Assault</td>\n",
              "      <td>ASSAULT SIMPLE - BATTERY</td>\n",
              "      <td>...</td>\n",
              "      <td>Part Two</td>\n",
              "      <td>NaN</td>\n",
              "      <td>NaN</td>\n",
              "      <td>NaN</td>\n",
              "      <td>(0.00000000, 0.00000000)</td>\n",
              "    </tr>\n",
              "    <tr>\n",
              "      <th>353169</th>\n",
              "      <td>98804</td>\n",
              "      <td>I172002908</td>\n",
              "      <td>3125</td>\n",
              "      <td>Warrant Arrests</td>\n",
              "      <td>WARRANT ARREST</td>\n",
              "      <td>...</td>\n",
              "      <td>Part Three</td>\n",
              "      <td>NaN</td>\n",
              "      <td>NaN</td>\n",
              "      <td>NaN</td>\n",
              "      <td>(0.00000000, 0.00000000)</td>\n",
              "    </tr>\n",
              "    <tr>\n",
              "      <th>353238</th>\n",
              "      <td>98873</td>\n",
              "      <td>I110611058-00</td>\n",
              "      <td>3125</td>\n",
              "      <td>Warrant Arrests</td>\n",
              "      <td>WARRANT ARREST</td>\n",
              "      <td>...</td>\n",
              "      <td>Part Three</td>\n",
              "      <td>CAMBRIDGE ST</td>\n",
              "      <td>NaN</td>\n",
              "      <td>NaN</td>\n",
              "      <td>(0.00000000, 0.00000000)</td>\n",
              "    </tr>\n",
              "  </tbody>\n",
              "</table>\n",
              "<p>22530 rows × 18 columns</p>\n",
              "</div>"
            ],
            "text/plain": [
              "        index INCIDENT_NUMBER  OFFENSE_CODE        OFFENSE_CODE_GROUP  \\\n",
              "16         16      I182039429          1107                     Fraud   \n",
              "45         45      I172061344          1102                     Fraud   \n",
              "83         83      I162101249          1102                     Fraud   \n",
              "91         91      I162097933          1106          Confidence Games   \n",
              "92         92      I162097933          3109  Police Service Incidents   \n",
              "...       ...             ...           ...                       ...   \n",
              "353153  98788      I172022524          2660                     Other   \n",
              "353154  98789      I172022524          1810            Drug Violation   \n",
              "353168  98803      I172002908           802            Simple Assault   \n",
              "353169  98804      I172002908          3125           Warrant Arrests   \n",
              "353238  98873   I110611058-00          3125           Warrant Arrests   \n",
              "\n",
              "                      OFFENSE_DESCRIPTION  ...    UCR_PART        STREET Lat  \\\n",
              "16                  FRAUD - IMPERSONATION  ...    Part Two   E FOURTH ST NaN   \n",
              "45        FRAUD - FALSE PRETENSE / SCHEME  ...    Part Two      COURT ST NaN   \n",
              "83        FRAUD - FALSE PRETENSE / SCHEME  ...    Part Two   CUMMINS HWY NaN   \n",
              "91        FRAUD - CREDIT CARD / ATM FRAUD  ...    Part Two  ADDELAIDE PL NaN   \n",
              "92      SERVICE TO OTHER PD INSIDE OF MA.  ...  Part Three  ADDELAIDE PL NaN   \n",
              "...                                   ...  ...         ...           ...  ..   \n",
              "353153                      OTHER OFFENSE  ...    Part Two   BOYLSTON ST NaN   \n",
              "353154       DRUGS - SALE / MANUFACTURING  ...    Part Two   BOYLSTON ST NaN   \n",
              "353168           ASSAULT SIMPLE - BATTERY  ...    Part Two           NaN NaN   \n",
              "353169                     WARRANT ARREST  ...  Part Three           NaN NaN   \n",
              "353238                     WARRANT ARREST  ...  Part Three  CAMBRIDGE ST NaN   \n",
              "\n",
              "       Long                  Location  \n",
              "16      NaN  (0.00000000, 0.00000000)  \n",
              "45      NaN  (0.00000000, 0.00000000)  \n",
              "83      NaN  (0.00000000, 0.00000000)  \n",
              "91      NaN  (0.00000000, 0.00000000)  \n",
              "92      NaN  (0.00000000, 0.00000000)  \n",
              "...     ...                       ...  \n",
              "353153  NaN  (0.00000000, 0.00000000)  \n",
              "353154  NaN  (0.00000000, 0.00000000)  \n",
              "353168  NaN  (0.00000000, 0.00000000)  \n",
              "353169  NaN  (0.00000000, 0.00000000)  \n",
              "353238  NaN  (0.00000000, 0.00000000)  \n",
              "\n",
              "[22530 rows x 18 columns]"
            ]
          },
          "metadata": {},
          "execution_count": 128
        }
      ]
    },
    {
      "cell_type": "code",
      "metadata": {
        "id": "RyuYytDjeVHB",
        "colab": {
          "base_uri": "https://localhost:8080/",
          "height": 580
        },
        "outputId": "481d5d35-794e-4902-e41f-7624974eab43"
      },
      "source": [
        "# missing values in DISTRICT column\n",
        "Crimes_all_years[Crimes_all_years['DISTRICT'].isnull()]"
      ],
      "execution_count": null,
      "outputs": [
        {
          "output_type": "execute_result",
          "data": {
            "text/html": [
              "<div>\n",
              "<style scoped>\n",
              "    .dataframe tbody tr th:only-of-type {\n",
              "        vertical-align: middle;\n",
              "    }\n",
              "\n",
              "    .dataframe tbody tr th {\n",
              "        vertical-align: top;\n",
              "    }\n",
              "\n",
              "    .dataframe thead th {\n",
              "        text-align: right;\n",
              "    }\n",
              "</style>\n",
              "<table border=\"1\" class=\"dataframe\">\n",
              "  <thead>\n",
              "    <tr style=\"text-align: right;\">\n",
              "      <th></th>\n",
              "      <th>index</th>\n",
              "      <th>INCIDENT_NUMBER</th>\n",
              "      <th>OFFENSE_CODE</th>\n",
              "      <th>OFFENSE_CODE_GROUP</th>\n",
              "      <th>OFFENSE_DESCRIPTION</th>\n",
              "      <th>...</th>\n",
              "      <th>UCR_PART</th>\n",
              "      <th>STREET</th>\n",
              "      <th>Lat</th>\n",
              "      <th>Long</th>\n",
              "      <th>Location</th>\n",
              "    </tr>\n",
              "  </thead>\n",
              "  <tbody>\n",
              "    <tr>\n",
              "      <th>9</th>\n",
              "      <td>9</td>\n",
              "      <td>I182061268</td>\n",
              "      <td>3201</td>\n",
              "      <td>Property Lost</td>\n",
              "      <td>PROPERTY - LOST</td>\n",
              "      <td>...</td>\n",
              "      <td>Part Three</td>\n",
              "      <td>BERNARD</td>\n",
              "      <td>-1.000000</td>\n",
              "      <td>-1.000000</td>\n",
              "      <td>(-1.00000000, -1.00000000)</td>\n",
              "    </tr>\n",
              "    <tr>\n",
              "      <th>20</th>\n",
              "      <td>23</td>\n",
              "      <td>I182008210</td>\n",
              "      <td>1107</td>\n",
              "      <td>Fraud</td>\n",
              "      <td>FRAUD - IMPERSONATION</td>\n",
              "      <td>...</td>\n",
              "      <td>Part Two</td>\n",
              "      <td>COBDEN</td>\n",
              "      <td>-1.000000</td>\n",
              "      <td>-1.000000</td>\n",
              "      <td>(-1.00000000, -1.00000000)</td>\n",
              "    </tr>\n",
              "    <tr>\n",
              "      <th>1630</th>\n",
              "      <td>1798</td>\n",
              "      <td>I152106585</td>\n",
              "      <td>2907</td>\n",
              "      <td>Violations</td>\n",
              "      <td>VAL - OPERATING AFTER REV/SUSP.</td>\n",
              "      <td>...</td>\n",
              "      <td>Part Two</td>\n",
              "      <td>NaN</td>\n",
              "      <td>NaN</td>\n",
              "      <td>NaN</td>\n",
              "      <td>(0.00000000, 0.00000000)</td>\n",
              "    </tr>\n",
              "    <tr>\n",
              "      <th>2673</th>\n",
              "      <td>2964</td>\n",
              "      <td>I152105266</td>\n",
              "      <td>724</td>\n",
              "      <td>Auto Theft</td>\n",
              "      <td>AUTO THEFT</td>\n",
              "      <td>...</td>\n",
              "      <td>Part One</td>\n",
              "      <td>MARLBOROUGH</td>\n",
              "      <td>NaN</td>\n",
              "      <td>NaN</td>\n",
              "      <td>(0.00000000, 0.00000000)</td>\n",
              "    </tr>\n",
              "    <tr>\n",
              "      <th>2711</th>\n",
              "      <td>3005</td>\n",
              "      <td>I152105224</td>\n",
              "      <td>1849</td>\n",
              "      <td>Drug Violation</td>\n",
              "      <td>DRUGS - POSS CLASS B - COCAINE, ETC.</td>\n",
              "      <td>...</td>\n",
              "      <td>Part Two</td>\n",
              "      <td>DORCHESTER AVE</td>\n",
              "      <td>NaN</td>\n",
              "      <td>NaN</td>\n",
              "      <td>(0.00000000, 0.00000000)</td>\n",
              "    </tr>\n",
              "    <tr>\n",
              "      <th>...</th>\n",
              "      <td>...</td>\n",
              "      <td>...</td>\n",
              "      <td>...</td>\n",
              "      <td>...</td>\n",
              "      <td>...</td>\n",
              "      <td>...</td>\n",
              "      <td>...</td>\n",
              "      <td>...</td>\n",
              "      <td>...</td>\n",
              "      <td>...</td>\n",
              "      <td>...</td>\n",
              "    </tr>\n",
              "    <tr>\n",
              "      <th>452087</th>\n",
              "      <td>50231</td>\n",
              "      <td>210366869</td>\n",
              "      <td>1402</td>\n",
              "      <td>Other</td>\n",
              "      <td>VANDALISM</td>\n",
              "      <td>...</td>\n",
              "      <td>NaN</td>\n",
              "      <td>SCHOOL ST &amp; TREMONT ST\\nBOSTON  MA 02111\\nUNIT...</td>\n",
              "      <td>0.000000</td>\n",
              "      <td>0.000000</td>\n",
              "      <td>(0, 0)</td>\n",
              "    </tr>\n",
              "    <tr>\n",
              "      <th>452154</th>\n",
              "      <td>50298</td>\n",
              "      <td>210176632</td>\n",
              "      <td>3018</td>\n",
              "      <td>Other</td>\n",
              "      <td>SICK/INJURED/MEDICAL - POLICE</td>\n",
              "      <td>...</td>\n",
              "      <td>NaN</td>\n",
              "      <td>SCHROEDER PLZ</td>\n",
              "      <td>42.333679</td>\n",
              "      <td>-71.091878</td>\n",
              "      <td>(42.3336792181085, -71.0918775461846)</td>\n",
              "    </tr>\n",
              "    <tr>\n",
              "      <th>452159</th>\n",
              "      <td>50303</td>\n",
              "      <td>210140992</td>\n",
              "      <td>3805</td>\n",
              "      <td>Other</td>\n",
              "      <td>M/V ACCIDENT - POLICE VEHICLE</td>\n",
              "      <td>...</td>\n",
              "      <td>NaN</td>\n",
              "      <td>BOYLSTON ST.</td>\n",
              "      <td>42.351571</td>\n",
              "      <td>-71.071866</td>\n",
              "      <td>(42.3515707556266, -71.0718659907746)</td>\n",
              "    </tr>\n",
              "    <tr>\n",
              "      <th>452184</th>\n",
              "      <td>50328</td>\n",
              "      <td>210026907</td>\n",
              "      <td>1832</td>\n",
              "      <td>Other</td>\n",
              "      <td>SICK ASSIST - DRUG RELATED ILLNESS</td>\n",
              "      <td>...</td>\n",
              "      <td>NaN</td>\n",
              "      <td>POMPEII ST</td>\n",
              "      <td>42.329695</td>\n",
              "      <td>-71.070444</td>\n",
              "      <td>(42.3296947119465, -71.0704440989647)</td>\n",
              "    </tr>\n",
              "    <tr>\n",
              "      <th>452199</th>\n",
              "      <td>50343</td>\n",
              "      <td>201906722</td>\n",
              "      <td>2610</td>\n",
              "      <td>Other</td>\n",
              "      <td>TRESPASSING</td>\n",
              "      <td>...</td>\n",
              "      <td>NaN</td>\n",
              "      <td>WESLEYAN PLACE</td>\n",
              "      <td>0.000000</td>\n",
              "      <td>0.000000</td>\n",
              "      <td>(0, 0)</td>\n",
              "    </tr>\n",
              "  </tbody>\n",
              "</table>\n",
              "<p>2915 rows × 18 columns</p>\n",
              "</div>"
            ],
            "text/plain": [
              "        index INCIDENT_NUMBER  OFFENSE_CODE OFFENSE_CODE_GROUP  \\\n",
              "9           9      I182061268          3201      Property Lost   \n",
              "20         23      I182008210          1107              Fraud   \n",
              "1630     1798      I152106585          2907         Violations   \n",
              "2673     2964      I152105266           724         Auto Theft   \n",
              "2711     3005      I152105224          1849     Drug Violation   \n",
              "...       ...             ...           ...                ...   \n",
              "452087  50231       210366869          1402              Other   \n",
              "452154  50298       210176632          3018              Other   \n",
              "452159  50303       210140992          3805              Other   \n",
              "452184  50328       210026907          1832              Other   \n",
              "452199  50343       201906722          2610              Other   \n",
              "\n",
              "                         OFFENSE_DESCRIPTION  ...    UCR_PART  \\\n",
              "9                            PROPERTY - LOST  ...  Part Three   \n",
              "20                     FRAUD - IMPERSONATION  ...    Part Two   \n",
              "1630         VAL - OPERATING AFTER REV/SUSP.  ...    Part Two   \n",
              "2673                              AUTO THEFT  ...    Part One   \n",
              "2711    DRUGS - POSS CLASS B - COCAINE, ETC.  ...    Part Two   \n",
              "...                                      ...  ...         ...   \n",
              "452087                             VANDALISM  ...         NaN   \n",
              "452154         SICK/INJURED/MEDICAL - POLICE  ...         NaN   \n",
              "452159         M/V ACCIDENT - POLICE VEHICLE  ...         NaN   \n",
              "452184    SICK ASSIST - DRUG RELATED ILLNESS  ...         NaN   \n",
              "452199                           TRESPASSING  ...         NaN   \n",
              "\n",
              "                                                   STREET        Lat  \\\n",
              "9                                                 BERNARD  -1.000000   \n",
              "20                                                 COBDEN  -1.000000   \n",
              "1630                                                  NaN        NaN   \n",
              "2673                                          MARLBOROUGH        NaN   \n",
              "2711                                       DORCHESTER AVE        NaN   \n",
              "...                                                   ...        ...   \n",
              "452087  SCHOOL ST & TREMONT ST\\nBOSTON  MA 02111\\nUNIT...   0.000000   \n",
              "452154                                      SCHROEDER PLZ  42.333679   \n",
              "452159                                       BOYLSTON ST.  42.351571   \n",
              "452184                                         POMPEII ST  42.329695   \n",
              "452199                                     WESLEYAN PLACE   0.000000   \n",
              "\n",
              "             Long                               Location  \n",
              "9       -1.000000             (-1.00000000, -1.00000000)  \n",
              "20      -1.000000             (-1.00000000, -1.00000000)  \n",
              "1630          NaN               (0.00000000, 0.00000000)  \n",
              "2673          NaN               (0.00000000, 0.00000000)  \n",
              "2711          NaN               (0.00000000, 0.00000000)  \n",
              "...           ...                                    ...  \n",
              "452087   0.000000                                 (0, 0)  \n",
              "452154 -71.091878  (42.3336792181085, -71.0918775461846)  \n",
              "452159 -71.071866  (42.3515707556266, -71.0718659907746)  \n",
              "452184 -71.070444  (42.3296947119465, -71.0704440989647)  \n",
              "452199   0.000000                                 (0, 0)  \n",
              "\n",
              "[2915 rows x 18 columns]"
            ]
          },
          "metadata": {},
          "execution_count": 130
        }
      ]
    },
    {
      "cell_type": "markdown",
      "metadata": {
        "id": "1Mk9yRxvemds"
      },
      "source": [
        "# **Exploration**"
      ]
    },
    {
      "cell_type": "markdown",
      "metadata": {
        "id": "UJ3a_rNUeiML"
      },
      "source": [
        "## By Hour and Weekday"
      ]
    },
    {
      "cell_type": "code",
      "metadata": {
        "id": "nVMYXAU7e302",
        "colab": {
          "base_uri": "https://localhost:8080/",
          "height": 0
        },
        "outputId": "dcd98f67-0035-45c0-eb03-15a616471988"
      },
      "source": [
        "crimes_hour = Crimes_all_years.groupby('HOUR')['index'].agg(count='count')\n",
        "crimes_hour = pd.DataFrame({'HOUR':crimes_hour.index,'COUNT':crimes_hour['count']})\n",
        "ax = sns.barplot(x=crimes_hour.HOUR,y=crimes_hour.COUNT)\n",
        "sns.set_context({\"figure.figsize\":(10,10)})\n",
        "ax.set_title('Count of Crimes by Hour');"
      ],
      "execution_count": 59,
      "outputs": [
        {
          "output_type": "display_data",
          "data": {
            "image/png": "[encoded data removed]",
            "text/plain": [
              "<Figure size 432x288 with 1 Axes>"
            ]
          },
          "metadata": {
            "needs_background": "light"
          }
        }
      ]
    },
    {
      "cell_type": "code",
      "metadata": {
        "colab": {
          "base_uri": "https://localhost:8080/",
          "height": 0
        },
        "id": "KMNTL7cf3ewK",
        "outputId": "5c67fa89-0273-4ebb-db26-b4d337dc7ea8"
      },
      "source": [
        "crimes_weekday = Crimes_all_years.groupby('DAY_OF_WEEK')['index'].agg(count='count')\n",
        "crimes_weekday = crimes_weekday.reindex(['Monday','Tuesday','Wednesday','Thursday','Friday','Saturday','Sunday'])\n",
        "crimes_weekday = pd.DataFrame({'DAY_OF_WEEK':crimes_weekday.index,'COUNT':crimes_weekday['count']})\n",
        "ax = sns.barplot(x=crimes_weekday.DAY_OF_WEEK,y=crimes_weekday.COUNT)\n",
        "for p in ax.patches:\n",
        "    ax.annotate(\"%.0f\" % p.get_height(), (p.get_x() + p.get_width() / 2., p.get_height()),\n",
        "                ha='center', va='center', fontsize=11, color='black', xytext=(0, 20),\n",
        "                textcoords='offset points')\n",
        "ax.set(ylim=(60000, 76000))\n",
        "sns.set_context({\"figure.figsize\":(10,10)})\n",
        "ax.set_title('Count of Crimes by Day_of_week');"
      ],
      "execution_count": 60,
      "outputs": [
        {
          "output_type": "display_data",
          "data": {
            "image/png": "[encoded data removed]",
            "text/plain": [
              "<Figure size 720x720 with 1 Axes>"
            ]
          },
          "metadata": {
            "needs_background": "light"
          }
        }
      ]
    },
    {
      "cell_type": "code",
      "metadata": {
        "colab": {
          "base_uri": "https://localhost:8080/",
          "height": 0
        },
        "id": "s6VR7OyU2Hg0",
        "outputId": "88d6f919-f812-4ce7-ac61-f4f0bf40acf0"
      },
      "source": [
        "crimes_weekday_hour = Crimes_all_years.groupby(['DAY_OF_WEEK','HOUR'])['index'].aggregate('count').unstack()\n",
        "crimes_weekday_hour = crimes_weekday_hour.reindex(['Monday','Tuesday','Wednesday','Thursday','Friday','Saturday','Sunday'])\n",
        "sns.set_context({\"figure.figsize\":(20,20)})\n",
        "ax = sns.heatmap(crimes_weekday_hour,square=True,annot=False,fmt=\"d\",cmap=\"OrRd\",linewidths=0.5,cbar_kws={\"shrink\": 0.2}) \n",
        "ax.xaxis.tick_top()\n",
        "ax.set_title('Heatmap of Crime Count by Day_of_week and Hour');"
      ],
      "execution_count": 61,
      "outputs": [
        {
          "output_type": "display_data",
          "data": {
            "image/png": "[encoded data removed]",
            "text/plain": [
              "<Figure size 1440x1440 with 2 Axes>"
            ]
          },
          "metadata": {
            "needs_background": "light"
          }
        }
      ]
    },
    {
      "cell_type": "markdown",
      "metadata": {
        "id": "NCtdue7Ze0T5"
      },
      "source": [
        "## By Season"
      ]
    },
    {
      "cell_type": "code",
      "metadata": {
        "colab": {
          "base_uri": "https://localhost:8080/",
          "height": 999
        },
        "id": "iQxZ3aA7VU7n",
        "outputId": "6bccb1eb-2bdd-4a41-b235-4ff75c5e00f4"
      },
      "source": [
        "Crimes_all_years['SEASON']=None\n",
        "Crimes_all_years.loc[Crimes_all_years['MONTH'].isin([3,4,5]),'SEASON']='Spring'\n",
        "Crimes_all_years.loc[Crimes_all_years['MONTH'].isin([6,7,8]),'SEASON']='Summer'\n",
        "Crimes_all_years.loc[Crimes_all_years['MONTH'].isin([9,10,11]),'SEASON']='Fall'\n",
        "Crimes_all_years.loc[Crimes_all_years['MONTH'].isin([12,1,2]),'SEASON']='Winter'\n",
        "crimes_season = Crimes_all_years.groupby('SEASON')['index'].agg(count='count')\n",
        "crimes_season = crimes_season.reindex(['Spring','Summer','Fall','Winter'])\n",
        "crimes_season = pd.DataFrame({'SEASON':crimes_season.index,'COUNT':crimes_season['count']})\n",
        "ax = sns.barplot(x=crimes_season.SEASON,y=crimes_season.COUNT)\n",
        "for p in ax.patches:\n",
        "    ax.annotate(\"%.0f\" % p.get_height(), (p.get_x() + p.get_width() / 2., p.get_height()),\n",
        "                ha='center', va='center', fontsize=11, color='black', xytext=(0, 20),\n",
        "                textcoords='offset points')\n",
        "ax.set(ylim=(100000, 145000))\n",
        "sns.set_context({\"figure.figsize\":(10,10)})\n",
        "ax.set_title('Count of Crimes by Season');"
      ],
      "execution_count": 62,
      "outputs": [
        {
          "output_type": "display_data",
          "data": {
            "image/png": "[encoded data removed]",
            "text/plain": [
              "<Figure size 1440x1440 with 1 Axes>"
            ]
          },
          "metadata": {
            "needs_background": "light"
          }
        }
      ]
    },
    {
      "cell_type": "code",
      "metadata": {
        "colab": {
          "base_uri": "https://localhost:8080/",
          "height": 224
        },
        "id": "ZLrtJJR8FNEm",
        "outputId": "b8da3c8d-a2ae-4b26-aa80-bb5ea68aedf7"
      },
      "source": [
        "crimes_season_hour = Crimes_all_years.groupby(['SEASON','HOUR'])['index'].aggregate('count').unstack()\n",
        "crimes_season_hour = crimes_season_hour.reindex(['Spring','Summer','Fall','Winter'])\n",
        "sns.set_context({\"figure.figsize\":(20,20)})\n",
        "ax = sns.heatmap(crimes_season_hour,square=True,annot=False,fmt=\"d\",cmap=\"OrRd\",linewidths=0.5,cbar_kws={\"shrink\": 0.15}) \n",
        "ax.xaxis.tick_top()\n",
        "ax.set_title('Heatmap of Crime Count by Season and Hour');"
      ],
      "execution_count": 63,
      "outputs": [
        {
          "output_type": "display_data",
          "data": {
            "image/png": "[encoded data removed]",
            "text/plain": [
              "<Figure size 1440x1440 with 2 Axes>"
            ]
          },
          "metadata": {
            "needs_background": "light"
          }
        }
      ]
    },
    {
      "cell_type": "markdown",
      "metadata": {
        "id": "F7AeZ311fCOp"
      },
      "source": [
        "## By Year"
      ]
    },
    {
      "cell_type": "code",
      "metadata": {
        "id": "1wc2rDsKfC_a",
        "colab": {
          "base_uri": "https://localhost:8080/",
          "height": 621
        },
        "outputId": "e8aaf956-a50c-4c6f-a4c4-08dd109a7a34"
      },
      "source": [
        "crimes_year = Crimes_all_years.groupby('YEAR')['index'].agg(count='count')\n",
        "crimes_year = pd.DataFrame({'YEAR':crimes_year.index,'COUNT':crimes_year['count']})\n",
        "sns.set_context({\"figure.figsize\":(10,10)})\n",
        "ax = sns.barplot(x=crimes_year.YEAR,y=crimes_year.COUNT)\n",
        "for p in ax.patches:\n",
        "    ax.annotate(\"%.0f\" % p.get_height(), (p.get_x() + p.get_width() / 2., p.get_height()),\n",
        "                ha='center', va='center', fontsize=11, color='black', xytext=(0, 20),\n",
        "                textcoords='offset points')\n",
        "ax.set(ylim=(0, 110000))\n",
        "ax.set_title('Count of Crimes by Year');"
      ],
      "execution_count": 64,
      "outputs": [
        {
          "output_type": "display_data",
          "data": {
            "image/png": "[encoded data removed]",
            "text/plain": [
              "<Figure size 720x720 with 1 Axes>"
            ]
          },
          "metadata": {
            "needs_background": "light"
          }
        }
      ]
    },
    {
      "cell_type": "markdown",
      "metadata": {
        "id": "9jbwgho4G8IP"
      },
      "source": [
        "## By Offence Type"
      ]
    },
    {
      "cell_type": "markdown",
      "metadata": {
        "id": "ZMYXa-DNXw7_"
      },
      "source": [
        "Because offence types are only specified in OFFENSE_DESCRIPTION where OFFENSE_CODE_GROUP is 'other' since 2019, therefore the cleaned general office types are saved in the TYPE column."
      ]
    },
    {
      "cell_type": "code",
      "metadata": {
        "id": "Wy6YJOPxEuCS"
      },
      "source": [
        "Crimes_all_years['TYPE']=''\n",
        "def check(s):\n",
        "    s=s.lower()\n",
        "    if s.find('m/v') > -1:\n",
        "        s =  'motor vehicle accident response'\n",
        "    elif s.find('liquor/alcohol')>-1:\n",
        "        s = 'liquor/alcohol'\n",
        "    elif s.find('/') >= 0 or s.find('-') >= 0 or s.find('(') >= 0:\n",
        "        while s.find('/') >= 0 or s.find('-') >= 0 or s.find('(') >= 0:\n",
        "            if (s.find('/') > 0 and s.find('-') > 0 and s.find('(') > 0):\n",
        "                a = min(s.find('/'),s.find('-')-1,s.find('(')-1)\n",
        "            elif s.find('(') > 0:\n",
        "                a = s.find('(') -1\n",
        "            elif s.find('-') > 0:\n",
        "                a = s.find('-') -1\n",
        "            elif s.find('/') > 0:\n",
        "                a = s.find('/')\n",
        "            s = s[:a]\n",
        "    return s\n",
        "Crimes_all_years.loc[Crimes_all_years['YEAR']>2018,'TYPE']=Crimes_all_years.loc[Crimes_all_years['YEAR']>2018,'OFFENSE_DESCRIPTION']\n",
        "Crimes_all_years.loc[Crimes_all_years['YEAR']>2018,'TYPE']=Crimes_all_years[Crimes_all_years['YEAR']>2018]['TYPE'].apply(lambda x:check(x))\n",
        "Crimes_all_years.loc[Crimes_all_years['YEAR']<2019,'TYPE']=Crimes_all_years[Crimes_all_years['YEAR']<2019]['OFFENSE_CODE_GROUP'].apply(lambda x:check(x))"
      ],
      "execution_count": 65,
      "outputs": []
    },
    {
      "cell_type": "code",
      "metadata": {
        "colab": {
          "base_uri": "https://localhost:8080/",
          "height": 1000
        },
        "id": "H7CFlYkQPZbC",
        "outputId": "ae3f905e-7356-411f-84be-28952176a65c"
      },
      "source": [
        "crimes_offence = Crimes_all_years.groupby('TYPE')['index'].agg(count='count').sort_values(by='count',ascending=False)\n",
        "crimes_offence = pd.DataFrame({'OFFENSE_TYPE':crimes_offence.index,'COUNT':crimes_offence['count']})\n",
        "sns.set_context({\"figure.figsize\":(10,30)})\n",
        "ax = sns.barplot(y=crimes_offence.OFFENSE_TYPE,x=crimes_offence.COUNT);\n",
        "ax.set_title('Count of Crime by TYPE');"
      ],
      "execution_count": 66,
      "outputs": [
        {
          "output_type": "display_data",
          "data": {
            "image/png": "[encoded data removed]",
            "text/plain": [
              "<Figure size 720x2160 with 1 Axes>"
            ]
          },
          "metadata": {
            "needs_background": "light"
          }
        }
      ]
    },
    {
      "cell_type": "code",
      "metadata": {
        "colab": {
          "base_uri": "https://localhost:8080/",
          "height": 1000
        },
        "id": "0wDHFADyCEuN",
        "outputId": "f3986a73-b056-4299-9af8-5123c7f77a7e"
      },
      "source": [
        "def my_autopct(pct):\n",
        "    return ('%1.1f' % pct) if pct > 1 else ''\n",
        "\n",
        "def get_new_labels(sizes, labels):\n",
        "    new_labels = [label if size > 1 else '' for size, label in zip(sizes, labels)]\n",
        "    return new_labels\n",
        "\n",
        "fig, ax = plt.subplots()\n",
        "_,_,_ = ax.pie(crimes_offence, labels=get_new_labels(crimes_offence,crimes_offence.index), colors='rainbow', autopct=my_autopct, startangle=90, rotatelabels=False)"
      ],
      "execution_count": 67,
      "outputs": [
        {
          "output_type": "error",
          "ename": "TypeError",
          "evalue": "ignored",
          "traceback": [
            "\u001b[0;31m---------------------------------------------------------------------------\u001b[0m",
            "\u001b[0;31mTypeError\u001b[0m                                 Traceback (most recent call last)",
            "\u001b[0;32m<ipython-input-67-d1836e6bd00a>\u001b[0m in \u001b[0;36m<module>\u001b[0;34m()\u001b[0m\n\u001b[1;32m      7\u001b[0m \u001b[0;34m\u001b[0m\u001b[0m\n\u001b[1;32m      8\u001b[0m \u001b[0mfig\u001b[0m\u001b[0;34m,\u001b[0m \u001b[0max\u001b[0m \u001b[0;34m=\u001b[0m \u001b[0mplt\u001b[0m\u001b[0;34m.\u001b[0m\u001b[0msubplots\u001b[0m\u001b[0;34m(\u001b[0m\u001b[0;34m)\u001b[0m\u001b[0;34m\u001b[0m\u001b[0;34m\u001b[0m\u001b[0m\n\u001b[0;32m----> 9\u001b[0;31m \u001b[0m_\u001b[0m\u001b[0;34m,\u001b[0m\u001b[0m_\u001b[0m\u001b[0;34m,\u001b[0m\u001b[0m_\u001b[0m \u001b[0;34m=\u001b[0m \u001b[0max\u001b[0m\u001b[0;34m.\u001b[0m\u001b[0mpie\u001b[0m\u001b[0;34m(\u001b[0m\u001b[0mcrimes_offence\u001b[0m\u001b[0;34m,\u001b[0m \u001b[0mlabels\u001b[0m\u001b[0;34m=\u001b[0m\u001b[0mget_new_labels\u001b[0m\u001b[0;34m(\u001b[0m\u001b[0mcrimes_offence\u001b[0m\u001b[0;34m,\u001b[0m\u001b[0mcrimes_offence\u001b[0m\u001b[0;34m.\u001b[0m\u001b[0mindex\u001b[0m\u001b[0;34m)\u001b[0m\u001b[0;34m,\u001b[0m \u001b[0mcolors\u001b[0m\u001b[0;34m=\u001b[0m\u001b[0;34m'rainbow'\u001b[0m\u001b[0;34m,\u001b[0m \u001b[0mautopct\u001b[0m\u001b[0;34m=\u001b[0m\u001b[0mmy_autopct\u001b[0m\u001b[0;34m,\u001b[0m \u001b[0mstartangle\u001b[0m\u001b[0;34m=\u001b[0m\u001b[0;36m90\u001b[0m\u001b[0;34m,\u001b[0m \u001b[0mrotatelabels\u001b[0m\u001b[0;34m=\u001b[0m\u001b[0;32mFalse\u001b[0m\u001b[0;34m)\u001b[0m\u001b[0;34m\u001b[0m\u001b[0;34m\u001b[0m\u001b[0m\n\u001b[0m",
            "\u001b[0;32m<ipython-input-67-d1836e6bd00a>\u001b[0m in \u001b[0;36mget_new_labels\u001b[0;34m(sizes, labels)\u001b[0m\n\u001b[1;32m      3\u001b[0m \u001b[0;34m\u001b[0m\u001b[0m\n\u001b[1;32m      4\u001b[0m \u001b[0;32mdef\u001b[0m \u001b[0mget_new_labels\u001b[0m\u001b[0;34m(\u001b[0m\u001b[0msizes\u001b[0m\u001b[0;34m,\u001b[0m \u001b[0mlabels\u001b[0m\u001b[0;34m)\u001b[0m\u001b[0;34m:\u001b[0m\u001b[0;34m\u001b[0m\u001b[0;34m\u001b[0m\u001b[0m\n\u001b[0;32m----> 5\u001b[0;31m     \u001b[0mnew_labels\u001b[0m \u001b[0;34m=\u001b[0m \u001b[0;34m[\u001b[0m\u001b[0mlabel\u001b[0m \u001b[0;32mif\u001b[0m \u001b[0msize\u001b[0m \u001b[0;34m>\u001b[0m \u001b[0;36m1\u001b[0m \u001b[0;32melse\u001b[0m \u001b[0;34m''\u001b[0m \u001b[0;32mfor\u001b[0m \u001b[0msize\u001b[0m\u001b[0;34m,\u001b[0m \u001b[0mlabel\u001b[0m \u001b[0;32min\u001b[0m \u001b[0mzip\u001b[0m\u001b[0;34m(\u001b[0m\u001b[0msizes\u001b[0m\u001b[0;34m,\u001b[0m \u001b[0mlabels\u001b[0m\u001b[0;34m)\u001b[0m\u001b[0;34m]\u001b[0m\u001b[0;34m\u001b[0m\u001b[0;34m\u001b[0m\u001b[0m\n\u001b[0m\u001b[1;32m      6\u001b[0m     \u001b[0;32mreturn\u001b[0m \u001b[0mnew_labels\u001b[0m\u001b[0;34m\u001b[0m\u001b[0;34m\u001b[0m\u001b[0m\n\u001b[1;32m      7\u001b[0m \u001b[0;34m\u001b[0m\u001b[0m\n",
            "\u001b[0;32m<ipython-input-67-d1836e6bd00a>\u001b[0m in \u001b[0;36m<listcomp>\u001b[0;34m(.0)\u001b[0m\n\u001b[1;32m      3\u001b[0m \u001b[0;34m\u001b[0m\u001b[0m\n\u001b[1;32m      4\u001b[0m \u001b[0;32mdef\u001b[0m \u001b[0mget_new_labels\u001b[0m\u001b[0;34m(\u001b[0m\u001b[0msizes\u001b[0m\u001b[0;34m,\u001b[0m \u001b[0mlabels\u001b[0m\u001b[0;34m)\u001b[0m\u001b[0;34m:\u001b[0m\u001b[0;34m\u001b[0m\u001b[0;34m\u001b[0m\u001b[0m\n\u001b[0;32m----> 5\u001b[0;31m     \u001b[0mnew_labels\u001b[0m \u001b[0;34m=\u001b[0m \u001b[0;34m[\u001b[0m\u001b[0mlabel\u001b[0m \u001b[0;32mif\u001b[0m \u001b[0msize\u001b[0m \u001b[0;34m>\u001b[0m \u001b[0;36m1\u001b[0m \u001b[0;32melse\u001b[0m \u001b[0;34m''\u001b[0m \u001b[0;32mfor\u001b[0m \u001b[0msize\u001b[0m\u001b[0;34m,\u001b[0m \u001b[0mlabel\u001b[0m \u001b[0;32min\u001b[0m \u001b[0mzip\u001b[0m\u001b[0;34m(\u001b[0m\u001b[0msizes\u001b[0m\u001b[0;34m,\u001b[0m \u001b[0mlabels\u001b[0m\u001b[0;34m)\u001b[0m\u001b[0;34m]\u001b[0m\u001b[0;34m\u001b[0m\u001b[0;34m\u001b[0m\u001b[0m\n\u001b[0m\u001b[1;32m      6\u001b[0m     \u001b[0;32mreturn\u001b[0m \u001b[0mnew_labels\u001b[0m\u001b[0;34m\u001b[0m\u001b[0;34m\u001b[0m\u001b[0m\n\u001b[1;32m      7\u001b[0m \u001b[0;34m\u001b[0m\u001b[0m\n",
            "\u001b[0;31mTypeError\u001b[0m: '>' not supported between instances of 'str' and 'int'"
          ]
        },
        {
          "output_type": "display_data",
          "data": {
            "image/png": "[encoded data removed]",
            "text/plain": [
              "<Figure size 720x2160 with 1 Axes>"
            ]
          },
          "metadata": {
            "needs_background": "light"
          }
        }
      ]
    },
    {
      "cell_type": "code",
      "metadata": {
        "id": "VkkBnkF1-_6v"
      },
      "source": [
        "sum = crimes_offence['COUNT'].sum()\n",
        "def lab(s,i):\n",
        "    if i/sum > 0.05:\n",
        "        return s\n",
        "    else:\n",
        "        return ''\n",
        "plt.pie(crimes_offence['COUNT'], labels = [crimes_offence.index if crimes_offence['COUNT'] > 0.05 * sum else ''], startangle = 90,\n",
        "        counterclock = False, wedgeprops = {'width' : 0.4});\n",
        "plt.axis('square')"
      ],
      "execution_count": null,
      "outputs": []
    },
    {
      "cell_type": "code",
      "metadata": {
        "id": "bFk-g6cRasUB"
      },
      "source": [
        "crimes_weekday_hour = Crimes_all_years[Crimes_all_years['TYPE'] == 'motor vehicle accident response'].groupby(['DAY_OF_WEEK','HOUR'])['index'].aggregate('count').unstack()\n",
        "crimes_weekday_hour = crimes_weekday_hour.reindex(['Monday','Tuesday','Wednesday','Thursday','Friday','Saturday','Sunday'])\n",
        "sns.set_context({\"figure.figsize\":(20,20)})\n",
        "ax = sns.heatmap(crimes_weekday_hour,square=True,annot=False,fmt=\"d\",cmap=\"OrRd\",linewidths=0.5,cbar_kws={\"shrink\": 0.2}) \n",
        "ax.xaxis.tick_top()\n",
        "ax.set_title('Heatmap of Motor Vehicle Accident Response Count by Day_of_week and Hour');"
      ],
      "execution_count": null,
      "outputs": []
    },
    {
      "cell_type": "code",
      "metadata": {
        "id": "xxAjvk2pbMgB"
      },
      "source": [
        "crimes_weekday_hour = Crimes_all_years[Crimes_all_years['TYPE'] == 'investigate person'].groupby(['DAY_OF_WEEK','HOUR'])['index'].aggregate('count').unstack()\n",
        "crimes_weekday_hour = crimes_weekday_hour.reindex(['Monday','Tuesday','Wednesday','Thursday','Friday','Saturday','Sunday'])\n",
        "sns.set_context({\"figure.figsize\":(20,20)})\n",
        "ax = sns.heatmap(crimes_weekday_hour,square=True,annot=False,fmt=\"d\",cmap=\"OrRd\",linewidths=0.5,cbar_kws={\"shrink\": 0.2}) \n",
        "ax.xaxis.tick_top()\n",
        "ax.set_title('Heatmap of Investigate Person Count by Day_of_week and Hour');"
      ],
      "execution_count": null,
      "outputs": []
    },
    {
      "cell_type": "markdown",
      "metadata": {
        "id": "H_rV8xW-Somh"
      },
      "source": [
        "Line Chart"
      ]
    },
    {
      "cell_type": "code",
      "metadata": {
        "id": "GjakuAUcP_nj"
      },
      "source": [
        "crimes_weekday_hour = Crimes_all_years.groupby(['HOUR','YEAR'])['index'].aggregate(COUNT = 'count')\n",
        "sns.set_context({\"figure.figsize\":(10,10)})\n",
        "sns.lineplot(data=crimes_weekday_hour,x='HOUR',y='COUNT',hue='YEAR');"
      ],
      "execution_count": null,
      "outputs": []
    },
    {
      "cell_type": "code",
      "metadata": {
        "id": "AJWPtk0aTv0p"
      },
      "source": [
        "crimes_district_year = Crimes_all_years.groupby(['YEAR','DISTRICT'])['index'].aggregate(COUNT = 'count')\n",
        "crimes_district_year"
      ],
      "execution_count": null,
      "outputs": []
    },
    {
      "cell_type": "code",
      "metadata": {
        "id": "qPSIUmCLT1uh"
      },
      "source": [
        "sns.set_context({\"figure.figsize\":(10,10)})\n",
        "sns.lineplot(data=crimes_district_hour,x='YEAR',y='COUNT',hue='DISTRICT');"
      ],
      "execution_count": null,
      "outputs": []
    },
    {
      "cell_type": "code",
      "metadata": {
        "id": "6xn8shQSbW6U"
      },
      "source": [
        "crimes_weekday_hour = Crimes_all_years[Crimes_all_years['TYPE'] == 'larceny'].groupby(['DAY_OF_WEEK','HOUR'])['index'].aggregate('count').unstack()\n",
        "crimes_weekday_hour = crimes_weekday_hour.reindex(['Monday','Tuesday','Wednesday','Thursday','Friday','Saturday','Sunday'])\n",
        "sns.set_context({\"figure.figsize\":(20,20)})\n",
        "ax = sns.heatmap(crimes_weekday_hour,square=True,annot=False,fmt=\"d\",cmap=\"OrRd\",linewidths=0.5,cbar_kws={\"shrink\": 0.2}) \n",
        "ax.xaxis.tick_top()\n",
        "ax.set_title('Heatmap of Larceny by Day_of_week and Hour');"
      ],
      "execution_count": null,
      "outputs": []
    },
    {
      "cell_type": "code",
      "metadata": {
        "id": "_dAukZ2DdIR_"
      },
      "source": [
        "Crimes_all_years[Crimes_all_years['TYPE'] == 'motor vehicle accident response'].groupby('STREET')['index'].agg(count='count').sort_values(by='count',ascending=False).head(5)"
      ],
      "execution_count": null,
      "outputs": []
    },
    {
      "cell_type": "code",
      "metadata": {
        "id": "70INPl_xe7Zt"
      },
      "source": [
        "Crimes_all_years[Crimes_all_years['TYPE'] == 'larceny'].groupby('STREET')['index'].agg(count='count').sort_values(by='count',ascending=False).head(5)"
      ],
      "execution_count": null,
      "outputs": []
    },
    {
      "cell_type": "code",
      "metadata": {
        "id": "nr10lql0fMF-"
      },
      "source": [
        "Crimes_all_years[Crimes_all_years['TYPE'] == 'vandalism'].groupby('STREET')['index'].agg(count='count').sort_values(by='count',ascending=False).head(5)"
      ],
      "execution_count": null,
      "outputs": []
    },
    {
      "cell_type": "markdown",
      "metadata": {
        "id": "PFvWCwRNpBRl"
      },
      "source": [
        "## Analysis on Street"
      ]
    },
    {
      "cell_type": "code",
      "metadata": {
        "id": "qizxj555pKPg"
      },
      "source": [
        "street_rank = Crimes_all_years.groupby('STREET')['index'].agg(count='count').sort_values(by='count',ascending=False)[:10]"
      ],
      "execution_count": null,
      "outputs": []
    },
    {
      "cell_type": "code",
      "metadata": {
        "id": "nBmSjOiFpt1r"
      },
      "source": [
        "crimes_street_hour = Crimes_all_years[Crimes_all_years['STREET'].isin(street_rank.index)].groupby(['STREET','HOUR'])['index'].aggregate('count').unstack().reindex(list(street_rank.index))\n",
        "sns.set_context({\"figure.figsize\":(20,20)})\n",
        "ax = sns.heatmap(crimes_street_hour,square=True,annot=False,fmt=\"d\",cmap=\"rainbow\",linewidths=0.5,cbar_kws={\"shrink\": 0.2}) \n",
        "ax.xaxis.tick_top()\n",
        "ax.set_title('Heatmap of Larceny by Day_of_week and Hour');"
      ],
      "execution_count": null,
      "outputs": []
    },
    {
      "cell_type": "markdown",
      "metadata": {
        "id": "3yKEmX4efWAY"
      },
      "source": [
        "## Analysis on District "
      ]
    },
    {
      "cell_type": "code",
      "metadata": {
        "id": "sGXE4votzOH3"
      },
      "source": [
        "gm=pd.DataFrame({'District':Crime_all_years['DISTRICT'],'Year':Crime_all_years['YEAR']})\n",
        "ax=gm.groupby(['District','Year']).agg({'Year':'count'})\n",
        "ap = ax.unstack(level=0).plot(kind='line', subplots=True, rot=0, layout=(7,2) )\n",
        "plt.tight_layout()"
      ],
      "execution_count": null,
      "outputs": []
    },
    {
      "cell_type": "code",
      "metadata": {
        "id": "BpTwkC-zFFfw"
      },
      "source": [
        "\n",
        "crimes_District_year = Crimes_all_years.groupby(['DISTRICT','YEAR'])['index'].aggregate('count').unstack()\n",
        "crimes_District_year = crimes_District_year.reindex(['B2', 'C11', 'A1', 'E18', 'D4', 'B3', 'C6', 'D14', 'A7', 'E5',\n",
        "       'E13', 'A15', 'External'])\n",
        "ax = sns.heatmap(crimes_District_year,square=True,annot=False,fmt=\"d\",cmap=\"OrRd\",linewidths=0.5,cbar_kws={\"shrink\": 0.2}) \n",
        "ax.xaxis.tick_top()\n",
        "ax.set_title('Heatmap of District by Year')"
      ],
      "execution_count": null,
      "outputs": []
    },
    {
      "cell_type": "code",
      "metadata": {
        "id": "FKkr1YuyHs06"
      },
      "source": [
        "\n",
        "crimes_District_month = Crimes_all_years.groupby(['DISTRICT','MONTH'])['index'].aggregate('count').unstack()\n",
        "crimes_District_month = crimes_District_year.reindex(['B2', 'C11', 'A1', 'E18', 'D4', 'B3', 'C6', 'D14', 'A7', 'E5',\n",
        "       'E13', 'A15', 'External'])\n",
        "ax = sns.heatmap(crimes_District_month,square=True,annot=False,fmt=\"d\",cmap=\"OrRd\",linewidths=0.5,cbar_kws={\"shrink\": 0.2}) \n",
        "ax.xaxis.tick_top()\n",
        "ax.set_title('Heatmap of District by Month')"
      ],
      "execution_count": null,
      "outputs": []
    },
    {
      "cell_type": "code",
      "metadata": {
        "id": "iV26n1KPvTwi"
      },
      "source": [
        "\n",
        "crimes_District_season = Crimes_all_years.groupby(['DISTRICT','SEASON'])['index'].aggregate('count').unstack()\n",
        "crimes_District_season = crimes_District_season.reindex(['B2', 'C11', 'A1', 'E18', 'D4', 'B3', 'C6', 'D14', 'A7', 'E5',\n",
        "       'E13', 'A15', 'External'])\n",
        "ax = sns.heatmap(crimes_District_season,square=True,annot=False,fmt=\"d\",cmap=\"OrRd\",linewidths=0.5,cbar_kws={\"shrink\": 0.2}) \n",
        "ax.xaxis.tick_top()\n",
        "ax.set_title('Heatmap of District by Season')\n"
      ],
      "execution_count": null,
      "outputs": []
    },
    {
      "cell_type": "code",
      "metadata": {
        "id": "vxpr2phvwLnZ"
      },
      "source": [
        "\n",
        "crimes_District_weeksdays = Crimes_all_years.groupby(['DAY_OF_WEEK','DISTRICT'])['index'].aggregate('count').unstack()\n",
        "crimes_District_weeksdays = crimes_District_weeksdays.reindex(['Monday','Tuesday','Wednesday','Thursday','Friday','Saturday','Sunday'])\n",
        "ax = sns.heatmap(crimes_District_weeksdays,square=True,annot=False,fmt=\"d\",cmap=\"OrRd\",linewidths=0.5,cbar_kws={\"shrink\": 0.2}) \n",
        "ax.xaxis.tick_top()\n",
        "ax.set_title('Heatmap of District by day of week')"
      ],
      "execution_count": null,
      "outputs": []
    },
    {
      "cell_type": "code",
      "metadata": {
        "id": "W2zX5rrLsPHG"
      },
      "source": [
        "Crimes_all_years['Holiday']=None\n",
        "Crimes_all_years.loc[Crimes_all_years['MONTH'].isin([12]),'Holiday']=1\n",
        "Crimes_all_years.loc[Crimes_all_years['MONTH'].isin([1,2,3,4,5,6,7,8,9,10,11]),'Holiday']=0\n",
        "Crime_all_years.info()"
      ],
      "execution_count": null,
      "outputs": []
    },
    {
      "cell_type": "code",
      "metadata": {
        "id": "ZBklD0NBiqRs"
      },
      "source": [
        "mydate=Crime_all_years['OCCURRED_ON_DATE']\n",
        "DATE = []\n",
        "\n",
        "for date in mydate:\n",
        "    year = int(date[:4])\n",
        "    month = int(date[5:7])\n",
        "    day = int(date[8:10])\n",
        "    DATE.append([year, month, day])\n",
        "    \n",
        "\n",
        "Crime_all_years['DATE']=DATE\n",
        "\n",
        "Holiday=[]\n",
        "\n",
        "month=Crime_all_years['MONTH']\n",
        "day=Crime_all_years['DAY']\n",
        "for var in month:\n",
        "  if var ==12:\n",
        "   for d in day:\n",
        "     if d == 24:\n",
        "      Holiday.append(1)\n",
        "     else:\n",
        "      Holiday.append(0)\n"
      ],
      "execution_count": null,
      "outputs": []
    },
    {
      "cell_type": "markdown",
      "metadata": {
        "id": "u4eEJA2jSuDd"
      },
      "source": [
        "## Map"
      ]
    }
  ]
}